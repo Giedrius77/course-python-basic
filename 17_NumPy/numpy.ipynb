{
 "cells": [
  {
   "cell_type": "markdown",
   "metadata": {},
   "source": [
    "# NumPy"
   ]
  },
  {
   "cell_type": "markdown",
   "metadata": {},
   "source": [
    "* NumPy yra tiesinės algebros biblioteka. Jos pagrindu sukurtos beveik visos su duomenų mokslu susijusios bibliotekos, tokios kaip Pandas ir kt. Numpy yra itin greita, nes yra susieta ryšiais(bindings) su C kalba parašytais moduliais. \n",
    "\n",
    "* Standartiškai įsidiegia *pip install numpy*, jeigu naudojate Anaconda - *conda install numpy*\n",
    "* Dažniausiai naudojamas NumPy ingredientas - NumPy masyvai. Jie būna dviejų tipų - vektoriai ir matricos.  "
   ]
  },
  {
   "cell_type": "markdown",
   "metadata": {},
   "source": [
    "Prieš pradedant darbą su NumPy, reikia jį importuoti."
   ]
  },
  {
   "cell_type": "code",
   "execution_count": 2,
   "metadata": {},
   "outputs": [],
   "source": [
    "import numpy as np"
   ]
  },
  {
   "cell_type": "markdown",
   "metadata": {},
   "source": [
    "tarkime, turime paprastą Python list'ą:"
   ]
  },
  {
   "cell_type": "code",
   "execution_count": 11,
   "metadata": {},
   "outputs": [],
   "source": [
    "listas = [1, 2, 3, 4, 5]"
   ]
  },
  {
   "cell_type": "markdown",
   "metadata": {},
   "source": [
    "paveskime jį į NumPy array:"
   ]
  },
  {
   "cell_type": "code",
   "execution_count": 12,
   "metadata": {},
   "outputs": [],
   "source": [
    "arr = np.array(listas)"
   ]
  },
  {
   "cell_type": "code",
   "execution_count": 14,
   "metadata": {},
   "outputs": [
    {
     "data": {
      "text/plain": [
       "array([1, 2, 3, 4, 5])"
      ]
     },
     "execution_count": 14,
     "metadata": {},
     "output_type": "execute_result"
    }
   ],
   "source": [
    "arr\n"
   ]
  },
  {
   "cell_type": "code",
   "execution_count": 15,
   "metadata": {},
   "outputs": [
    {
     "name": "stdout",
     "output_type": "stream",
     "text": [
      "[1 2 3 4 5]\n"
     ]
    }
   ],
   "source": [
    "# atspausdins sarasa be kableliu\n",
    "print(arr)"
   ]
  },
  {
   "cell_type": "markdown",
   "metadata": {},
   "source": [
    "gauname 1 lygio NumPy masyvą (vektorių). Jeigu norime matricos, turime sukurti keletą masyvų masyve:"
   ]
  },
  {
   "cell_type": "code",
   "execution_count": 4,
   "metadata": {},
   "outputs": [],
   "source": [
    "# sarsai sarase!, kad gautume MATRICA\n",
    "mano_listai = [[1, 2, 3],[4, 5, 6],[7, 8, 9]]\n",
    "matrica = np.array(mano_listai)\n"
   ]
  },
  {
   "cell_type": "code",
   "execution_count": 5,
   "metadata": {},
   "outputs": [
    {
     "data": {
      "text/plain": [
       "array([[1, 2, 3],\n",
       "       [4, 5, 6],\n",
       "       [7, 8, 9]])"
      ]
     },
     "execution_count": 5,
     "metadata": {},
     "output_type": "execute_result"
    }
   ],
   "source": [
    "# atspausdins array matrica\n",
    "matrica"
   ]
  },
  {
   "cell_type": "code",
   "execution_count": 16,
   "metadata": {},
   "outputs": [
    {
     "name": "stdout",
     "output_type": "stream",
     "text": [
      "[[1 2 3]\n",
      " [4 5 6]\n",
      " [7 8 9]]\n"
     ]
    }
   ],
   "source": [
    "# atspausdins matrica be kableliu\n",
    "print(matrica)"
   ]
  },
  {
   "cell_type": "markdown",
   "metadata": {},
   "source": [
    "NumPy turi ir integruotus, paprastus būdus susikurti masyvą. Skliausteliuose reikia įrašyti start, stop ir step(nebūtina) reikšmes:"
   ]
  },
  {
   "cell_type": "code",
   "execution_count": 11,
   "metadata": {},
   "outputs": [
    {
     "data": {
      "text/plain": [
       "array([ 0,  3,  6,  9, 12, 15, 18, 21, 24, 27])"
      ]
     },
     "execution_count": 11,
     "metadata": {},
     "output_type": "execute_result"
    }
   ],
   "source": [
    "# masyvas nuo 0-start iki 30-stop kas trecia zingsni 3-step \n",
    "np.arange(0,30,3)"
   ]
  },
  {
   "cell_type": "code",
   "execution_count": 17,
   "metadata": {},
   "outputs": [
    {
     "data": {
      "text/plain": [
       "array([ 0,  1,  2,  3,  4,  5,  6,  7,  8,  9, 10, 11, 12, 13, 14, 15, 16,\n",
       "       17, 18, 19, 20, 21, 22, 23, 24, 25, 26, 27, 28, 29])"
      ]
     },
     "execution_count": 17,
     "metadata": {},
     "output_type": "execute_result"
    }
   ],
   "source": [
    "# atspausdins masyva nuo 0 iki 30 (30 neitrauktas), nes nenurodeme STEP\n",
    "np.arange(0, 30)"
   ]
  },
  {
   "cell_type": "code",
   "execution_count": 18,
   "metadata": {},
   "outputs": [
    {
     "name": "stdout",
     "output_type": "stream",
     "text": [
      "[ 0  1  2  3  4  5  6  7  8  9 10 11 12 13 14 15 16 17 18 19 20 21 22 23\n",
      " 24 25 26 27 28 29]\n"
     ]
    }
   ],
   "source": [
    "# su print funkcija mes gausime masyva/sarasa be kableliu\n",
    "print(np.arange(0, 30))"
   ]
  },
  {
   "cell_type": "markdown",
   "metadata": {},
   "source": [
    "jeigu reikia vektoriaus iš nulių:"
   ]
  },
  {
   "cell_type": "code",
   "execution_count": 12,
   "metadata": {},
   "outputs": [
    {
     "data": {
      "text/plain": [
       "array([0., 0., 0., 0., 0., 0., 0., 0., 0., 0.])"
      ]
     },
     "execution_count": 12,
     "metadata": {},
     "output_type": "execute_result"
    }
   ],
   "source": [
    "# nurodome kiek NULIU array vektoriuje\n",
    "np.zeros(10)"
   ]
  },
  {
   "cell_type": "code",
   "execution_count": 19,
   "metadata": {},
   "outputs": [
    {
     "name": "stdout",
     "output_type": "stream",
     "text": [
      "[0. 0. 0. 0. 0. 0. 0. 0. 0. 0.]\n"
     ]
    }
   ],
   "source": [
    "# nurodome kiek NULIU array vektoriuje/sarase be kableliu\n",
    "print(np.zeros(10))"
   ]
  },
  {
   "cell_type": "markdown",
   "metadata": {},
   "source": [
    "jeigu matricos iš nulių:"
   ]
  },
  {
   "cell_type": "code",
   "execution_count": 13,
   "metadata": {},
   "outputs": [
    {
     "data": {
      "text/plain": [
       "array([[0., 0., 0., 0., 0.],\n",
       "       [0., 0., 0., 0., 0.],\n",
       "       [0., 0., 0., 0., 0.],\n",
       "       [0., 0., 0., 0., 0.],\n",
       "       [0., 0., 0., 0., 0.]])"
      ]
     },
     "execution_count": 13,
     "metadata": {},
     "output_type": "execute_result"
    }
   ],
   "source": [
    "# nurodome kiek 0 ir kiek eiluciu MATRICOJE\n",
    "np.zeros((5,5))"
   ]
  },
  {
   "cell_type": "code",
   "execution_count": 20,
   "metadata": {},
   "outputs": [
    {
     "name": "stdout",
     "output_type": "stream",
     "text": [
      "[[0. 0. 0. 0. 0.]\n",
      " [0. 0. 0. 0. 0.]\n",
      " [0. 0. 0. 0. 0.]\n",
      " [0. 0. 0. 0. 0.]\n",
      " [0. 0. 0. 0. 0.]]\n"
     ]
    }
   ],
   "source": [
    "# nurodome kiek 0 ir kiek eiluciu MATRICOJE be kableliu\n",
    "print(np.zeros((5,5)))"
   ]
  },
  {
   "cell_type": "markdown",
   "metadata": {},
   "source": [
    "Analogiškai veikia np.ones metodas.\n",
    "Dar viena naudinga funkcija - linspace. Ji grąžina masyvą, su lygiais intervalais išdėliotomis reikšmėmis. Reikia nurodyti start, stop ir intervalo reikšmes:"
   ]
  },
  {
   "cell_type": "code",
   "execution_count": 21,
   "metadata": {},
   "outputs": [
    {
     "data": {
      "text/plain": [
       "array([ 0.        ,  1.33333333,  2.66666667,  4.        ,  5.33333333,\n",
       "        6.66666667,  8.        ,  9.33333333, 10.66666667, 12.        ,\n",
       "       13.33333333, 14.66666667, 16.        , 17.33333333, 18.66666667,\n",
       "       20.        ])"
      ]
     },
     "execution_count": 21,
     "metadata": {},
     "output_type": "execute_result"
    }
   ],
   "source": [
    "np.linspace(0,20,16)"
   ]
  },
  {
   "cell_type": "markdown",
   "metadata": {},
   "source": [
    "Jeigu prireikė vienetinės matricos:"
   ]
  },
  {
   "cell_type": "code",
   "execution_count": 22,
   "metadata": {},
   "outputs": [
    {
     "data": {
      "text/plain": [
       "array([[1., 0., 0., 0., 0., 0.],\n",
       "       [0., 1., 0., 0., 0., 0.],\n",
       "       [0., 0., 1., 0., 0., 0.],\n",
       "       [0., 0., 0., 1., 0., 0.],\n",
       "       [0., 0., 0., 0., 1., 0.],\n",
       "       [0., 0., 0., 0., 0., 1.]])"
      ]
     },
     "execution_count": 22,
     "metadata": {},
     "output_type": "execute_result"
    }
   ],
   "source": [
    "# vinetukus atspausdina ustryzai\n",
    "np.eye(6)"
   ]
  },
  {
   "cell_type": "code",
   "execution_count": 23,
   "metadata": {},
   "outputs": [
    {
     "name": "stdout",
     "output_type": "stream",
     "text": [
      "[[1. 0. 0. 0. 0. 0.]\n",
      " [0. 1. 0. 0. 0. 0.]\n",
      " [0. 0. 1. 0. 0. 0.]\n",
      " [0. 0. 0. 1. 0. 0.]\n",
      " [0. 0. 0. 0. 1. 0.]\n",
      " [0. 0. 0. 0. 0. 1.]]\n"
     ]
    }
   ],
   "source": [
    "print(np.eye(6))"
   ]
  },
  {
   "cell_type": "markdown",
   "metadata": {},
   "source": [
    "# Random arrays kūrimas"
   ]
  },
  {
   "cell_type": "markdown",
   "metadata": {},
   "source": [
    "Pirmas metodas susikurti random array - **np.random.rand()**. Jo pagalba galime susikurti masyvą su atsitiktinėm reikšmėm nuo 0 iki 1 *(\"uniform\" distribution)*"
   ]
  },
  {
   "cell_type": "code",
   "execution_count": 24,
   "metadata": {},
   "outputs": [
    {
     "data": {
      "text/plain": [
       "array([0.84032879, 0.86280805, 0.84894727, 0.91465531, 0.67711229,\n",
       "       0.23896788, 0.59708363, 0.91831292, 0.93135769, 0.45347561])"
      ]
     },
     "execution_count": 24,
     "metadata": {},
     "output_type": "execute_result"
    }
   ],
   "source": [
    "# uztenka nurodyti viena reiksme kad isvestu 10 atsitiktiniu reiksmiu\n",
    "np.random.rand(10)"
   ]
  },
  {
   "cell_type": "code",
   "execution_count": 28,
   "metadata": {},
   "outputs": [
    {
     "data": {
      "text/plain": [
       "14"
      ]
     },
     "execution_count": 28,
     "metadata": {},
     "output_type": "execute_result"
    }
   ],
   "source": [
    "# reikia dvieju reiksmiu kad isvestu viena atsitiktine reiksme\n",
    "np.random.randint(10, 189)"
   ]
  },
  {
   "cell_type": "markdown",
   "metadata": {},
   "source": [
    "jeigu norime ne vektoriaus, o matricos:"
   ]
  },
  {
   "cell_type": "code",
   "execution_count": 30,
   "metadata": {},
   "outputs": [
    {
     "data": {
      "text/plain": [
       "array([[0.97776967, 0.31651386, 0.2895369 , 0.82707274, 0.17425661],\n",
       "       [0.02955936, 0.65921679, 0.14183047, 0.55615811, 0.94624019],\n",
       "       [0.43284706, 0.69233321, 0.77868588, 0.68941459, 0.94640484],\n",
       "       [0.32007998, 0.89067167, 0.02839016, 0.55131324, 0.39605033],\n",
       "       [0.34309048, 0.74772756, 0.4908593 , 0.08217702, 0.75064696]])"
      ]
     },
     "execution_count": 30,
     "metadata": {},
     "output_type": "execute_result"
    }
   ],
   "source": [
    "np.random.rand(5,5)"
   ]
  },
  {
   "cell_type": "markdown",
   "metadata": {},
   "source": [
    "**np.random.randn()** sugeneruos reikšmes iš  *“standard normal” distribution* (standartinis normalusis skirstinys)"
   ]
  },
  {
   "cell_type": "code",
   "execution_count": 32,
   "metadata": {},
   "outputs": [
    {
     "data": {
      "text/plain": [
       "array([[ 0.69616895, -1.15384669,  0.75971568],\n",
       "       [-2.30521987,  0.77950811, -1.06603416],\n",
       "       [-1.90750505, -0.47687528, -0.26325612]])"
      ]
     },
     "execution_count": 32,
     "metadata": {},
     "output_type": "execute_result"
    }
   ],
   "source": [
    "np.random.randn(3,3)"
   ]
  },
  {
   "cell_type": "markdown",
   "metadata": {},
   "source": [
    "**np.random.randint()** sugeneruoja atsitiktines integer reikšmes. Parametruose reikia nurodyti, žemiausią, aukščiausią (neįskaitant) reikšmes ir norimą kiekį reikšmių."
   ]
  },
  {
   "cell_type": "code",
   "execution_count": 19,
   "metadata": {},
   "outputs": [
    {
     "data": {
      "text/plain": [
       "array([159, 141, 150, 181, 184, 124, 177, 185, 138, 117, 129, 187, 190,\n",
       "       100, 195, 126, 164, 117, 158, 136])"
      ]
     },
     "execution_count": 19,
     "metadata": {},
     "output_type": "execute_result"
    }
   ],
   "source": [
    "np.random.randint(100, 200, 20)"
   ]
  },
  {
   "cell_type": "markdown",
   "metadata": {},
   "source": [
    "# Masyvų pertvarkymas"
   ]
  },
  {
   "cell_type": "markdown",
   "metadata": {},
   "source": [
    "**reshape()** metodas leidžia mums performuoti turimą masyvą į kitą formą:"
   ]
  },
  {
   "cell_type": "code",
   "execution_count": 7,
   "metadata": {},
   "outputs": [],
   "source": [
    "# randint reikia nurodyti maziausia ir didziausia reiksmes, bei nurodyti kiek atspausinti reiksmiu (siu atveju 64) \n",
    "my_array = np.random.randint(0, 100, 64)"
   ]
  },
  {
   "cell_type": "code",
   "execution_count": 8,
   "metadata": {},
   "outputs": [
    {
     "data": {
      "text/plain": [
       "array([71, 41, 52, 31, 16, 83, 69, 52, 85, 39, 47, 28, 35, 83, 78, 77, 29,\n",
       "       65, 45, 49, 36,  0, 95, 64, 97, 13, 25, 63, 61,  2, 61, 24, 36, 89,\n",
       "       62, 28, 12, 56, 92, 48, 84, 86, 95, 17, 95, 45, 85, 44, 60,  6, 66,\n",
       "       82, 51,  0, 18, 25, 10, 97, 20, 39, 61, 25, 15, 29])"
      ]
     },
     "execution_count": 8,
     "metadata": {},
     "output_type": "execute_result"
    }
   ],
   "source": [
    "my_array"
   ]
  },
  {
   "cell_type": "code",
   "execution_count": 14,
   "metadata": {},
   "outputs": [],
   "source": [
    "# cia nurodome pakeisti musu sarasa i lentele 8 ant 8 formos\n",
    "reshaped_array = my_array.reshape(8,8)"
   ]
  },
  {
   "cell_type": "code",
   "execution_count": 18,
   "metadata": {},
   "outputs": [
    {
     "data": {
      "text/plain": [
       "array([[71, 41, 52, 31, 16, 83, 69, 52],\n",
       "       [85, 39, 47, 28, 35, 83, 78, 77],\n",
       "       [29, 65, 45, 49, 36,  0, 95, 64],\n",
       "       [97, 13, 25, 63, 61,  2, 61, 24],\n",
       "       [36, 89, 62, 28, 12, 56, 92, 48],\n",
       "       [84, 86, 95, 17, 95, 45, 85, 44],\n",
       "       [60,  6, 66, 82, 51,  0, 18, 25],\n",
       "       [10, 97, 20, 39, 61, 25, 15, 29]])"
      ]
     },
     "execution_count": 18,
     "metadata": {},
     "output_type": "execute_result"
    }
   ],
   "source": [
    "reshaped_array"
   ]
  },
  {
   "cell_type": "markdown",
   "metadata": {},
   "source": [
    "šiame pavyzdyje vektorių iš 64 reikšmių performavome į 8x8 matricą."
   ]
  },
  {
   "cell_type": "code",
   "execution_count": 16,
   "metadata": {},
   "outputs": [],
   "source": [
    "# cia nurodome pakeisti musu lentele atgal i sarasa\n",
    "returned_back_array = my_array.reshape(64)"
   ]
  },
  {
   "cell_type": "code",
   "execution_count": 17,
   "metadata": {},
   "outputs": [
    {
     "data": {
      "text/plain": [
       "array([71, 41, 52, 31, 16, 83, 69, 52, 85, 39, 47, 28, 35, 83, 78, 77, 29,\n",
       "       65, 45, 49, 36,  0, 95, 64, 97, 13, 25, 63, 61,  2, 61, 24, 36, 89,\n",
       "       62, 28, 12, 56, 92, 48, 84, 86, 95, 17, 95, 45, 85, 44, 60,  6, 66,\n",
       "       82, 51,  0, 18, 25, 10, 97, 20, 39, 61, 25, 15, 29])"
      ]
     },
     "execution_count": 17,
     "metadata": {},
     "output_type": "execute_result"
    }
   ],
   "source": [
    "returned_back_array"
   ]
  },
  {
   "cell_type": "code",
   "execution_count": 21,
   "metadata": {},
   "outputs": [],
   "source": [
    "# randint reikia nurodyti maziausia ir didziausia reiksmes, nurodyti kiek atspausinti reiksmiu - NEGALIMA!\n",
    "# bei suformuojame matrica is kart\n",
    "my_array_matrica = np.random.randint(0, 100, (8, 8))"
   ]
  },
  {
   "cell_type": "code",
   "execution_count": 22,
   "metadata": {},
   "outputs": [
    {
     "data": {
      "text/plain": [
       "array([[44, 19, 22, 52, 33, 81, 40, 75],\n",
       "       [24, 90, 60, 25, 27, 82,  9, 14],\n",
       "       [51, 11, 55, 18, 29, 15, 10, 42],\n",
       "       [73, 35, 54, 70, 92, 20,  4, 70],\n",
       "       [49, 48, 61, 68, 57, 49, 57, 14],\n",
       "       [19, 25,  4, 27, 25, 74, 60, 54],\n",
       "       [40, 83, 79, 75, 36, 91, 77,  9],\n",
       "       [39, 94, 72,  1, 11, 52, 59, 87]])"
      ]
     },
     "execution_count": 22,
     "metadata": {},
     "output_type": "execute_result"
    }
   ],
   "source": [
    "my_array_matrica"
   ]
  },
  {
   "cell_type": "markdown",
   "metadata": {},
   "source": [
    "# Naudingi Metodai"
   ]
  },
  {
   "cell_type": "markdown",
   "metadata": {},
   "source": [
    "**max()** ir **.min()** metodai ištraukia maksimalią ir minimalią reikšmes iš masyvo:"
   ]
  },
  {
   "cell_type": "code",
   "execution_count": null,
   "metadata": {},
   "outputs": [],
   "source": [
    "my_array.min()"
   ]
  },
  {
   "cell_type": "code",
   "execution_count": null,
   "metadata": {},
   "outputs": [],
   "source": [
    "my_array.max()"
   ]
  },
  {
   "cell_type": "markdown",
   "metadata": {},
   "source": [
    "**argmax()** ir **argmin()** nurodo mums maksimalios ir minimalios reikšmių indeksą:"
   ]
  },
  {
   "cell_type": "code",
   "execution_count": null,
   "metadata": {},
   "outputs": [],
   "source": [
    "my_array.argmax()"
   ]
  },
  {
   "cell_type": "code",
   "execution_count": null,
   "metadata": {},
   "outputs": [],
   "source": [
    "my_array.argmin()"
   ]
  },
  {
   "cell_type": "markdown",
   "metadata": {},
   "source": [
    "**.shape** nurodo, kokią formą turi mūsų masyvas:"
   ]
  },
  {
   "cell_type": "code",
   "execution_count": null,
   "metadata": {},
   "outputs": [],
   "source": [
    "reshaped_array.shape"
   ]
  },
  {
   "cell_type": "markdown",
   "metadata": {},
   "source": [
    "**.dtype** nurodo, koks duomenų tipas yra mūsų masyve:"
   ]
  },
  {
   "cell_type": "code",
   "execution_count": null,
   "metadata": {},
   "outputs": [],
   "source": [
    "reshaped_array.dtype"
   ]
  },
  {
   "cell_type": "markdown",
   "metadata": {},
   "source": [
    "# Indeksacija ir reikšmių traukimas"
   ]
  },
  {
   "cell_type": "code",
   "execution_count": 24,
   "metadata": {},
   "outputs": [],
   "source": [
    "sample_array = np.arange(1,10)"
   ]
  },
  {
   "cell_type": "code",
   "execution_count": 25,
   "metadata": {},
   "outputs": [
    {
     "data": {
      "text/plain": [
       "array([1, 2, 3, 4, 5, 6, 7, 8, 9])"
      ]
     },
     "execution_count": 25,
     "metadata": {},
     "output_type": "execute_result"
    }
   ],
   "source": [
    "# 10 neitraukiama\n",
    "sample_array"
   ]
  },
  {
   "cell_type": "markdown",
   "metadata": {},
   "source": [
    "reikšmę iš vektoriaus traukiame taip pat kaip ir iš Python sąrašo:"
   ]
  },
  {
   "cell_type": "code",
   "execution_count": 26,
   "metadata": {},
   "outputs": [
    {
     "data": {
      "text/plain": [
       "6"
      ]
     },
     "execution_count": 26,
     "metadata": {},
     "output_type": "execute_result"
    }
   ],
   "source": [
    "sample_array[5]"
   ]
  },
  {
   "cell_type": "markdown",
   "metadata": {},
   "source": [
    "galime naudoti *slices*:"
   ]
  },
  {
   "cell_type": "code",
   "execution_count": 27,
   "metadata": {},
   "outputs": [
    {
     "data": {
      "text/plain": [
       "array([3, 4, 5, 6, 7, 8])"
      ]
     },
     "execution_count": 27,
     "metadata": {},
     "output_type": "execute_result"
    }
   ],
   "source": [
    "sample_array[2:8]"
   ]
  },
  {
   "cell_type": "code",
   "execution_count": 28,
   "metadata": {},
   "outputs": [
    {
     "data": {
      "text/plain": [
       "array([7, 8, 9])"
      ]
     },
     "execution_count": 28,
     "metadata": {},
     "output_type": "execute_result"
    }
   ],
   "source": [
    "sample_array[6:]"
   ]
  },
  {
   "cell_type": "code",
   "execution_count": 29,
   "metadata": {
    "scrolled": true
   },
   "outputs": [
    {
     "data": {
      "text/plain": [
       "array([5, 6, 7, 8, 9])"
      ]
     },
     "execution_count": 29,
     "metadata": {},
     "output_type": "execute_result"
    }
   ],
   "source": [
    "sample_array[-5:]"
   ]
  },
  {
   "cell_type": "markdown",
   "metadata": {},
   "source": [
    "galime pasirinktam rėžiui suteikti kokią nors savo reikšmę *(Broadcasting)*: "
   ]
  },
  {
   "cell_type": "code",
   "execution_count": 30,
   "metadata": {},
   "outputs": [],
   "source": [
    "sample_array[4:8] = 50"
   ]
  },
  {
   "cell_type": "code",
   "execution_count": 31,
   "metadata": {},
   "outputs": [
    {
     "data": {
      "text/plain": [
       "array([ 1,  2,  3,  4, 50, 50, 50, 50,  9])"
      ]
     },
     "execution_count": 31,
     "metadata": {},
     "output_type": "execute_result"
    }
   ],
   "source": [
    "sample_array"
   ]
  },
  {
   "cell_type": "markdown",
   "metadata": {},
   "source": [
    "# Reikšmių traukimas iš matricos "
   ]
  },
  {
   "cell_type": "code",
   "execution_count": 32,
   "metadata": {},
   "outputs": [],
   "source": [
    "sample = np.random.randint(1, 10, 25)"
   ]
  },
  {
   "cell_type": "code",
   "execution_count": 33,
   "metadata": {},
   "outputs": [],
   "source": [
    "sample_matrix = sample.reshape(5,5)"
   ]
  },
  {
   "cell_type": "code",
   "execution_count": 34,
   "metadata": {},
   "outputs": [
    {
     "data": {
      "text/plain": [
       "array([[5, 9, 7, 5, 8],\n",
       "       [1, 2, 3, 7, 9],\n",
       "       [4, 7, 5, 4, 5],\n",
       "       [9, 1, 1, 9, 4],\n",
       "       [3, 7, 3, 9, 7]])"
      ]
     },
     "execution_count": 34,
     "metadata": {},
     "output_type": "execute_result"
    }
   ],
   "source": [
    "sample_matrix"
   ]
  },
  {
   "cell_type": "code",
   "execution_count": 35,
   "metadata": {},
   "outputs": [
    {
     "data": {
      "text/plain": [
       "5"
      ]
     },
     "execution_count": 35,
     "metadata": {},
     "output_type": "execute_result"
    }
   ],
   "source": [
    "sample_matrix[2,2] "
   ]
  },
  {
   "cell_type": "markdown",
   "metadata": {},
   "source": [
    "laužtiniuose skliausteliuose pirmiau nurodome eilutę, paskui tos eilutės nario indeksą."
   ]
  },
  {
   "cell_type": "markdown",
   "metadata": {},
   "source": [
    "taip pat galime naudoti rėžius:"
   ]
  },
  {
   "cell_type": "code",
   "execution_count": 36,
   "metadata": {},
   "outputs": [
    {
     "data": {
      "text/plain": [
       "array([[2, 3, 7],\n",
       "       [7, 5, 4],\n",
       "       [1, 1, 9]])"
      ]
     },
     "execution_count": 36,
     "metadata": {},
     "output_type": "execute_result"
    }
   ],
   "source": [
    "sample_matrix[1:4, 1:4]"
   ]
  },
  {
   "cell_type": "code",
   "execution_count": 39,
   "metadata": {},
   "outputs": [
    {
     "data": {
      "text/plain": [
       "array([[5, 9, 7, 5, 8],\n",
       "       [1, 2, 3, 7, 9],\n",
       "       [4, 7, 5, 4, 5],\n",
       "       [9, 1, 1, 9, 4],\n",
       "       [3, 7, 3, 9, 7]])"
      ]
     },
     "execution_count": 39,
     "metadata": {},
     "output_type": "execute_result"
    }
   ],
   "source": [
    "sample_matrix"
   ]
  },
  {
   "cell_type": "code",
   "execution_count": 40,
   "metadata": {},
   "outputs": [
    {
     "data": {
      "text/plain": [
       "array([[9, 1, 1, 9, 4],\n",
       "       [3, 7, 3, 9, 7]])"
      ]
     },
     "execution_count": 40,
     "metadata": {},
     "output_type": "execute_result"
    }
   ],
   "source": [
    "sample_matrix[3:,:]"
   ]
  },
  {
   "cell_type": "code",
   "execution_count": 41,
   "metadata": {},
   "outputs": [
    {
     "data": {
      "text/plain": [
       "array([[5, 9],\n",
       "       [1, 2],\n",
       "       [4, 7],\n",
       "       [9, 1],\n",
       "       [3, 7]])"
      ]
     },
     "execution_count": 41,
     "metadata": {},
     "output_type": "execute_result"
    }
   ],
   "source": [
    "sample_matrix[:, 0:2]"
   ]
  },
  {
   "cell_type": "markdown",
   "metadata": {},
   "source": [
    "# Reikšmių traukimas pagal sąlygą"
   ]
  },
  {
   "cell_type": "markdown",
   "metadata": {},
   "source": [
    "Tarkime, turime masyvą:"
   ]
  },
  {
   "cell_type": "code",
   "execution_count": null,
   "metadata": {},
   "outputs": [],
   "source": [
    "masyvas = np.arange(1,21)"
   ]
  },
  {
   "cell_type": "code",
   "execution_count": null,
   "metadata": {},
   "outputs": [],
   "source": [
    "masyvas"
   ]
  },
  {
   "cell_type": "markdown",
   "metadata": {},
   "source": [
    "norime reikšmių, didesnių už 9:"
   ]
  },
  {
   "cell_type": "code",
   "execution_count": null,
   "metadata": {},
   "outputs": [],
   "source": [
    "bool_masyvas = masyvas > 9"
   ]
  },
  {
   "cell_type": "code",
   "execution_count": null,
   "metadata": {},
   "outputs": [],
   "source": [
    "bool_masyvas"
   ]
  },
  {
   "cell_type": "markdown",
   "metadata": {},
   "source": [
    "gauname masyvą iš *bool* reikšmių, kuriame True reikšmės atitinka užduotą sąlygą. Atlikime tokią operaciją:"
   ]
  },
  {
   "cell_type": "code",
   "execution_count": null,
   "metadata": {},
   "outputs": [],
   "source": [
    "masyvas[bool_masyvas]"
   ]
  },
  {
   "cell_type": "markdown",
   "metadata": {},
   "source": [
    "kintamojo *masvas* laužtiniuose skliautuose įvedę kintamąjį *bool_masyvas*, gauname reikšmes, kurios atitinka True indeksą. Tą patį rezultatą galime gauti laužtiniuose skliaustuose tiesiog įrašę sąlygą:"
   ]
  },
  {
   "cell_type": "code",
   "execution_count": null,
   "metadata": {},
   "outputs": [],
   "source": [
    "masyvas[masyvas>9]"
   ]
  },
  {
   "cell_type": "markdown",
   "metadata": {},
   "source": [
    "# Numpy elgsenos ypatumai"
   ]
  },
  {
   "cell_type": "markdown",
   "metadata": {},
   "source": [
    "Yra tam tikri NumPy elgsenos ypatumai, tarkime:"
   ]
  },
  {
   "cell_type": "code",
   "execution_count": null,
   "metadata": {},
   "outputs": [],
   "source": [
    "pvz = np.random.randint(1, 21, 20)"
   ]
  },
  {
   "cell_type": "code",
   "execution_count": null,
   "metadata": {},
   "outputs": [],
   "source": [
    "pvz"
   ]
  },
  {
   "cell_type": "markdown",
   "metadata": {},
   "source": [
    "turime *random* masyvą iš integer reikšmių. Susikurkime jo atraižą:"
   ]
  },
  {
   "cell_type": "code",
   "execution_count": null,
   "metadata": {},
   "outputs": [],
   "source": [
    "pvz_ispjova = pvz[5:15]"
   ]
  },
  {
   "cell_type": "code",
   "execution_count": null,
   "metadata": {},
   "outputs": [],
   "source": [
    "pvz_ispjova"
   ]
  },
  {
   "cell_type": "code",
   "execution_count": null,
   "metadata": {},
   "outputs": [],
   "source": [
    "pvz_ispjova[:] = 99"
   ]
  },
  {
   "cell_type": "code",
   "execution_count": null,
   "metadata": {},
   "outputs": [],
   "source": [
    "pvz_ispjova"
   ]
  },
  {
   "cell_type": "markdown",
   "metadata": {},
   "source": [
    "Iki šio momento viskas atrodo kaip ir tikėtąsi. Tačiau išsikvietę pirmąjį masyvą matome:"
   ]
  },
  {
   "cell_type": "code",
   "execution_count": null,
   "metadata": {},
   "outputs": [],
   "source": [
    "pvz"
   ]
  },
  {
   "cell_type": "markdown",
   "metadata": {},
   "source": [
    "Paprastai kuriant kintamąjį, užkulisiuose padaroma kopija šaltinio, iš kurio jis gaminamas (šiuo atveju *pvz*). \n",
    "Iš tos kopijos formuojamas naujas kintamasis. Tačiau NumPy atveju pakeitimai vykdomi originale, ir mums \n",
    "rodoma tik modifikuota to originalo dalis. NumPy pritaikytas darbui su milžiniškais kiekiais duomenų. Daryti laikinas jų kopijas atmintyje yra neefektyvu, ir nestabilu. Todėl, kai norime išsaugoti originalą, turime nurodyti, kad norėsime pasidaryti kopiją:"
   ]
  },
  {
   "cell_type": "code",
   "execution_count": null,
   "metadata": {},
   "outputs": [],
   "source": [
    "pvz_copy = pvz.copy()"
   ]
  },
  {
   "cell_type": "code",
   "execution_count": null,
   "metadata": {},
   "outputs": [],
   "source": [
    "pvz_copy"
   ]
  },
  {
   "cell_type": "code",
   "execution_count": null,
   "metadata": {},
   "outputs": [],
   "source": [
    "pvz_copy == pvz"
   ]
  },
  {
   "cell_type": "code",
   "execution_count": null,
   "metadata": {},
   "outputs": [],
   "source": [
    "pvz_copy_ispjova = pvz_copy[5:15]\n",
    "pvz_copy_ispjova[:] = 100"
   ]
  },
  {
   "cell_type": "code",
   "execution_count": null,
   "metadata": {},
   "outputs": [],
   "source": [
    "pvz_copy_ispjova"
   ]
  },
  {
   "cell_type": "code",
   "execution_count": null,
   "metadata": {},
   "outputs": [],
   "source": [
    "pvz"
   ]
  },
  {
   "cell_type": "code",
   "execution_count": null,
   "metadata": {},
   "outputs": [],
   "source": [
    "pvz_copy"
   ]
  },
  {
   "cell_type": "markdown",
   "metadata": {},
   "source": [
    "Taigi, pasidarėme kopiją, nurodėme kad norime jos rėžio [5:15] kintamąjame *pvz_copy_ispjova*, joje visas reikšmes pakeitėme į 100, ir įsitikinome, kad po to originalusis *pvz* liko nepakeistas."
   ]
  },
  {
   "cell_type": "markdown",
   "metadata": {},
   "source": [
    "# Matematinės operacijos ir funkcijos"
   ]
  },
  {
   "cell_type": "markdown",
   "metadata": {},
   "source": [
    "su NumPy arrays galima atlikti paprastus aritmetinius veiksmus:"
   ]
  },
  {
   "cell_type": "code",
   "execution_count": null,
   "metadata": {},
   "outputs": [],
   "source": [
    "vektorius = np.arange(1,11)"
   ]
  },
  {
   "cell_type": "code",
   "execution_count": null,
   "metadata": {},
   "outputs": [],
   "source": [
    "vektorius"
   ]
  },
  {
   "cell_type": "code",
   "execution_count": null,
   "metadata": {},
   "outputs": [],
   "source": [
    "vektorius + vektorius"
   ]
  },
  {
   "cell_type": "code",
   "execution_count": null,
   "metadata": {},
   "outputs": [],
   "source": [
    "vektorius * vektorius"
   ]
  },
  {
   "cell_type": "code",
   "execution_count": null,
   "metadata": {},
   "outputs": [],
   "source": [
    "vektorius / vektorius"
   ]
  },
  {
   "cell_type": "code",
   "execution_count": null,
   "metadata": {},
   "outputs": [],
   "source": [
    "vektorius / 0"
   ]
  },
  {
   "cell_type": "markdown",
   "metadata": {},
   "source": [
    "atkreipkite dėmesį, atlikus dalybą iš 0 gausime begalybes arba nan - not a number. Taip pat galime atlikti veiksmus ir su skaičiais:"
   ]
  },
  {
   "cell_type": "code",
   "execution_count": null,
   "metadata": {},
   "outputs": [],
   "source": [
    "vektorius + 1000"
   ]
  },
  {
   "cell_type": "code",
   "execution_count": null,
   "metadata": {},
   "outputs": [],
   "source": [
    "vektorius ** 3"
   ]
  },
  {
   "cell_type": "markdown",
   "metadata": {},
   "source": [
    "ir t.t."
   ]
  },
  {
   "cell_type": "markdown",
   "metadata": {},
   "source": [
    "Numpy aplinkoje taip pat galime taikyti įvairias trigonometrines funkcijas ir tt."
   ]
  },
  {
   "cell_type": "code",
   "execution_count": null,
   "metadata": {},
   "outputs": [],
   "source": [
    "np.sin(vektorius)"
   ]
  },
  {
   "cell_type": "code",
   "execution_count": null,
   "metadata": {},
   "outputs": [],
   "source": [
    "np.log(vektorius)"
   ]
  },
  {
   "cell_type": "markdown",
   "metadata": {},
   "source": [
    "Visas matematines funkcijas galite surasti\n",
    "[čia](https://docs.scipy.org/doc/numpy/reference/ufuncs.html)."
   ]
  },
  {
   "cell_type": "code",
   "execution_count": null,
   "metadata": {},
   "outputs": [],
   "source": []
  }
 ],
 "metadata": {
  "kernelspec": {
   "display_name": "Python 3",
   "language": "python",
   "name": "python3"
  },
  "language_info": {
   "codemirror_mode": {
    "name": "ipython",
    "version": 3
   },
   "file_extension": ".py",
   "mimetype": "text/x-python",
   "name": "python",
   "nbconvert_exporter": "python",
   "pygments_lexer": "ipython3",
   "version": "3.11.7"
  }
 },
 "nbformat": 4,
 "nbformat_minor": 2
}
