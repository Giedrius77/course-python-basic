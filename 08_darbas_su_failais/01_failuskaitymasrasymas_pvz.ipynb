{
 "cells": [
  {
   "cell_type": "markdown",
   "metadata": {},
   "source": [
    "## Pirma užduotis"
   ]
  },
  {
   "cell_type": "code",
   "execution_count": 15,
   "metadata": {},
   "outputs": [],
   "source": [
    "failas = open(\"pakeitimai.txt\", \"w\")\n",
    "\n",
    "failas.close()"
   ]
  },
  {
   "cell_type": "code",
   "execution_count": 21,
   "metadata": {},
   "outputs": [
    {
     "name": "stdout",
     "output_type": "stream",
     "text": [
      "sVEIKI, pIRMAS TEKSTINIS FAILAS SUKURTAS, sVEIKINU!\n"
     ]
    }
   ],
   "source": [
    "with open(\"pakeitimai.txt\", \"r\") as failas:\n",
    "    eilute = failas.readline()\n",
    "    nauja_eilute = eilute.swapcase()\n",
    "    print(nauja_eilute)"
   ]
  },
  {
   "cell_type": "code",
   "execution_count": null,
   "metadata": {},
   "outputs": [],
   "source": [
    "# Open the text file for reading, nera sukurto failo 'changes.txt'\n",
    "with open(\"changes.txt\", \"r\") as file: # panaudoti kita txt\n",
    "    # Read a line from the file\n",
    "    line = file.readline()\n",
    "    \n",
    "    # Convert uppercase to lowercase and vice versa\n",
    "    modified_line = line.swapcase()\n",
    "    \n",
    "    # Print the modified line\n",
    "    print(modified_line)"
   ]
  },
  {
   "cell_type": "markdown",
   "metadata": {},
   "source": [
    "## Antra užduotis"
   ]
  },
  {
   "cell_type": "code",
   "execution_count": null,
   "metadata": {},
   "outputs": [],
   "source": [
    "with open(\"skaiciai.txt\", \"w\") as failas:\n",
    "    for skaicius in range(1, 101):\n",
    "        failas.write(f\"{skaicius}\\n\")\n",
    "        print(skaicius)"
   ]
  },
  {
   "cell_type": "code",
   "execution_count": null,
   "metadata": {},
   "outputs": [],
   "source": [
    "# Create a new file \"numbers.txt\" for writing\n",
    "with open(\"numbers.txt\", \"w\") as file:\n",
    "    # Write numbers from 1 to 100\n",
    "    for number in range(1, 101):\n",
    "        file.write(str(number) + \"\\n\")"
   ]
  },
  {
   "cell_type": "markdown",
   "metadata": {},
   "source": [
    "## Trečia užduotis"
   ]
  },
  {
   "cell_type": "code",
   "execution_count": null,
   "metadata": {},
   "outputs": [],
   "source": [
    "with open(\"tekstas.txt\", \"r\") as failas:\n",
    "    failas.seek(0, 2)  # Pereikite į failo pabaigą\n",
    "    failo_ilgis = failas.tell()  # Gauti failo ilgį\n",
    "    vidurys = failo_ilgis // 2  # Rasti failo vidurį\n",
    "\n",
    "    failas.seek(vidurys)  # Nustatykite žymeklį ant vidurio\n",
    "    likusi_dalis = failas.read()  # Perskaitykite likusią dalį\n",
    "    print(likusi_dalis)"
   ]
  },
  {
   "cell_type": "code",
   "execution_count": null,
   "metadata": {},
   "outputs": [],
   "source": [
    "# Example 1\n",
    "# Open the file \"text.txt\" for reading\n",
    "with open(\"text.txt\", \"r\") as file:\n",
    "    file.seek(0, 2)  # Move to the end of the file\n",
    "    file_size = file.tell()  # Get the file size\n",
    "    middle = file_size // 2  # Find the middle of the file\n",
    "\n",
    "    file.seek(middle)  # Set the pointer to the middle\n",
    "    remaining_content = file.read()  # Read the remaining part\n",
    "    print(remaining_content)"
   ]
  },
  {
   "cell_type": "code",
   "execution_count": null,
   "metadata": {},
   "outputs": [],
   "source": [
    "# Example 2\n",
    "# Open the file \"text.txt\" for reading\n",
    "with open(\"text.txt\", \"r\") as file:\n",
    "    # Determine the file's size\n",
    "    file_size = file.seek(0, 2)\n",
    "\n",
    "    # Move the file pointer to the middle\n",
    "    middle_position = file_size // 2\n",
    "    file.seek(middle_position)\n",
    "\n",
    "    # Read and print the remaining content\n",
    "    remaining_content = file.read()\n",
    "    print(remaining_content)"
   ]
  },
  {
   "cell_type": "markdown",
   "metadata": {},
   "source": [
    "## Ketvirta užduotis"
   ]
  },
  {
   "cell_type": "code",
   "execution_count": 1,
   "metadata": {},
   "outputs": [],
   "source": [
    "with open(\"eilutes.txt\", \"w\", encoding=\"utf-8\") as failas:\n",
    "    failas.write(\"Saulėlydis žėri žemę švelniai.\\n\")\n",
    "    failas.write(\"Vakare vėjas šnypščia medžius.\\n\")\n",
    "    failas.write(\"Vėjas nerimsta, šnypščia ir švilpia.\\n\")"
   ]
  },
  {
   "cell_type": "code",
   "execution_count": 2,
   "metadata": {},
   "outputs": [],
   "source": [
    "with open(\"eilutes.txt\", \"a\", encoding=\"utf-8\") as failas:\n",
    "    failas.write(\"Jūsų vardas ir pavardė\\n\")  # Čia įrašykite savo vardą ir pavardę"
   ]
  },
  {
   "cell_type": "code",
   "execution_count": null,
   "metadata": {},
   "outputs": [],
   "source": [
    "with open(\"eilutes.txt\", \"r\", encoding=\"utf-8\") as failas:\n",
    "    for eilute in failas:\n",
    "        if \"vėjas\" in eilute.lower(): # dadejus .lower() atspausdins visas eilutes su reiksme 'vejas', nes viska pavercia maz raidemis\n",
    "            print(eilute)\n",
    "        if \"VĖJAS\" in eilute.upper(): # dadejus .upper() atspausdins visas eilutes su reiksme 'VEJAS', NES VISKA PAVERCIA DID RAIDEMIS\n",
    "            print(eilute)\n",
    "        if \"Vėjas\" in eilute: # atspausdins konkretu 'if'\n",
    "            print(eilute)"
   ]
  },
  {
   "cell_type": "code",
   "execution_count": null,
   "metadata": {},
   "outputs": [],
   "source": [
    "# Create a new file \"lines.txt\" for writing with UTF-8 encoding and append lines\n",
    "with open(\"lines.txt\", \"w\", encoding=\"utf-8\") as file:\n",
    "    lines = [\n",
    "        \"The sunset gently devours the earth.\",\n",
    "        \"In the evening, the wind whispers to the trees.\",\n",
    "        \"The wind doesn't calm down; it whispers and whistles.\",\n",
    "    ]\n",
    "    for line in lines:\n",
    "        file.write(line + \"\\n\")\n",
    "\n",
    "# Append your full name as a new line\n",
    "with open(\"lines.txt\", \"a\", encoding=\"utf-8\") as file:\n",
    "    file.write(\"Your Full Name\")  # Insert your full name here\n",
    "\n",
    "# Open \"lines.txt\" for reading with UTF-8 encoding and print lines with \"wind\"\n",
    "with open(\"lines.txt\", \"r\", encoding=\"utf-8\") as file:\n",
    "    for line in file:\n",
    "        if \"wind\" in line:\n",
    "            print(line)"
   ]
  }
 ],
 "metadata": {
  "kernelspec": {
   "display_name": "venv",
   "language": "python",
   "name": "python3"
  },
  "language_info": {
   "codemirror_mode": {
    "name": "ipython",
    "version": 3
   },
   "file_extension": ".py",
   "mimetype": "text/x-python",
   "name": "python",
   "nbconvert_exporter": "python",
   "pygments_lexer": "ipython3",
   "version": "3.11.7"
  }
 },
 "nbformat": 4,
 "nbformat_minor": 2
}
