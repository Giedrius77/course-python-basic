{
 "cells": [
  {
   "cell_type": "markdown",
   "metadata": {},
   "source": [
    "# Destytojo pvz is PTU20_live"
   ]
  },
  {
   "cell_type": "code",
   "execution_count": null,
   "metadata": {},
   "outputs": [],
   "source": []
  },
  {
   "cell_type": "code",
   "execution_count": null,
   "metadata": {},
   "outputs": [],
   "source": [
    "import pickle\n",
    "import os\n",
    "\n",
    "class Zmogus:\n",
    "    def __init__(self, vardas, amzius):\n",
    "        self.vardas = vardas\n",
    "        self.amzius = amzius\n",
    "\n",
    "    def __str__(self):\n",
    "        return f\"{self.vardas}, {self.amzius} metų\"\n",
    "\n",
    "\n",
    "if __name__ == \"__main__\":\n",
    "    zmogus = Zmogus(\n",
    "        input(\"vardas: \"),\n",
    "        int(input(\"metai: \")),\n",
    "    )\n",
    "    ZMONES_FILE = 'PTU20_live/zmones.pkl'\n",
    "\n",
    "    if os.path.exists(ZMONES_FILE):\n",
    "        with open(ZMONES_FILE, \"rb\") as zmones_file:\n",
    "            zmones = pickle.load(zmones_file)\n",
    "            zmones.append(zmogus)\n",
    "    else:\n",
    "        zmones = [zmogus]\n",
    "    with open(ZMONES_FILE, \"wb\") as zmones_file:\n",
    "        pickle.dump(zmones, zmones_file)\n",
    "\n",
    "    print('---[ Visi zmones ]---')\n",
    "    for zmogus in zmones:\n",
    "        print(zmogus)\n"
   ]
  },
  {
   "cell_type": "code",
   "execution_count": null,
   "metadata": {},
   "outputs": [],
   "source": [
    "#from zmogus import Zmogus - sito nereikia, nes class Zmogus yra virsuje\n",
    "import pickle\n",
    "import os\n",
    "\n",
    "ZMONES_FILE = 'PTU20_live/zmones.pkl'\n",
    "\n",
    "if os.path.exists(ZMONES_FILE):\n",
    "    with open(ZMONES_FILE, \"rb\") as zmones_file:\n",
    "        zmones = pickle.load(zmones_file)\n",
    "        zmones_file.seek(0)\n",
    "        for byte in zmones_file.read():\n",
    "            print(byte, end='')\n",
    "\n",
    "print('\\n\\n---[ Visi zmones ]---')\n",
    "for zmogus in zmones:\n",
    "    print(zmogus.vardas, zmogus.amzius)"
   ]
  }
 ],
 "metadata": {
  "kernelspec": {
   "display_name": "venv",
   "language": "python",
   "name": "python3"
  },
  "language_info": {
   "name": "python",
   "version": "3.11.7"
  }
 },
 "nbformat": 4,
 "nbformat_minor": 2
}
