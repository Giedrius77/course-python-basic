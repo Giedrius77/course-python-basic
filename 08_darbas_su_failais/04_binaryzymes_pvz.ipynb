{
 "cells": [
  {
   "cell_type": "markdown",
   "metadata": {},
   "source": [
    "### Darbas su dvejetainiais objektais (b''):"
   ]
  },
  {
   "cell_type": "markdown",
   "metadata": {},
   "source": [
    "Dvejetainiai objektai yra naudojami Python programavimo kalboje, kad galėtumėte dirbti su dvejetainiais duomenimis, tokiomis kaip baitų seka. Jie atrodo taip: b'\\x00\\x01\\x02'.\n",
    "\n",
    "Pavyzdys:"
   ]
  },
  {
   "cell_type": "code",
   "execution_count": null,
   "metadata": {},
   "outputs": [],
   "source": [
    "binary_data = b'\\x48\\x65\\x6c\\x6c\\x6f\\x2c\\x20\\x57\\x6f\\x72\\x6c\\x64\\x21'  # \"Hello, World!\" dvejetainiu formatu\n",
    "print(binary_data)  # Išveda: b'Hello, World!'"
   ]
  },
  {
   "cell_type": "markdown",
   "metadata": {},
   "source": [
    "## Paimame faila copy ji ir paste as new!!!\n",
    "\"rb\" ir \"wb\" yra binarinio režimo žymės, naudojamos atidarant failus naudojant Python open() funkciją. \"rb\" reiškia \"read binary\" (skaityti dvejetainį), o \"wb\" reiškia \"write binary\" (rašyti dvejetainį)."
   ]
  },
  {
   "cell_type": "code",
   "execution_count": 2,
   "metadata": {},
   "outputs": [],
   "source": [
    "with open(\"ai_guy.webp\", \"rb\") as input_file:\n",
    "    file_data = input_file.read()\n",
    "\n",
    "with open(\"paste_guy.webp\", \"wb\") as output_file:\n",
    "    output_file.write(file_data)"
   ]
  },
  {
   "cell_type": "markdown",
   "metadata": {},
   "source": [
    "## Failo kopijavimo funkcija"
   ]
  },
  {
   "cell_type": "code",
   "execution_count": null,
   "metadata": {},
   "outputs": [],
   "source": [
    "# pvz\n",
    "\n",
    "def copy_image_file(input_file_path, output_file_path):\n",
    "    with open(input_file_path, 'rb') as input_file:\n",
    "        binary_data = input_file.read()\n",
    "    with open(output_file_path, 'wb') as output_file:\n",
    "        output_file.write(binary_data)\n",
    "# Kopijuoti paveikslėlio failą naudojant funkciją\n",
    "copy_image_file('input.png', 'output.png')"
   ]
  }
 ],
 "metadata": {
  "kernelspec": {
   "display_name": "venv",
   "language": "python",
   "name": "python3"
  },
  "language_info": {
   "codemirror_mode": {
    "name": "ipython",
    "version": 3
   },
   "file_extension": ".py",
   "mimetype": "text/x-python",
   "name": "python",
   "nbconvert_exporter": "python",
   "pygments_lexer": "ipython3",
   "version": "3.11.7"
  }
 },
 "nbformat": 4,
 "nbformat_minor": 2
}
