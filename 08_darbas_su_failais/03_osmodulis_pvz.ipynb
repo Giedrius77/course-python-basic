{
 "cells": [
  {
   "cell_type": "markdown",
   "metadata": {},
   "source": [
    "### Pirma užduotis"
   ]
  },
  {
   "cell_type": "markdown",
   "metadata": {},
   "source": [
    "Sukurkite naują katalogą pavadinimu \"Mano_Katalogas\" dabartinėje darbo vietoje. Patikrinkite, ar katalogas buvo sėkmingai sukurtas, ir atspausdinkite rezultatą."
   ]
  },
  {
   "cell_type": "code",
   "execution_count": null,
   "metadata": {},
   "outputs": [],
   "source": [
    "import os\n",
    "\n",
    "katalogo_kelias = \"Mano_Katalogas\"\n",
    "\n",
    "if not os.path.exists(katalogo_kelias):\n",
    "    os.makedirs(katalogo_kelias)\n",
    "    print(f\"Katalogas '{katalogo_kelias}' sukurtas.\")\n",
    "else:\n",
    "    print(f\"Katalogas '{katalogo_kelias}' jau egzistuoja.\")"
   ]
  },
  {
   "cell_type": "markdown",
   "metadata": {},
   "source": [
    "### Antra užduotis"
   ]
  },
  {
   "cell_type": "markdown",
   "metadata": {},
   "source": [
    "Parašykite programą, kuri peržiūrėtų dabartinį darbo katalogą ir atspausdintų visus rastus failus bei katalogus."
   ]
  },
  {
   "cell_type": "code",
   "execution_count": null,
   "metadata": {},
   "outputs": [],
   "source": [
    "import os\n",
    "\n",
    "dabartinis_katalogas = os.getcwd()\n",
    "print(f\"Dabartinis katalogas: {dabartinis_katalogas}\")\n",
    "\n",
    "print(\"Failai ir katalogai:\")\n",
    "for elementas in os.listdir(dabartinis_katalogas):\n",
    "    print(elementas)"
   ]
  },
  {
   "cell_type": "markdown",
   "metadata": {},
   "source": [
    "### Trečia užduotis"
   ]
  },
  {
   "cell_type": "markdown",
   "metadata": {},
   "source": [
    "Sukurkite naują failą pavadinimu \"testas.txt\" dabartinėje darbo vietoje. Tada parašykite programą, kuri patikrintų, ar failas \"testas.txt\" egzistuoja, ir trintų jį, jei egzistuoja. Atspausdinkite rezultatą, kad failas buvo sėkmingai ištrintas."
   ]
  },
  {
   "cell_type": "code",
   "execution_count": null,
   "metadata": {},
   "outputs": [],
   "source": [
    "import os\n",
    "\n",
    "failo_kelias = \"testas.txt\"\n",
    "\n",
    "# Sukurkite failą\n",
    "with open(failo_kelias, \"w\") as f:\n",
    "    f.write(\"Tai yra testinis failas.\")\n",
    "\n",
    "# Patikrinkite, ar failas egzistuoja, ir trinkite jį\n",
    "if os.path.exists(failo_kelias):\n",
    "    os.remove(failo_kelias)\n",
    "    print(f\"Failas '{failo_kelias}' ištrintas.\")\n",
    "else:\n",
    "    print(f\"Failas '{failo_kelias}' neegzistuoja.\")"
   ]
  }
 ],
 "metadata": {
  "kernelspec": {
   "display_name": "venv",
   "language": "python",
   "name": "python3"
  },
  "language_info": {
   "name": "python",
   "version": "3.11.7"
  }
 },
 "nbformat": 4,
 "nbformat_minor": 2
}
