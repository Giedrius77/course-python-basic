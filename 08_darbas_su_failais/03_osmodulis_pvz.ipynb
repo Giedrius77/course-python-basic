{
 "cells": [
  {
   "cell_type": "markdown",
   "metadata": {},
   "source": [
    "## Destytojo pavyzdziai\n",
    "kodas tik pvz, bet neveiks sitoje vietoje"
   ]
  },
  {
   "cell_type": "code",
   "execution_count": null,
   "metadata": {},
   "outputs": [],
   "source": [
    "import os\n",
    "from datetime import datetime\n",
    "\n",
    "print(os.getcwd()) # : Grąžina dabartinio darbo katalogo kelią.\n",
    "os.chdir('PTU20_live') # : Pakeičia dabartinį darbo katalogą į nurodytą kelią.\n",
    "print(os.getcwd())\n",
    "\n",
    "# os.path modulis suteikia funkcijas, skirtas tikrinti failų ir katalogų egzistavimą:\n",
    "# os.path.exists(path): Grąžina True, jei nurodytas kelias egzistuoja, ir False priešingu atveju.\n",
    "\n",
    "if os.path.exists(\"labas.txt\"):\n",
    "    with open(\"labas.txt\", \"r\") as labas_f:\n",
    "        for line in labas_f:\n",
    "            print(line, end=\"\")\n",
    "    print()\n",
    "else:\n",
    "    print('file is not there')\n",
    "\n",
    "# os.makedirs(path): Sukuria visą katalogų medį, jei jis neegzistuoja.\n",
    "\n",
    "if not os.path.exists(\"siuksles\"):\n",
    "    os.makedirs('siuksles')\n",
    "    with open(\"siuksles/siuksle\", \"w\") as siuksle:\n",
    "        siuksle.write(\"xxx\")\n",
    "else:\n",
    "    if os.path.exists(\"siuksles/siuksle\"):\n",
    "        os.remove(\"siuksles/siuksle\")\n",
    "    os.rmdir('siuksles')\n",
    "\n",
    "os.chdir('..')\n",
    "print(os.getcwd())\n",
    "main_dir_content = os.listdir()\n",
    "for item in main_dir_content:\n",
    "    item_st = os.stat(item)\n",
    "    print(f\"{item[:29]:30} {item_st.st_size:>9} \"\n",
    "          f\"{datetime.fromtimestamp(item_st.st_ctime)}\")\n",
    "\n",
    "if os.path.exists(\"README.md\"):\n",
    "    readme_stats = os.stat(\"README.md\")\n",
    "    print(readme_stats.st_size)\n",
    "    print(datetime.fromtimestamp(readme_stats.st_ctime))"
   ]
  },
  {
   "cell_type": "markdown",
   "metadata": {},
   "source": [
    "### Spausdina failu info su sukurimo laiku \n",
    "kuri tramsformuoja i mums skaitoma data!"
   ]
  },
  {
   "cell_type": "code",
   "execution_count": null,
   "metadata": {},
   "outputs": [],
   "source": [
    "import os\n",
    "from datetime import datetime\n",
    "\n",
    "os.chdir('..')\n",
    "print(os.getcwd())\n",
    "main_dir_content = os.listdir()\n",
    "for item in main_dir_content:\n",
    "    item_st = os.stat(item)\n",
    "    print(f\"{item[:29]:30} {item_st.st_size:>9} \"\n",
    "          f\"{datetime.fromtimestamp(item_st.st_ctime)}\")\n",
    "\n",
    "if os.path.exists(\"README.md\"):\n",
    "    readme_stats = os.stat(\"README.md\")\n",
    "    print(readme_stats.st_size)\n",
    "    print(datetime.fromtimestamp(readme_stats.st_ctime))"
   ]
  },
  {
   "cell_type": "code",
   "execution_count": null,
   "metadata": {},
   "outputs": [],
   "source": []
  },
  {
   "cell_type": "code",
   "execution_count": null,
   "metadata": {},
   "outputs": [],
   "source": []
  },
  {
   "cell_type": "markdown",
   "metadata": {},
   "source": [
    "### Pirma užduotis"
   ]
  },
  {
   "cell_type": "markdown",
   "metadata": {},
   "source": [
    "Sukurkite naują katalogą pavadinimu \"Mano_Katalogas\" dabartinėje darbo vietoje. Patikrinkite, ar katalogas buvo sėkmingai sukurtas, ir atspausdinkite rezultatą."
   ]
  },
  {
   "cell_type": "code",
   "execution_count": 6,
   "metadata": {},
   "outputs": [
    {
     "name": "stdout",
     "output_type": "stream",
     "text": [
      "Katalogas 'Mano_Katalogas' sukurtas.\n"
     ]
    }
   ],
   "source": [
    "import os\n",
    "\n",
    "katalogo_kelias = \"Mano_Katalogas\"\n",
    "\n",
    "if not os.path.exists(katalogo_kelias): \n",
    "    os.makedirs(katalogo_kelias) # sukuria 'Mano_Katalogas'\n",
    "    print(f\"Katalogas '{katalogo_kelias}' sukurtas.\")\n",
    "else:\n",
    "    print(f\"Katalogas '{katalogo_kelias}' jau egzistuoja.\")"
   ]
  },
  {
   "cell_type": "code",
   "execution_count": 7,
   "metadata": {},
   "outputs": [],
   "source": [
    "\n",
    "    if os.path.exists(\"Mano_Katalogas\"):\n",
    "        os.rmdir(\"Mano_Katalogas\") # istrina 'Mano_Katalogas'"
   ]
  },
  {
   "cell_type": "markdown",
   "metadata": {},
   "source": [
    "### Antra užduotis"
   ]
  },
  {
   "cell_type": "markdown",
   "metadata": {},
   "source": [
    "Parašykite programą, kuri peržiūrėtų dabartinį darbo katalogą ir atspausdintų visus rastus failus bei katalogus."
   ]
  },
  {
   "cell_type": "code",
   "execution_count": null,
   "metadata": {},
   "outputs": [],
   "source": [
    "import os\n",
    "\n",
    "dabartinis_katalogas = os.getcwd()\n",
    "print(f\"Dabartinis katalogas: {dabartinis_katalogas}\")\n",
    "\n",
    "print(\"Failai ir katalogai:\")\n",
    "for elementas in os.listdir(dabartinis_katalogas):\n",
    "    print(elementas)"
   ]
  },
  {
   "cell_type": "markdown",
   "metadata": {},
   "source": [
    "### Trečia užduotis"
   ]
  },
  {
   "cell_type": "markdown",
   "metadata": {},
   "source": [
    "Sukurkite naują failą pavadinimu \"testas.txt\" dabartinėje darbo vietoje. Tada parašykite programą, kuri patikrintų, ar failas \"testas.txt\" egzistuoja, ir trintų jį, jei egzistuoja. Atspausdinkite rezultatą, kad failas buvo sėkmingai ištrintas."
   ]
  },
  {
   "cell_type": "code",
   "execution_count": null,
   "metadata": {},
   "outputs": [],
   "source": [
    "import os\n",
    "\n",
    "failo_kelias = \"testas.txt\"\n",
    "\n",
    "# Sukurkite failą\n",
    "with open(failo_kelias, \"w\") as f:\n",
    "    f.write(\"Tai yra testinis failas.\")\n",
    "\n",
    "# Patikrinkite, ar failas egzistuoja, ir trinkite jį\n",
    "if os.path.exists(failo_kelias):\n",
    "    os.remove(failo_kelias)\n",
    "    print(f\"Failas '{failo_kelias}' ištrintas.\")\n",
    "else:\n",
    "    print(f\"Failas '{failo_kelias}' neegzistuoja.\")"
   ]
  }
 ],
 "metadata": {
  "kernelspec": {
   "display_name": "venv",
   "language": "python",
   "name": "python3"
  },
  "language_info": {
   "codemirror_mode": {
    "name": "ipython",
    "version": 3
   },
   "file_extension": ".py",
   "mimetype": "text/x-python",
   "name": "python",
   "nbconvert_exporter": "python",
   "pygments_lexer": "ipython3",
   "version": "3.11.7"
  }
 },
 "nbformat": 4,
 "nbformat_minor": 2
}
