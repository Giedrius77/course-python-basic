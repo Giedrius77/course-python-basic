{
 "cells": [
  {
   "cell_type": "markdown",
   "metadata": {},
   "source": [
    "## Pirma užduotis"
   ]
  },
  {
   "cell_type": "markdown",
   "metadata": {},
   "source": [
    "CREATE TABLE studentai (\n",
    "  studento_id INTEGER PRIMARY KEY,\n",
    "  vardas VARCHAR(50),\n",
    "  pavardė VARCHAR(50),\n",
    "  studijų_programa VARCHAR(100),\n",
    "  el_paštas VARCHAR(50)\n",
    ");\n",
    "\n",
    "ALTER TABLE studentai\n",
    "ADD gimimo_data DATE;\n",
    "\n",
    "ALTER TABLE studentai\n",
    "ALTER COLUMN studijų_programa TEXT;\n",
    "\n",
    "DROP TABLE studentai;"
   ]
  },
  {
   "cell_type": "markdown",
   "metadata": {},
   "source": [
    "## Antra užduotis"
   ]
  },
  {
   "cell_type": "markdown",
   "metadata": {},
   "source": [
    "CREATE TABLE dėstytojai (\n",
    "  dėstytojo_id INTEGER PRIMARY KEY,\n",
    "  vardas VARCHAR(50),\n",
    "  pavardė VARCHAR(50),\n",
    "  skyrius VARCHAR(100),\n",
    "  el_paštas VARCHAR(50)\n",
    ");\n",
    "\n",
    "ALTER TABLE dėstytojai\n",
    "ADD kabineto_nr INT;\n",
    "\n",
    "DROP TABLE dėstytojai;"
   ]
  }
 ],
 "metadata": {
  "language_info": {
   "name": "python"
  }
 },
 "nbformat": 4,
 "nbformat_minor": 2
}
