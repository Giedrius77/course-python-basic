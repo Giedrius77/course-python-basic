{
 "cells": [
  {
   "cell_type": "code",
   "execution_count": null,
   "metadata": {},
   "outputs": [],
   "source": [
    "try:\n",
    "    rez = 10 / \"5\"\n",
    "except Exception:\n",
    "    print('klaida')\n",
    "else:\n",
    "    print(rez)"
   ]
  },
  {
   "cell_type": "code",
   "execution_count": null,
   "metadata": {},
   "outputs": [],
   "source": [
    "try:\n",
    "    a = 10 / 0\n",
    "except:\n",
    "    print(\"Klaida!\") # Klaida!"
   ]
  },
  {
   "cell_type": "code",
   "execution_count": null,
   "metadata": {},
   "outputs": [],
   "source": [
    "try:\n",
    "    x = 5 / 0\n",
    "except ZeroDivisionError:\n",
    "    print(\"Negalima dalinti iš nulio!\") # Negalima dalinti iš nulio!"
   ]
  },
  {
   "cell_type": "code",
   "execution_count": null,
   "metadata": {},
   "outputs": [],
   "source": [
    "try:\n",
    "    x = 5 / 0\n",
    "except ZeroDivisionError:\n",
    "    pass"
   ]
  },
  {
   "cell_type": "code",
   "execution_count": null,
   "metadata": {},
   "outputs": [],
   "source": [
    "try:\n",
    "    result = 10 / 2\n",
    "except ZeroDivisionError:\n",
    "    print(\"Negalima dalinti iš nulio!\")\n",
    "else:\n",
    "    print(\"Rezultatas yra\", result) # Rezultatas yra 5.0"
   ]
  },
  {
   "cell_type": "code",
   "execution_count": null,
   "metadata": {},
   "outputs": [],
   "source": [
    "try:\n",
    "    result = 10 / 0\n",
    "except ZeroDivisionError:\n",
    "    print(\"Negalima dalinti iš nulio!\")\n",
    "finally:\n",
    "    print(\"Programa baigta vykdyti\")"
   ]
  },
  {
   "cell_type": "code",
   "execution_count": null,
   "metadata": {},
   "outputs": [],
   "source": [
    "try:\n",
    "    rez = 10 / 5\n",
    "except ZeroDivisionError:\n",
    "    print('klaida: negalima dalinti iš nulio')\n",
    "except TypeError:\n",
    "    print('klaida: netinkamas kintamojo tipas')\n",
    "except Exception as error:\n",
    "    print(f'klaida: {error.__class__}')\n",
    "else:\n",
    "    print(rez)\n",
    "finally:\n",
    "    print('baigem dalinti')"
   ]
  },
  {
   "cell_type": "code",
   "execution_count": 2,
   "metadata": {},
   "outputs": [
    {
     "name": "stdout",
     "output_type": "stream",
     "text": [
      "Negalima dalinti iš nulio\n"
     ]
    }
   ],
   "source": [
    "try:\n",
    "    x = int(input(\"Įveskite pirmąjį skaičių: \"))\n",
    "    y = int(input(\"Įveskite antrąjį skaičių: \"))\n",
    "    rezultatas = x / y\n",
    "    print(\"Rezultatas:\", rezultatas)\n",
    "except ValueError:\n",
    "    print(\"Įvestas neteisingas skaičius\")\n",
    "except ZeroDivisionError:\n",
    "    print(\"Negalima dalinti iš nulio\")"
   ]
  },
  {
   "cell_type": "code",
   "execution_count": null,
   "metadata": {},
   "outputs": [],
   "source": [
    "try:\n",
    "    x = int(input(\"Enter the first number: \"))\n",
    "    y = int(input(\"Enter the second number: \"))\n",
    "    result = x / y\n",
    "    print(\"Result:\", result)\n",
    "except ValueError:\n",
    "    print(\"Invalid input, please enter a valid number\")\n",
    "except ZeroDivisionError:\n",
    "    print(\"Division by zero is not allowed\")"
   ]
  },
  {
   "cell_type": "markdown",
   "metadata": {},
   "source": [
    "### Cia galima patikrinti ar yra failas, arba panaudoti kitur\n",
    "patciam failui reikia nurodyti teisinga kelia, tad sis neveiks!"
   ]
  },
  {
   "cell_type": "code",
   "execution_count": null,
   "metadata": {},
   "outputs": [],
   "source": [
    "import pickle\n",
    "from zmogus import Zmogus\n",
    "\n",
    "try:\n",
    "    with open(\"zmones.pkl\", \"rb\") as zmoniu_failas:\n",
    "        zmones = pickle.load(zmoniu_failas)\n",
    "except Exception as error:\n",
    "    zmones = []\n",
    "    print(f'Nepavyko atidaryti failo, klaida {error.__class__}: {error}')\n",
    "else:\n",
    "    for zmogus in zmones:\n",
    "        print(zmogus)"
   ]
  }
 ],
 "metadata": {
  "kernelspec": {
   "display_name": "venv",
   "language": "python",
   "name": "python3"
  },
  "language_info": {
   "codemirror_mode": {
    "name": "ipython",
    "version": 3
   },
   "file_extension": ".py",
   "mimetype": "text/x-python",
   "name": "python",
   "nbconvert_exporter": "python",
   "pygments_lexer": "ipython3",
   "version": "3.11.7"
  }
 },
 "nbformat": 4,
 "nbformat_minor": 2
}
