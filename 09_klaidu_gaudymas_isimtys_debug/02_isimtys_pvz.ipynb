{
 "cells": [
  {
   "cell_type": "code",
   "execution_count": null,
   "metadata": {},
   "outputs": [],
   "source": [
    "skaicius = 42\n",
    "vardas = \"John\"\n",
    "rezultatas = vardas + skaicius # TypeError: can only concatenate str (not \"int\") to str"
   ]
  },
  {
   "cell_type": "code",
   "execution_count": null,
   "metadata": {},
   "outputs": [],
   "source": [
    "skaicius = 42\n",
    "vardas = \"John\"\n",
    "try:\n",
    "    rezultatas = vardas + skaicius\n",
    "except TypeError:\n",
    "    print(\"Klaida: negalima sudėti 'str' ir 'int' tipų duomenų\") # Klaida: negalima sudėti 'str' ir 'int' tipų duomenų"
   ]
  },
  {
   "cell_type": "code",
   "execution_count": null,
   "metadata": {},
   "outputs": [],
   "source": [
    "a = 10\n",
    "print(b) # NameError: name 'b' is not defined"
   ]
  },
  {
   "cell_type": "code",
   "execution_count": null,
   "metadata": {},
   "outputs": [],
   "source": [
    "a = 10\n",
    "try:\n",
    "    print(b)\n",
    "except NameError:\n",
    "    print(\"Klaida: kintamasis nebuvo apibrėžtas\") # Klaida: kintamasis nebuvo apibrėžtas"
   ]
  },
  {
   "cell_type": "code",
   "execution_count": null,
   "metadata": {},
   "outputs": [],
   "source": [
    "try:\n",
    "    x = int('abc')\n",
    "except ValueError:\n",
    "    print(\"Klaida: negalima konvertuoti reikšmės į skaičių\") # Klaida: negalima konvertuoti reikšmės į skaičių"
   ]
  },
  {
   "cell_type": "code",
   "execution_count": null,
   "metadata": {},
   "outputs": [],
   "source": [
    "try:\n",
    "    x = 1/0\n",
    "except ZeroDivisionError:\n",
    "    print(\"Klaida: negalima dalinti iš nulio\") # Klaida: negalima dalinti iš nulio"
   ]
  },
  {
   "cell_type": "code",
   "execution_count": null,
   "metadata": {},
   "outputs": [],
   "source": [
    "sarasas = [1, 2, 3]\n",
    "\n",
    "try:\n",
    "    print(sarasas[3])\n",
    "except IndexError:\n",
    "    print(\"Klaida: indeksas viršija sąrašo ribas\") # Klaida: indeksas viršija sąrašo ribas"
   ]
  },
  {
   "cell_type": "code",
   "execution_count": null,
   "metadata": {},
   "outputs": [],
   "source": [
    "zodynas = {\"a\": 1, \"b\": 2, \"c\": 3}\n",
    "\n",
    "try:\n",
    "    print(zodynas[\"d\"])\n",
    "except KeyError:\n",
    "    print(\"Klaida: rakto reikšmė neegzistuoja žodyne\") # Klaida: rakto reikšmė neegzistuoja žodyne"
   ]
  },
  {
   "cell_type": "code",
   "execution_count": null,
   "metadata": {},
   "outputs": [],
   "source": [
    "class Asmuo:\n",
    "    def __init__(self, vardas, amzius):\n",
    "        self.vardas = vardas\n",
    "        self.amzius = amzius\n",
    "\n",
    "zmogus = Asmuo(\"Jonas\", 25)\n",
    "print(zmogus.vardas)  # Jonas\n",
    "print(zmogus.pavarde)  # AttributeError: 'Asmuo' object has no attribute 'pavarde'"
   ]
  },
  {
   "cell_type": "code",
   "execution_count": null,
   "metadata": {},
   "outputs": [],
   "source": [
    "try:\n",
    "    print(zmogus.pavarde)\n",
    "except AttributeError:\n",
    "    print(\"Klaida: `pavarde` atributas neegzistuoja\") # Klaida: `pavarde` atributas neegzistuoja"
   ]
  },
  {
   "cell_type": "code",
   "execution_count": null,
   "metadata": {},
   "outputs": [],
   "source": [
    "if hasattr(zmogus, 'pavarde'):\n",
    "    print(zmogus.pavarde)\n",
    "else:\n",
    "    print(\"Klaida: `pavarde` atributas neegzistuoja\") # Klaida: `pavarde` atributas neegzistuoja"
   ]
  },
  {
   "cell_type": "code",
   "execution_count": null,
   "metadata": {},
   "outputs": [],
   "source": [
    "try:\n",
    "    x = 1 / 0\n",
    "except Exception as e:\n",
    "    print(\"Išimtis:\", e) # Išimtis: division by zero"
   ]
  },
  {
   "cell_type": "code",
   "execution_count": null,
   "metadata": {},
   "outputs": [],
   "source": [
    "try:\n",
    "    x = 1 / 0\n",
    "except Exception as e:\n",
    "    print(\"Išimtis:\", e.__class__.__name__) # Išimtis: ZeroDivisionError"
   ]
  }
 ],
 "metadata": {
  "language_info": {
   "name": "python"
  }
 },
 "nbformat": 4,
 "nbformat_minor": 2
}
