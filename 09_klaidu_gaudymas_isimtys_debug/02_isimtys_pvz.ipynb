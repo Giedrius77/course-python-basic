{
 "cells": [
  {
   "cell_type": "code",
   "execution_count": null,
   "metadata": {},
   "outputs": [],
   "source": [
    "skaicius = 42\n",
    "vardas = \"John\"\n",
    "rezultatas = vardas + skaicius # TypeError: can only concatenate str (not \"int\") to str"
   ]
  },
  {
   "cell_type": "code",
   "execution_count": null,
   "metadata": {},
   "outputs": [],
   "source": [
    "skaicius = 42\n",
    "vardas = \"John\"\n",
    "try:\n",
    "    rezultatas = vardas + skaicius\n",
    "except TypeError:\n",
    "    print(\"Klaida: negalima sudėti 'str' ir 'int' tipų duomenų\") # Klaida: negalima sudėti 'str' ir 'int' tipų duomenų"
   ]
  },
  {
   "cell_type": "code",
   "execution_count": null,
   "metadata": {},
   "outputs": [],
   "source": [
    "a = 10\n",
    "print(b) # NameError: name 'b' is not defined"
   ]
  },
  {
   "cell_type": "code",
   "execution_count": null,
   "metadata": {},
   "outputs": [],
   "source": [
    "a = 10\n",
    "try:\n",
    "    print(b)\n",
    "except NameError:\n",
    "    print(\"Klaida: kintamasis nebuvo apibrėžtas\") # Klaida: kintamasis nebuvo apibrėžtas"
   ]
  },
  {
   "cell_type": "code",
   "execution_count": null,
   "metadata": {},
   "outputs": [],
   "source": [
    "try:\n",
    "    x = int('abc')\n",
    "except ValueError:\n",
    "    print(\"Klaida: negalima konvertuoti reikšmės į skaičių\") # Klaida: negalima konvertuoti reikšmės į skaičių"
   ]
  },
  {
   "cell_type": "code",
   "execution_count": null,
   "metadata": {},
   "outputs": [],
   "source": [
    "try:\n",
    "    x = 1/0\n",
    "except ZeroDivisionError:\n",
    "    print(\"Klaida: negalima dalinti iš nulio\") # Klaida: negalima dalinti iš nulio"
   ]
  },
  {
   "cell_type": "code",
   "execution_count": null,
   "metadata": {},
   "outputs": [],
   "source": [
    "sarasas = [1, 2, 3]\n",
    "\n",
    "try:\n",
    "    print(sarasas[3])\n",
    "except IndexError:\n",
    "    print(\"Klaida: indeksas viršija sąrašo ribas\") # Klaida: indeksas viršija sąrašo ribas"
   ]
  },
  {
   "cell_type": "code",
   "execution_count": null,
   "metadata": {},
   "outputs": [],
   "source": [
    "zodynas = {\"a\": 1, \"b\": 2, \"c\": 3}\n",
    "\n",
    "try:\n",
    "    print(zodynas[\"d\"])\n",
    "except KeyError:\n",
    "    print(\"Klaida: rakto reikšmė neegzistuoja žodyne\") # Klaida: rakto reikšmė neegzistuoja žodyne"
   ]
  },
  {
   "cell_type": "code",
   "execution_count": null,
   "metadata": {},
   "outputs": [],
   "source": [
    "class Asmuo:\n",
    "    def __init__(self, vardas, amzius):\n",
    "        self.vardas = vardas\n",
    "        self.amzius = amzius\n",
    "\n",
    "zmogus = Asmuo(\"Jonas\", 25)\n",
    "print(zmogus.vardas)  # Jonas\n",
    "print(zmogus.pavarde)  # AttributeError: 'Asmuo' object has no attribute 'pavarde'"
   ]
  },
  {
   "cell_type": "code",
   "execution_count": null,
   "metadata": {},
   "outputs": [],
   "source": [
    "try:\n",
    "    print(zmogus.pavarde)\n",
    "except AttributeError:\n",
    "    print(\"Klaida: `pavarde` atributas neegzistuoja\") # Klaida: `pavarde` atributas neegzistuoja"
   ]
  },
  {
   "cell_type": "code",
   "execution_count": null,
   "metadata": {},
   "outputs": [],
   "source": [
    "if hasattr(zmogus, 'pavarde'):\n",
    "    print(zmogus.pavarde)\n",
    "else:\n",
    "    print(\"Klaida: `pavarde` atributas neegzistuoja\") # Klaida: `pavarde` atributas neegzistuoja"
   ]
  },
  {
   "cell_type": "code",
   "execution_count": null,
   "metadata": {},
   "outputs": [],
   "source": [
    "try:\n",
    "    x = 1 / 0\n",
    "except Exception as e:\n",
    "    print(\"Išimtis:\", e) # Išimtis: division by zero"
   ]
  },
  {
   "cell_type": "code",
   "execution_count": null,
   "metadata": {},
   "outputs": [],
   "source": [
    "try:\n",
    "    x = 1 / 0\n",
    "except Exception as e:\n",
    "    print(\"Išimtis:\", e.__class__.__name__) # Išimtis: ZeroDivisionError"
   ]
  },
  {
   "cell_type": "code",
   "execution_count": null,
   "metadata": {},
   "outputs": [],
   "source": [
    "def add_int_and_string(x, y):\n",
    "    try:\n",
    "        result = x + y\n",
    "        print(\"Sum:\", result)\n",
    "    except TypeError:\n",
    "        print(\"Error: Cannot add an integer and a string.\")\n",
    "\n",
    "# Example usage:\n",
    "integer_value = 5\n",
    "string_value = \"10\"\n",
    "\n",
    "add_int_and_string(integer_value, string_value)"
   ]
  },
  {
   "cell_type": "code",
   "execution_count": 1,
   "metadata": {},
   "outputs": [
    {
     "name": "stdout",
     "output_type": "stream",
     "text": [
      "Error: The variable 'undefined_variable' is not defined.\n"
     ]
    }
   ],
   "source": [
    "def print_undefined_variable():\n",
    "    try:\n",
    "        # Attempting to print an undefined variable\n",
    "        print(undefined_variable)\n",
    "    except NameError:\n",
    "        print(\"Error: The variable 'undefined_variable' is not defined.\")\n",
    "\n",
    "# Example usage:\n",
    "print_undefined_variable()"
   ]
  },
  {
   "cell_type": "code",
   "execution_count": null,
   "metadata": {},
   "outputs": [],
   "source": [
    "def convert_to_integer(value):\n",
    "    try:\n",
    "        # Attempting to convert the string to an integer\n",
    "        result = int(value)\n",
    "        print(\"Converted value:\", result)\n",
    "    except ValueError:\n",
    "        print(f\"Error: Cannot convert '{value}' to an integer.\")\n",
    "\n",
    "# Example usage:\n",
    "non_numeric_string = \"abc\"\n",
    "convert_to_integer(non_numeric_string)"
   ]
  },
  {
   "cell_type": "code",
   "execution_count": null,
   "metadata": {},
   "outputs": [],
   "source": [
    "def divide_by_zero(number):\n",
    "    try:\n",
    "        # Attempting to divide the number by zero\n",
    "        result = number / 0\n",
    "        print(\"Result of division:\", result)\n",
    "    except ZeroDivisionError:\n",
    "        print(\"Error: Cannot divide by zero.\")\n",
    "\n",
    "# Example usage:\n",
    "number_to_divide = 5\n",
    "divide_by_zero(number_to_divide)"
   ]
  },
  {
   "cell_type": "code",
   "execution_count": null,
   "metadata": {},
   "outputs": [],
   "source": [
    "def access_list_element(my_list, index):\n",
    "    try:\n",
    "        # Attempting to access an element using the specified index\n",
    "        result = my_list[index]\n",
    "        print(\"Element at index\", index, \":\", result)\n",
    "    except IndexError:\n",
    "        print(f\"Error: Index {index} is out of range for the given list.\")\n",
    "\n",
    "# Example usage:\n",
    "my_list = [1, 2, 3, 4, 5]\n",
    "out_of_range_index = 10\n",
    "access_list_element(my_list, out_of_range_index)"
   ]
  },
  {
   "cell_type": "code",
   "execution_count": null,
   "metadata": {},
   "outputs": [],
   "source": [
    "def access_dictionary_key(my_dict, key):\n",
    "    try:\n",
    "        # Attempting to access the value associated with the specified key\n",
    "        result = my_dict[key]\n",
    "        print(\"Value for key\", key, \":\", result)\n",
    "    except KeyError:\n",
    "        print(f\"Error: Key '{key}' does not exist in the given dictionary.\")\n",
    "\n",
    "# Example usage:\n",
    "my_dictionary = {'name': 'John', 'age': 25, 'city': 'New York'}\n",
    "nonexistent_key = 'gender'\n",
    "access_dictionary_key(my_dictionary, nonexistent_key)"
   ]
  },
  {
   "cell_type": "code",
   "execution_count": null,
   "metadata": {},
   "outputs": [],
   "source": [
    "class MyClass:\n",
    "    def __init__(self, name, age):\n",
    "        self.name = name\n",
    "        self.age = age\n",
    "\n",
    "# Creating an instance of the class\n",
    "my_instance = MyClass(name='John', age=25)\n",
    "\n",
    "def access_attribute(instance):\n",
    "    try:\n",
    "        # Attempting to access a nonexistent attribute\n",
    "        result = instance.address\n",
    "        print(\"Address:\", result)\n",
    "    except AttributeError:\n",
    "        print(\"Error: 'address' attribute does not exist for the given instance.\")\n",
    "\n",
    "# Example usage:\n",
    "access_attribute(my_instance)"
   ]
  },
  {
   "cell_type": "code",
   "execution_count": null,
   "metadata": {},
   "outputs": [],
   "source": [
    "class MyClass:\n",
    "    def __init__(self, name, age):\n",
    "        self.name = name\n",
    "        self.age = age\n",
    "\n",
    "# Creating an instance of the class\n",
    "my_instance = MyClass(name='John', age=25)\n",
    "\n",
    "def access_attribute(instance, attribute):\n",
    "    if hasattr(instance, attribute):\n",
    "        # Checking if the attribute exists\n",
    "        result = getattr(instance, attribute)\n",
    "        print(f\"{attribute.capitalize()}: {result}\")\n",
    "    else:\n",
    "        print(f\"Error: '{attribute}' attribute does not exist for the given instance.\")\n",
    "\n",
    "# Example usage:\n",
    "access_attribute(my_instance, 'address')"
   ]
  },
  {
   "cell_type": "code",
   "execution_count": null,
   "metadata": {},
   "outputs": [],
   "source": [
    "def handle_exceptions():\n",
    "    try:\n",
    "        # Example 1: Division by zero\n",
    "        result1 = 1 / 0\n",
    "\n",
    "        # Example 2: Converting a non-numeric string to an integer\n",
    "        result2 = int(\"abc\")\n",
    "\n",
    "        # Example 3: Accessing an element in a list with an out-of-range index\n",
    "        my_list = [1, 2, 3]\n",
    "        result3 = my_list[10]\n",
    "\n",
    "    except Exception as e:\n",
    "        print(f\"Error: {type(e).__name__} - {str(e)}\")\n",
    "\n",
    "# Example usage:\n",
    "handle_exceptions()"
   ]
  }
 ],
 "metadata": {
  "kernelspec": {
   "display_name": "venv",
   "language": "python",
   "name": "python3"
  },
  "language_info": {
   "codemirror_mode": {
    "name": "ipython",
    "version": 3
   },
   "file_extension": ".py",
   "mimetype": "text/x-python",
   "name": "python",
   "nbconvert_exporter": "python",
   "pygments_lexer": "ipython3",
   "version": "3.11.7"
  }
 },
 "nbformat": 4,
 "nbformat_minor": 2
}
