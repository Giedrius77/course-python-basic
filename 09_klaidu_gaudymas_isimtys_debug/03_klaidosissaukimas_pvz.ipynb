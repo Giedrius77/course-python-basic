{
 "cells": [
  {
   "cell_type": "code",
   "execution_count": null,
   "metadata": {},
   "outputs": [],
   "source": [
    "class ManoKlaida(Exception):\n",
    "    pass\n",
    "\n",
    "raise ManoKlaida(\"Nepavyko atidaryti failo\") # __main__.ManoKlaida: Nepavyko atidaryti failo"
   ]
  },
  {
   "cell_type": "code",
   "execution_count": null,
   "metadata": {},
   "outputs": [],
   "source": [
    "def padalinimas(x, y):\n",
    "    if y == 0:\n",
    "        raise ZeroDivisionError(\"Dalyba iš nulio negalima\")\n",
    "    return x / y\n",
    "\n",
    "try:\n",
    "    rezultatas = padalinimas(10, 0)\n",
    "except ZeroDivisionError as e:\n",
    "    print(e) # Dalyba iš nulio negalima\n",
    "else:\n",
    "    print(rezultatas)"
   ]
  },
  {
   "cell_type": "code",
   "execution_count": null,
   "metadata": {},
   "outputs": [],
   "source": [
    "def padalinimas(x, y):\n",
    "    if y == 0:\n",
    "        raise Exception(\"Dalyba iš nulio negalima\")\n",
    "    return x / y\n",
    "\n",
    "try:\n",
    "    rezultatas = padalinimas(10, 0)\n",
    "except Exception as e:\n",
    "    print(e) # Dalyba iš nulio negalima\n",
    "else:\n",
    "    print(rezultatas)"
   ]
  },
  {
   "cell_type": "code",
   "execution_count": null,
   "metadata": {},
   "outputs": [],
   "source": [
    "def skaiciu_kubas(skaicius):\n",
    "    if not isinstance(skaicius, int):\n",
    "        raise ValueError(\"Funkcija veikia tik su sveikais skaičiais\")\n",
    "    return skaicius ** 3\n",
    "\n",
    "try:\n",
    "    kubas = skaiciu_kubas(1.5)\n",
    "except ValueError as e:\n",
    "    print(e) # Funkcija veikia tik su sveikais skaičiais\n",
    "else:\n",
    "    print(kubas)"
   ]
  },
  {
   "cell_type": "markdown",
   "metadata": {},
   "source": [
    "# Pirma užduotis\n",
    "Parašykite programą, kuri leistų vartotojui įvesti teigiamą skaičių.\n",
    "Programa turi sugauti galimas klaidas.\n"
   ]
  },
  {
   "cell_type": "code",
   "execution_count": null,
   "metadata": {},
   "outputs": [],
   "source": [
    "while True:\n",
    "    try:\n",
    "        skaicius = float(input(\"Įveskite teigiamą skaičių: \"))\n",
    "        if skaicius <= 0:\n",
    "            raise ValueError(\"Įvestas skaičius yra neigiamas\")\n",
    "        else:\n",
    "            print(\"Ačiū, jūs įvedėte:\", skaicius)\n",
    "            break\n",
    "    except ValueError as error:\n",
    "        print(\"Klaida:\", error)"
   ]
  },
  {
   "cell_type": "code",
   "execution_count": 3,
   "metadata": {},
   "outputs": [
    {
     "name": "stdout",
     "output_type": "stream",
     "text": [
      "The number is valid\n"
     ]
    }
   ],
   "source": [
    "class NegativeNumberError(Exception):\n",
    "    pass\n",
    "\n",
    "def check_positive_number(number):\n",
    "    if number < 0:\n",
    "        raise NegativeNumberError(\"Number cannot be negative\")\n",
    "\n",
    "try:\n",
    "    check_positive_number(5)\n",
    "except NegativeNumberError as e:\n",
    "    print(e)\n",
    "else:\n",
    "    print(\"The number is valid\")"
   ]
  },
  {
   "cell_type": "code",
   "execution_count": 2,
   "metadata": {},
   "outputs": [
    {
     "name": "stdout",
     "output_type": "stream",
     "text": [
      "Division by zero is not allowed\n"
     ]
    }
   ],
   "source": [
    "def perform_division(numerator, denominator):\n",
    "    if denominator == 0:\n",
    "        raise Exception(\"Division by zero is not allowed\")\n",
    "    return numerator / denominator\n",
    "\n",
    "try:\n",
    "    result = perform_division(10, 0)\n",
    "except Exception as e:\n",
    "    print(e)\n",
    "else:\n",
    "    print(result)"
   ]
  },
  {
   "cell_type": "code",
   "execution_count": 1,
   "metadata": {},
   "outputs": [
    {
     "name": "stdout",
     "output_type": "stream",
     "text": [
      "Input must be a number\n"
     ]
    }
   ],
   "source": [
    "def calculate_square(number):\n",
    "    if not isinstance(number, (int, float)):\n",
    "        raise ValueError(\"Input must be a number\")\n",
    "    return number ** 2\n",
    "\n",
    "try:\n",
    "    result = calculate_square(\"abc\")\n",
    "except ValueError as e:\n",
    "    print(e)\n",
    "else:\n",
    "    print(result)"
   ]
  }
 ],
 "metadata": {
  "kernelspec": {
   "display_name": "venv",
   "language": "python",
   "name": "python3"
  },
  "language_info": {
   "codemirror_mode": {
    "name": "ipython",
    "version": 3
   },
   "file_extension": ".py",
   "mimetype": "text/x-python",
   "name": "python",
   "nbconvert_exporter": "python",
   "pygments_lexer": "ipython3",
   "version": "3.11.7"
  }
 },
 "nbformat": 4,
 "nbformat_minor": 2
}
