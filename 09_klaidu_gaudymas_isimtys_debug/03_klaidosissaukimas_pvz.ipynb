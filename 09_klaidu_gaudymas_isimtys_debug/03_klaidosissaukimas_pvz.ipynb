{
 "cells": [
  {
   "cell_type": "code",
   "execution_count": null,
   "metadata": {},
   "outputs": [],
   "source": [
    "class ManoKlaida(Exception):\n",
    "    pass\n",
    "\n",
    "raise ManoKlaida(\"Nepavyko atidaryti failo\") # __main__.ManoKlaida: Nepavyko atidaryti failo"
   ]
  },
  {
   "cell_type": "code",
   "execution_count": null,
   "metadata": {},
   "outputs": [],
   "source": [
    "def padalinimas(x, y):\n",
    "    if y == 0:\n",
    "        raise ZeroDivisionError(\"Dalyba iš nulio negalima\")\n",
    "    return x / y\n",
    "\n",
    "try:\n",
    "    rezultatas = padalinimas(10, 0)\n",
    "except ZeroDivisionError as e:\n",
    "    print(e) # Dalyba iš nulio negalima\n",
    "else:\n",
    "    print(rezultatas)"
   ]
  },
  {
   "cell_type": "code",
   "execution_count": null,
   "metadata": {},
   "outputs": [],
   "source": [
    "def padalinimas(x, y):\n",
    "    if y == 0:\n",
    "        raise Exception(\"Dalyba iš nulio negalima\")\n",
    "    return x / y\n",
    "\n",
    "try:\n",
    "    rezultatas = padalinimas(10, 0)\n",
    "except Exception as e:\n",
    "    print(e) # Dalyba iš nulio negalima\n",
    "else:\n",
    "    print(rezultatas)"
   ]
  },
  {
   "cell_type": "code",
   "execution_count": null,
   "metadata": {},
   "outputs": [],
   "source": [
    "def skaiciu_kubas(skaicius):\n",
    "    if not isinstance(skaicius, int):\n",
    "        raise ValueError(\"Funkcija veikia tik su sveikais skaičiais\")\n",
    "    return skaicius ** 3\n",
    "\n",
    "try:\n",
    "    kubas = skaiciu_kubas(1.5)\n",
    "except ValueError as e:\n",
    "    print(e) # Funkcija veikia tik su sveikais skaičiais\n",
    "else:\n",
    "    print(kubas)"
   ]
  },
  {
   "cell_type": "markdown",
   "metadata": {},
   "source": [
    "# Pirma užduotis\n",
    "Parašykite programą, kuri leistų vartotojui įvesti teigiamą skaičių.\n",
    "Programa turi sugauti galimas klaidas.\n"
   ]
  },
  {
   "cell_type": "code",
   "execution_count": null,
   "metadata": {},
   "outputs": [],
   "source": [
    "while True:\n",
    "    try:\n",
    "        skaicius = float(input(\"Įveskite teigiamą skaičių: \"))\n",
    "        if skaicius <= 0:\n",
    "            raise ValueError(\"Įvestas skaičius yra neigiamas\")\n",
    "        else:\n",
    "            print(\"Ačiū, jūs įvedėte:\", skaicius)\n",
    "            break\n",
    "    except ValueError as error:\n",
    "        print(\"Klaida:\", error)"
   ]
  }
 ],
 "metadata": {
  "language_info": {
   "name": "python"
  }
 },
 "nbformat": 4,
 "nbformat_minor": 2
}
