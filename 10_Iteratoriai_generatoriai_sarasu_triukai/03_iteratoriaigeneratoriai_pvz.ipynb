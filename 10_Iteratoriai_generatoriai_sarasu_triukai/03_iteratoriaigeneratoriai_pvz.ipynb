{
 "cells": [
  {
   "cell_type": "code",
   "execution_count": null,
   "metadata": {},
   "outputs": [],
   "source": [
    "# Sukuriame sąrašą\n",
    "my_list = [1, 2, 3, 4, 5]\n",
    "\n",
    "# Sukuriame iteratoriaus objektą\n",
    "my_iterator = iter(my_list)\n",
    "\n",
    "# Iteruojame per iteratoriaus elementus su next() metodu\n",
    "try:\n",
    "    print(next(my_iterator)) # 1\n",
    "    print(next(my_iterator)) # 2\n",
    "    print(next(my_iterator)) # 3\n",
    "    print(next(my_iterator)) # 4\n",
    "    print(next(my_iterator)) # 5\n",
    "    print(next(my_iterator)) # sukels StopIteration išimtį\n",
    "except StopIteration:\n",
    "    print(\"Baigta iteracija\")"
   ]
  },
  {
   "cell_type": "code",
   "execution_count": null,
   "metadata": {},
   "outputs": [],
   "source": [
    "# Create a list\n",
    "my_list = [1, 2, 3, 4, 5]\n",
    "\n",
    "# Create an iterator object\n",
    "my_iterator = iter(my_list)\n",
    "\n",
    "# Iterate over iterator elements using the next() method\n",
    "try:\n",
    "    print(next(my_iterator))  # 1\n",
    "    print(next(my_iterator))  # 2\n",
    "    print(next(my_iterator))  # 3\n",
    "    print(next(my_iterator))  # 4\n",
    "    print(next(my_iterator))  # 5\n",
    "    print(next(my_iterator))  # Raises StopIteration exception\n",
    "except StopIteration:\n",
    "    print(\"Iteration finished\")"
   ]
  },
  {
   "cell_type": "code",
   "execution_count": null,
   "metadata": {},
   "outputs": [],
   "source": [
    "# Sukuriame sąrašą\n",
    "mano_sarasas = [1, 2, 3, 4, 5]\n",
    "\n",
    "# Iteruojame per sąrašą su for ciklu\n",
    "for elementas in mano_sarasas:\n",
    "    print(elementas)"
   ]
  },
  {
   "cell_type": "code",
   "execution_count": null,
   "metadata": {},
   "outputs": [],
   "source": [
    "# Create a list\n",
    "my_list = [1, 2, 3, 4, 5]\n",
    "\n",
    "# Iterate over the list with a for loop\n",
    "for element in my_list:\n",
    "    print(element)"
   ]
  },
  {
   "cell_type": "code",
   "execution_count": null,
   "metadata": {},
   "outputs": [],
   "source": [
    "# Sukuriame žodyną\n",
    "mano_zodynas = {\"A\": 1, \"B\": 2, \"C\": 3}\n",
    "\n",
    "# Iteruojame per žodyno raktus ir reikšmes su for ciklu\n",
    "for raktas, reiksme in mano_zodynas.items():\n",
    "    print(raktas, reiksme)"
   ]
  },
  {
   "cell_type": "code",
   "execution_count": null,
   "metadata": {},
   "outputs": [],
   "source": [
    "# Create a dictionary\n",
    "my_dict = {\"A\": 1, \"B\": 2, \"C\": 3}\n",
    "\n",
    "# Iterate over the dictionary keys and values with a for loop\n",
    "for key, value in my_dict.items():\n",
    "    print(key, value)"
   ]
  },
  {
   "cell_type": "code",
   "execution_count": null,
   "metadata": {},
   "outputs": [],
   "source": [
    "# Sukuriame tekstinę eilutę\n",
    "eilute = \"Labas, pasauli!\"\n",
    "\n",
    "# Iteruojame per eilutės simbolius su for ciklu\n",
    "for simbolis in eilute:\n",
    "    print(simbolis)"
   ]
  },
  {
   "cell_type": "code",
   "execution_count": null,
   "metadata": {},
   "outputs": [],
   "source": [
    "# Create a string\n",
    "sentence = \"Hello, world!\"\n",
    "\n",
    "# Iterate over the characters of the string with a for loop\n",
    "for character in sentence:\n",
    "    print(character)"
   ]
  },
  {
   "cell_type": "code",
   "execution_count": null,
   "metadata": {},
   "outputs": [],
   "source": [
    "# Sukuriame sąrašą\n",
    "mano_sarasas = [1, 2, 3, 4, 5]\n",
    "\n",
    "# Sukuriame iteratoriaus objektą\n",
    "mano_iteratorius = iter(mano_sarasas)\n",
    "\n",
    "# Iteruojame per iteratoriaus elementus su while ciklu\n",
    "while True:\n",
    "    try:\n",
    "        elementas = next(mano_iteratorius)\n",
    "        print(elementas)\n",
    "    except StopIteration:\n",
    "        break"
   ]
  },
  {
   "cell_type": "code",
   "execution_count": null,
   "metadata": {},
   "outputs": [],
   "source": [
    "# Create a list\n",
    "my_list = [1, 2, 3, 4, 5]\n",
    "\n",
    "# Create an iterator object\n",
    "my_iterator = iter(my_list)\n",
    "\n",
    "# Iterate over the iterator elements with a while loop\n",
    "while True:\n",
    "    try:\n",
    "        element = next(my_iterator)\n",
    "        print(element)\n",
    "    except StopIteration:\n",
    "        break"
   ]
  },
  {
   "cell_type": "code",
   "execution_count": null,
   "metadata": {},
   "outputs": [],
   "source": [
    "# Sukuriame žodyną\n",
    "mano_zodynas = {\"A\": 1, \"B\": 2, \"C\": 3}\n",
    "\n",
    "# Sukuriame iteratoriaus objektą\n",
    "mano_iteratorius = iter(mano_zodynas.items())\n",
    "\n",
    "# Iteruojame per iteratoriaus elementus su while ciklu\n",
    "while True:\n",
    "    try:\n",
    "        raktas, reiksme = next(mano_iteratorius)\n",
    "        print(raktas, reiksme)\n",
    "    except StopIteration:\n",
    "        break"
   ]
  },
  {
   "cell_type": "code",
   "execution_count": null,
   "metadata": {},
   "outputs": [],
   "source": [
    "# Create a dictionary\n",
    "my_dict = {\"A\": 1, \"B\": 2, \"C\": 3}\n",
    "\n",
    "# Create an iterator object\n",
    "my_iterator = iter(my_dict.items())\n",
    "\n",
    "# Iterate over the iterator elements with a while loop\n",
    "while True:\n",
    "    try:\n",
    "        key, value = next(my_iterator)\n",
    "        print(key, value)\n",
    "    except StopIteration:\n",
    "        break"
   ]
  },
  {
   "cell_type": "code",
   "execution_count": null,
   "metadata": {},
   "outputs": [],
   "source": [
    "# Sukuriame tekstinę eilutę\n",
    "eilute = \"Labas, pasauli!\"\n",
    "\n",
    "# Sukuriame iteratoriaus objektą\n",
    "eilutes_iteratorius = iter(eilute)\n",
    "\n",
    "# Iteruojame per iteratoriaus elementus su while ciklu\n",
    "while True:\n",
    "    try:\n",
    "        simbolis = next(eilutes_iteratorius)\n",
    "        print(simbolis)\n",
    "    except StopIteration:\n",
    "        break"
   ]
  },
  {
   "cell_type": "code",
   "execution_count": null,
   "metadata": {},
   "outputs": [],
   "source": [
    "# Create a string\n",
    "sentence = \"Hello, world!\"\n",
    "\n",
    "# Create an iterator object\n",
    "sentence_iterator = iter(sentence)\n",
    "\n",
    "# Iterate over the iterator elements with a while loop\n",
    "while True:\n",
    "    try:\n",
    "        character = next(sentence_iterator)\n",
    "        print(character)\n",
    "    except StopIteration:\n",
    "        break"
   ]
  },
  {
   "cell_type": "code",
   "execution_count": null,
   "metadata": {},
   "outputs": [],
   "source": [
    "def skaiciai_iki_n(n):\n",
    "    i = 0\n",
    "    while i < n:\n",
    "        yield i\n",
    "        i += 1\n",
    "\n",
    "# Sukuriamas generatorius, kuris generuoja skaičius nuo 0 iki 9\n",
    "generatorius = skaiciai_iki_n(10)\n",
    "\n",
    "for skaicius in generatorius:\n",
    "    print(skaicius)"
   ]
  },
  {
   "cell_type": "code",
   "execution_count": null,
   "metadata": {},
   "outputs": [],
   "source": [
    "def numbers_up_to_n(n):\n",
    "    i = 0\n",
    "    while i < n:\n",
    "        yield i\n",
    "        i += 1\n",
    "\n",
    "# Create a generator that generates numbers from 0 to 9\n",
    "generator = numbers_up_to_n(10)\n",
    "\n",
    "for number in generator:\n",
    "    print(number)"
   ]
  },
  {
   "cell_type": "code",
   "execution_count": null,
   "metadata": {},
   "outputs": [],
   "source": [
    "def skaiciai_iki_n(n):\n",
    "    i = 0\n",
    "    while i < n:\n",
    "        yield i\n",
    "        i += 1\n",
    "\n",
    "generatorius = skaiciai_iki_n(3)\n",
    "\n",
    "print(next(generatorius))  # 0\n",
    "print(next(generatorius))  # 1\n",
    "print(next(generatorius))  # 2\n",
    "print(next(generatorius))  # Sukels StopIteration klaidą"
   ]
  },
  {
   "cell_type": "code",
   "execution_count": null,
   "metadata": {},
   "outputs": [],
   "source": [
    "def numbers_up_to_n(n):\n",
    "    i = 0\n",
    "    while i < n:\n",
    "        yield i\n",
    "        i += 1\n",
    "\n",
    "generator = numbers_up_to_n(3)\n",
    "\n",
    "print(next(generator))  # 0\n",
    "print(next(generator))  # 1\n",
    "print(next(generator))  # 2\n",
    "print(next(generator))  # Raises StopIteration error"
   ]
  },
  {
   "cell_type": "code",
   "execution_count": null,
   "metadata": {},
   "outputs": [],
   "source": [
    "skaiciai = (x for x in range(10))\n",
    "\n",
    "for skaicius in skaiciai:\n",
    "    print(skaicius)"
   ]
  },
  {
   "cell_type": "code",
   "execution_count": null,
   "metadata": {},
   "outputs": [],
   "source": [
    "numbers = (x for x in range(10))\n",
    "\n",
    "for number in numbers:\n",
    "    print(number)"
   ]
  },
  {
   "cell_type": "markdown",
   "metadata": {},
   "source": [
    "# `Quick Assignment 1: Basic Iterator`\n",
    "\n",
    "1. Create a `list` of your favorite fruits.\n",
    "1. Create an iterator `object` for the list.\n",
    "1. Iterate over the iterator using the `next()` method and `print` each fruit."
   ]
  },
  {
   "cell_type": "code",
   "execution_count": null,
   "metadata": {},
   "outputs": [],
   "source": [
    "# 1. Create a list of favorite fruits\n",
    "favorite_fruits = [\"apple\", \"banana\", \"orange\", \"grape\", \"kiwi\"]\n",
    "\n",
    "# 2. Create an iterator object for the list\n",
    "fruit_iterator = iter(favorite_fruits)\n",
    "\n",
    "# 3. Iterate over the iterator using next() method and print each fruit\n",
    "try:\n",
    "    print(next(fruit_iterator))\n",
    "    print(next(fruit_iterator))\n",
    "    print(next(fruit_iterator))\n",
    "    print(next(fruit_iterator))\n",
    "    print(next(fruit_iterator))\n",
    "    print(next(fruit_iterator))  # Raises StopIteration exception\n",
    "except StopIteration:\n",
    "    print(\"Iteration finished\")\n"
   ]
  },
  {
   "cell_type": "markdown",
   "metadata": {},
   "source": [
    "# `Quick Assignment 2: Iterator with \"for\" Loop`\n",
    "\n",
    "1. Create a `dictionary` of programming languages and their popularity.\n",
    "1. Iterate over the `dictionary` using a `for` loop and `print` each language and its popularity."
   ]
  },
  {
   "cell_type": "code",
   "execution_count": null,
   "metadata": {},
   "outputs": [],
   "source": [
    "# 1. Create a dictionary of programming languages and their popularity\n",
    "programming_languages = {\"Python\": 1, \"JavaScript\": 2, \"Java\": 3, \"C#\": 4}\n",
    "\n",
    "# 2. Iterate over the dictionary using a for loop\n",
    "for language, popularity in programming_languages.items():\n",
    "    print(language, popularity)\n"
   ]
  },
  {
   "cell_type": "markdown",
   "metadata": {},
   "source": [
    "# `Quick Assignment 3: Iterator with \"while\" Loop`\n",
    "\n",
    "1. Create a `set` of your favorite colors.\n",
    "1. Create an iterator `object` for the set.\n",
    "1. Iterate over the iterator using a `while` loop and `print` each color."
   ]
  },
  {
   "cell_type": "code",
   "execution_count": null,
   "metadata": {},
   "outputs": [],
   "source": [
    "# 1. Create a set of favorite colors\n",
    "favorite_colors = {\"red\", \"blue\", \"green\", \"yellow\", \"purple\"}\n",
    "\n",
    "# 2. Create an iterator object for the set\n",
    "color_iterator = iter(favorite_colors)\n",
    "\n",
    "# 3. Iterate over the iterator using a while loop and print each color\n",
    "while True:\n",
    "    try:\n",
    "        color = next(color_iterator)\n",
    "        print(color)\n",
    "    except StopIteration:\n",
    "        break\n"
   ]
  },
  {
   "cell_type": "markdown",
   "metadata": {},
   "source": [
    "# `Quick Assignment 4: Basic Generator Function`\n",
    "\n",
    "1. Write a generator function that `yields` square numbers up to 5.\n",
    "1. Create a generator `object` using the function.\n",
    "Iterate `over` the generator and `print` each square number."
   ]
  },
  {
   "cell_type": "code",
   "execution_count": null,
   "metadata": {},
   "outputs": [],
   "source": [
    "# 1. Write a generator function that yields square numbers up to 5\n",
    "def squares_up_to_5():\n",
    "    for num in range(5):\n",
    "        yield num ** 2\n",
    "\n",
    "# 2. Create a generator object using the function\n",
    "square_generator = squares_up_to_5()\n",
    "\n",
    "# 3. Iterate over the generator and print each square number\n",
    "for square in square_generator:\n",
    "    print(square)\n"
   ]
  },
  {
   "cell_type": "markdown",
   "metadata": {},
   "source": [
    "# `Quick Assignment 5: Generator with \"next()\"`\n",
    "\n",
    "1. Write a generator function that `yields` even numbers up to 8.\n",
    "1. Create a generator `object` using the function.\n",
    "1. Use the `next()` function to `print` the first three even numbers."
   ]
  },
  {
   "cell_type": "code",
   "execution_count": null,
   "metadata": {},
   "outputs": [],
   "source": [
    "# 1. Write a generator function that yields even numbers up to 8\n",
    "def even_numbers_up_to_8():\n",
    "    for num in range(0, 9, 2):\n",
    "        yield num\n",
    "\n",
    "# 2. Create a generator object using the function\n",
    "even_generator = even_numbers_up_to_8()\n",
    "\n",
    "# 3. Use the next() function to print the first three even numbers\n",
    "print(next(even_generator))\n",
    "print(next(even_generator))\n",
    "print(next(even_generator))\n"
   ]
  },
  {
   "cell_type": "markdown",
   "metadata": {},
   "source": [
    "# `Quick Assignment 6: Generator Declaration`\n",
    "\n",
    "1. Create a generator `expression` that generates cube numbers up to 4.\n",
    "1. Iterate `over` the generator and `print` each cube number."
   ]
  },
  {
   "cell_type": "code",
   "execution_count": null,
   "metadata": {},
   "outputs": [],
   "source": [
    "# 1. Create a generator expression that generates cube numbers up to 4\n",
    "cube_generator = (num ** 3 for num in range(4))\n",
    "\n",
    "# 2. Iterate over the generator and print each cube number\n",
    "for cube in cube_generator:\n",
    "    print(cube)\n"
   ]
  },
  {
   "cell_type": "markdown",
   "metadata": {},
   "source": [
    "# `Bonus Assignment: Custom Iterator`\n",
    "\n",
    "1. Create a class named `MyRange` that acts as a custom iterator for a range of numbers.\n",
    "1. Implement the `__iter__` and `__next__` methods in the class.\n",
    "1. Use your `custom` iterator to iterate over a range of numbers and `print` each value."
   ]
  },
  {
   "cell_type": "code",
   "execution_count": null,
   "metadata": {},
   "outputs": [],
   "source": [
    "class MyRange:\n",
    "    def __init__(self, start, end):\n",
    "        self.current = start\n",
    "        self.end = end\n",
    "\n",
    "    def __iter__(self):\n",
    "        return self\n",
    "\n",
    "    def __next__(self):\n",
    "        if self.current < self.end:\n",
    "            result = self.current\n",
    "            self.current += 1\n",
    "            return result\n",
    "        else:\n",
    "            raise StopIteration\n",
    "\n",
    "# Use the custom iterator to iterate over a range of numbers and print each value\n",
    "custom_range = MyRange(2, 6)\n",
    "for num in custom_range:\n",
    "    print(num)\n"
   ]
  }
 ],
 "metadata": {
  "language_info": {
   "name": "python"
  }
 },
 "nbformat": 4,
 "nbformat_minor": 2
}
