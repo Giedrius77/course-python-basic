{
 "cells": [
  {
   "cell_type": "code",
   "execution_count": null,
   "metadata": {},
   "outputs": [],
   "source": [
    "numbers = [1, 2, 3, 4, 5]\n",
    "condition = lambda x: x % 2 == 0\n",
    "filtered_numbers = [x for x in numbers if condition(x)]\n",
    "print(filtered_numbers)  # Result: [2, 4]"
   ]
  },
  {
   "cell_type": "code",
   "execution_count": null,
   "metadata": {},
   "outputs": [],
   "source": [
    "sarasas = [5, 12, 7, 18, 4, 15]\n",
    "\n",
    "# Atrinkti ir padidinti dvigubai skaičius, didesnius už 10\n",
    "result = map(lambda x: x * 2, filter(lambda x: x > 10, sarasas))\n",
    "print(list(result))  # [24, 36, 30]\n",
    "\n",
    "# Su paprastomis funkcijomis ir `for` ciklais\n",
    "result = [x * 2 for x in sarasas if x > 10]\n",
    "print(result)  # [24, 36, 30]"
   ]
  },
  {
   "cell_type": "code",
   "execution_count": null,
   "metadata": {},
   "outputs": [],
   "source": [
    "numbers = [1, 2, 3, 4, 5]\n",
    "doubled_numbers = [(lambda x: x * 2)(x) for x in numbers]\n",
    "print(doubled_numbers)  # Result: [2, 4, 6, 8, 10]"
   ]
  },
  {
   "cell_type": "code",
   "execution_count": null,
   "metadata": {},
   "outputs": [],
   "source": [
    "from functools import reduce\n",
    "\n",
    "sarasas = [1, 2, 3, 4, 5]\n",
    "\n",
    "# Rasti sandaugą\n",
    "sandauga = reduce(lambda x, y: x * y, sarasas)\n",
    "print(sandauga)  # 120"
   ]
  },
  {
   "cell_type": "code",
   "execution_count": null,
   "metadata": {},
   "outputs": [],
   "source": [
    "from functools import reduce\n",
    "import operator\n",
    "\n",
    "numbers = [1, 2, 3, 4, 5]\n",
    "sum_result = reduce(lambda x, y: x + y, numbers)\n",
    "print(sum_result)  # Result: 15\n",
    "\n",
    "max_result = reduce(lambda x, y: x if x > y else y, numbers)\n",
    "print(max_result)  # Result: 5"
   ]
  },
  {
   "cell_type": "code",
   "execution_count": null,
   "metadata": {},
   "outputs": [],
   "source": [
    "from functools import reduce\n",
    "\n",
    "sarasas = [1, 2, 3, 4, 5]\n",
    "\n",
    "result = reduce(lambda x, y: x + y, filter(lambda x: x % 2 == 0, sarasas)) / len(list(filter(lambda x: x % 2 == 0, sarasas)))\n",
    "print(result)  # 3.0\n",
    "\n",
    "# Su paprastomis funkcijomis ir `for` ciklais\n",
    "result = sum(x for x in sarasas if x % 2 == 0) / len([x for x in sarasas if x % 2 == 0])\n",
    "print(result)  # 3.0"
   ]
  },
  {
   "cell_type": "code",
   "execution_count": null,
   "metadata": {},
   "outputs": [],
   "source": [
    "import statistics\n",
    "\n",
    "sarasas = [1, 2, 3, 4, 5]\n",
    "\n",
    "print(sum(sarasas))  # 15\n",
    "print(statistics.mean(sarasas))  # 3.0\n",
    "print(statistics.median(sarasas))  # 3\n",
    "print(min(sarasas))  # 1\n",
    "print(max(sarasas))  # 5"
   ]
  },
  {
   "cell_type": "code",
   "execution_count": null,
   "metadata": {},
   "outputs": [],
   "source": [
    "import statistics\n",
    "\n",
    "numbers = [1, 2, 3, 4, 5]\n",
    "print(sum(numbers))  # Result: 15\n",
    "print(max(numbers))  # Result: 5\n",
    "print(min(numbers))  # Result: 1\n",
    "print(statistics.mean(numbers))  # Result: 3.0\n",
    "print(statistics.median(numbers))  # Result: 3"
   ]
  },
  {
   "cell_type": "code",
   "execution_count": null,
   "metadata": {},
   "outputs": [],
   "source": [
    "numbers = [3, 1, 4, 1, 5, 9, 2]\n",
    "numbers.sort()\n",
    "print(numbers)  # Result: [1, 1, 2, 3, 4, 5, 9]\n",
    "\n",
    "numbers.sort(reverse=True)\n",
    "print(numbers)  # Result: [9, 5, 4, 3, 2, 1, 1]\n",
    "\n",
    "word_list = [\"one\", \"two\", \"three\", \"four\", \"five\"]\n",
    "word_list.sort(key=len)\n",
    "print(word_list)  # Result: ['one', 'two', 'four', 'five', 'three']"
   ]
  },
  {
   "cell_type": "code",
   "execution_count": null,
   "metadata": {},
   "outputs": [],
   "source": [
    "sarasas = [3, 1, 4, 1, 5, 9, 2]\n",
    "\n",
    "result = sorted(sarasas, key=lambda x: x % 3)\n",
    "print(result)  # [3, 9, 1, 4, 1, 5, 2]"
   ]
  },
  {
   "cell_type": "code",
   "execution_count": null,
   "metadata": {},
   "outputs": [],
   "source": [
    "numbers = [3, 1, 4, 1, 5, 9, 2]\n",
    "sorted_numbers = sorted(numbers)\n",
    "print(sorted_numbers)  # Result: [1, 1, 2, 3, 4, 5, 9]"
   ]
  },
  {
   "cell_type": "code",
   "execution_count": null,
   "metadata": {},
   "outputs": [],
   "source": [
    "class Student:\n",
    "    def __init__(self, name, surname, grades):\n",
    "        self.name = name\n",
    "        self.surname = surname\n",
    "        self.grades = grades\n",
    "\n",
    "    def average(self):\n",
    "        return sum(self.grades) / len(self.grades)\n",
    "\n",
    "students = [\n",
    "    Student(\"John\", \"Doe\", [8, 9, 7]),\n",
    "    Student(\"Peter\", \"Smith\", [10, 9, 10]),\n",
    "    Student(\"Anna\", \"Johnson\", [6, 8, 7]),\n",
    "]\n",
    "\n",
    "sorted_students = sorted(students, key=lambda student: student.name)\n",
    "for student in sorted_students:\n",
    "    print(f\"{student.name} {student.surname} {student.average()}\")"
   ]
  },
  {
   "cell_type": "code",
   "execution_count": null,
   "metadata": {},
   "outputs": [],
   "source": [
    "from operator import attrgetter\n",
    "\n",
    "class Student:\n",
    "    def __init__(self, name, surname, grades):\n",
    "        self.name = name\n",
    "        self.surname = surname\n",
    "        self.grades = grades\n",
    "\n",
    "    def average(self):\n",
    "        return sum(self.grades) / len(self.grades)\n",
    "\n",
    "students = [\n",
    "    Student(\"John\", \"Doe\", [8, 9, 7]),\n",
    "    Student(\"Peter\", \"Smith\", [10, 9, 10]),\n",
    "    Student(\"Anna\", \"Johnson\", [6, 8, 7]),\n",
    "]\n",
    "\n",
    "sorted_students = sorted(students, key=attrgetter(\"name\"))\n",
    "for student in sorted_students:\n",
    "    print(f\"{student.name} {student.surname} {student.average()}\")"
   ]
  },
  {
   "cell_type": "code",
   "execution_count": null,
   "metadata": {},
   "outputs": [],
   "source": [
    "sorted_students = sorted(students, key=attrgetter(\"surname\", \"name\"))\n",
    "for student in sorted_students:\n",
    "    print(f\"{student.surname} {student.name} {student.average()}\")"
   ]
  },
  {
   "cell_type": "markdown",
   "metadata": {},
   "source": [
    "# `Assignment 1: List Comprehension`\n",
    "\n",
    "1. Create a list comprehension that `squares` the numbers from 1 to 10.\n",
    "1. Filter a list of words to extract only the words that contain the letter '`a`'.\n",
    "1. Using list comprehension, `double` each element in a list of integers.\n",
    "1. Write a list comprehension to generate a list of `even` numbers from 1 to 20."
   ]
  },
  {
   "cell_type": "code",
   "execution_count": null,
   "metadata": {},
   "outputs": [],
   "source": [
    "# 1.\n",
    "squared_numbers = [x**2 for x in range(1, 11)]\n",
    "\n",
    "# 2.\n",
    "words = [\"apple\", \"banana\", \"cherry\", \"date\", \"fig\"]\n",
    "words_with_a = [word for word in words if 'a' in word]\n",
    "\n",
    "# 3\n",
    "numbers = [1, 2, 3, 4, 5]\n",
    "doubled_numbers = [x * 2 for x in numbers]\n",
    "\n",
    "# 4\n",
    "even_numbers = [x for x in range(1, 21) if x % 2 == 0]"
   ]
  },
  {
   "cell_type": "markdown",
   "metadata": {},
   "source": [
    "# `Assignment 2: List Helper Functions`\n",
    "\n",
    "1. Calculate the sum of numbers in a list using the `reduce()` function.\n",
    "1. Find the maximum value in a list using the `reduce()` function.\n",
    "1. Calculate the mean (average) of a list using the `statistics` module.\n",
    "1. Sort a list of words in alphabetical order using the `sort()` method.\n",
    "1. Sort a list of numbers in descending order using the `sort()` method."
   ]
  },
  {
   "cell_type": "code",
   "execution_count": null,
   "metadata": {},
   "outputs": [],
   "source": [
    "# 1.\n",
    "from functools import reduce\n",
    "\n",
    "numbers = [1, 2, 3, 4, 5]\n",
    "total = reduce(lambda x, y: x + y, numbers)\n",
    "\n",
    "# 2.\n",
    "from functools import reduce\n",
    "\n",
    "numbers = [1, 2, 3, 4, 5]\n",
    "max_value = reduce(lambda x, y: x if x > y else y, numbers)\n",
    "\n",
    "# 3.\n",
    "import statistics\n",
    "\n",
    "numbers = [1, 2, 3, 4, 5]\n",
    "mean = statistics.mean(numbers)\n",
    "\n",
    "# 4.\n",
    "words = [\"cherry\", \"banana\", \"date\", \"apple\", \"fig\"]\n",
    "words.sort()\n",
    "\n",
    "# 5.\n",
    "numbers = [3, 1, 4, 1, 5, 9, 2]\n",
    "numbers.sort(reverse=True)"
   ]
  },
  {
   "cell_type": "markdown",
   "metadata": {},
   "source": [
    "# `Assignment 3: Sorting Objects in a List`\n",
    "\n",
    "1. Create a class named `Product` with attributes for `name`, `price`, and `quantity`. Create a list of `Product` objects.\n",
    "1. Sort the list of `Product` objects by price in `ascending` order without using `attrgetter()`.\n",
    "1. Sort the same list of `Product` objects by quantity in `descending` order using `attrgetter()`.\n",
    "1. Sort a list of `Person` objects by age, where each `Person` has attributes for `name` and `age`."
   ]
  },
  {
   "cell_type": "code",
   "execution_count": null,
   "metadata": {},
   "outputs": [],
   "source": [
    "# 1.\n",
    "class Product:\n",
    "    def __init__(self, name, price, quantity):\n",
    "        self.name = name\n",
    "        self.price = price\n",
    "        self.quantity = quantity\n",
    "\n",
    "products = [\n",
    "    Product(\"Apple\", 1.0, 10),\n",
    "    Product(\"Banana\", 0.5, 20),\n",
    "    Product(\"Orange\", 1.2, 15),\n",
    "]\n",
    "\n",
    "# 2.\n",
    "sorted_products = sorted(products, key=lambda product: product.price)\n",
    "\n",
    "# 3.\n",
    "from operator import attrgetter\n",
    "sorted_products = sorted(products, key=attrgetter(\"quantity\"), reverse=True)\n",
    "\n",
    "# 4.\n",
    "class Person:\n",
    "    def __init__(self, name, age):\n",
    "        self.name = name\n",
    "        self.age = age\n",
    "\n",
    "people = [\n",
    "    Person(\"Alice\", 28),\n",
    "    Person(\"Bob\", 35),\n",
    "    Person(\"Charlie\", 22),\n",
    "]\n",
    "\n",
    "sorted_people = sorted(people, key=lambda person: person.age)"
   ]
  },
  {
   "cell_type": "code",
   "execution_count": null,
   "metadata": {},
   "outputs": [],
   "source": []
  }
 ],
 "metadata": {
  "language_info": {
   "name": "python"
  }
 },
 "nbformat": 4,
 "nbformat_minor": 2
}
