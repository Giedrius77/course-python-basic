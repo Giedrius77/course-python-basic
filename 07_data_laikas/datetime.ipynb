{
 "cells": [
  {
   "cell_type": "code",
   "execution_count": 5,
   "metadata": {},
   "outputs": [],
   "source": [
    "from datetime import datetime"
   ]
  },
  {
   "cell_type": "code",
   "execution_count": 6,
   "metadata": {},
   "outputs": [
    {
     "name": "stdout",
     "output_type": "stream",
     "text": [
      "1983-03-19 17:30:42\n"
     ]
    }
   ],
   "source": [
    "gimtalaikis = datetime(1983, 3, 19, 17, 30, 42)\n",
    "print(gimtalaikis)"
   ]
  },
  {
   "cell_type": "code",
   "execution_count": 15,
   "metadata": {},
   "outputs": [
    {
     "name": "stdout",
     "output_type": "stream",
     "text": [
      "2024-01-16 08:18:39.049323\n"
     ]
    }
   ],
   "source": [
    "dabar = datetime.now()\n",
    "print(dabar)"
   ]
  },
  {
   "cell_type": "code",
   "execution_count": 8,
   "metadata": {},
   "outputs": [],
   "source": [
    "from datetime import date"
   ]
  },
  {
   "cell_type": "code",
   "execution_count": 9,
   "metadata": {},
   "outputs": [
    {
     "name": "stdout",
     "output_type": "stream",
     "text": [
      "1983-03-19\n"
     ]
    }
   ],
   "source": [
    "gimtadienis = date(1983, 3, 19)\n",
    "print(gimtadienis)"
   ]
  },
  {
   "cell_type": "code",
   "execution_count": 10,
   "metadata": {},
   "outputs": [
    {
     "name": "stdout",
     "output_type": "stream",
     "text": [
      "2024-01-16\n"
     ]
    }
   ],
   "source": [
    "siandien = date.today()\n",
    "print(siandien)"
   ]
  },
  {
   "cell_type": "code",
   "execution_count": 11,
   "metadata": {},
   "outputs": [],
   "source": [
    "from datetime import timedelta"
   ]
  },
  {
   "cell_type": "code",
   "execution_count": 12,
   "metadata": {},
   "outputs": [
    {
     "name": "stdout",
     "output_type": "stream",
     "text": [
      "2024-01-23\n"
     ]
    }
   ],
   "source": [
    "print(siandien + timedelta(days=7))"
   ]
  },
  {
   "cell_type": "code",
   "execution_count": 30,
   "metadata": {},
   "outputs": [
    {
     "name": "stdout",
     "output_type": "stream",
     "text": [
      "2024-01-15 22:18:39.049323\n"
     ]
    }
   ],
   "source": [
    "print(dabar - timedelta(hours=10))"
   ]
  },
  {
   "cell_type": "code",
   "execution_count": 33,
   "metadata": {},
   "outputs": [
    {
     "name": "stdout",
     "output_type": "stream",
     "text": [
      "2024-01-15 21:19:23.408843\n"
     ]
    }
   ],
   "source": [
    "print(datetime.now() - timedelta(hours=11))"
   ]
  },
  {
   "cell_type": "code",
   "execution_count": 34,
   "metadata": {},
   "outputs": [
    {
     "name": "stdout",
     "output_type": "stream",
     "text": [
      "14913 days, 0:00:00\n"
     ]
    }
   ],
   "source": [
    "print(siandien - gimtadienis)"
   ]
  },
  {
   "cell_type": "code",
   "execution_count": 35,
   "metadata": {},
   "outputs": [
    {
     "name": "stdout",
     "output_type": "stream",
     "text": [
      "14913\n"
     ]
    }
   ],
   "source": [
    "amzius = siandien - gimtadienis\n",
    "print(amzius.days)"
   ]
  },
  {
   "cell_type": "code",
   "execution_count": 36,
   "metadata": {},
   "outputs": [
    {
     "name": "stdout",
     "output_type": "stream",
     "text": [
      "40\n"
     ]
    }
   ],
   "source": [
    "print(amzius.days // 365)"
   ]
  },
  {
   "cell_type": "code",
   "execution_count": 48,
   "metadata": {},
   "outputs": [],
   "source": [
    "datos_laiko_formatas = \"%Y-%m-%d %H val. %M min. %S sekundės\""
   ]
  },
  {
   "cell_type": "code",
   "execution_count": 49,
   "metadata": {},
   "outputs": [
    {
     "data": {
      "text/plain": [
       "'2024-01-16 08 val. 18 min. 39 sekundes'"
      ]
     },
     "execution_count": 49,
     "metadata": {},
     "output_type": "execute_result"
    }
   ],
   "source": [
    "dabar.strftime(datos_laiko_formatas)"
   ]
  },
  {
   "cell_type": "code",
   "execution_count": 59,
   "metadata": {},
   "outputs": [
    {
     "name": "stdout",
     "output_type": "stream",
     "text": [
      "Tuesday, January 16, 2024, day 016, week 02\n",
      "Saturday, March 19, 1983, day 078, week 11\n"
     ]
    }
   ],
   "source": [
    "datos_formatas = \"%A, %B %d, %Y, day %j, week %U\"\n",
    "print(dabar.strftime(datos_formatas))\n",
    "print(gimtadienis.strftime(datos_formatas))"
   ]
  },
  {
   "cell_type": "code",
   "execution_count": 63,
   "metadata": {},
   "outputs": [
    {
     "name": "stdout",
     "output_type": "stream",
     "text": [
      "2025-11-11 11:11:11 <class 'datetime.datetime'>\n"
     ]
    }
   ],
   "source": [
    "ateities_tekstas = \"2025-11-11 11 val. 11 min. 11 sekundės\"\n",
    "ateitis = datetime.strptime(ateities_tekstas, datos_laiko_formatas)\n",
    "print(ateitis, type(ateitis))"
   ]
  },
  {
   "cell_type": "code",
   "execution_count": 65,
   "metadata": {},
   "outputs": [
    {
     "name": "stdout",
     "output_type": "stream",
     "text": [
      "665 days, 2:20:13.459581\n"
     ]
    }
   ],
   "source": [
    "print(ateitis - datetime.now())"
   ]
  },
  {
   "cell_type": "code",
   "execution_count": 66,
   "metadata": {},
   "outputs": [],
   "source": [
    "import time"
   ]
  },
  {
   "cell_type": "code",
   "execution_count": 67,
   "metadata": {},
   "outputs": [
    {
     "name": "stdout",
     "output_type": "stream",
     "text": [
      "416935842.0\n"
     ]
    }
   ],
   "source": [
    "gimtalaikio_ts = time.mktime(gimtalaikis.timetuple())\n",
    "print(gimtalaikio_ts)"
   ]
  },
  {
   "cell_type": "code",
   "execution_count": 80,
   "metadata": {},
   "outputs": [
    {
     "name": "stdout",
     "output_type": "stream",
     "text": [
      "1705388152.0\n"
     ]
    }
   ],
   "source": [
    "dabarties_ts = time.mktime(datetime.now().timetuple())\n",
    "print(dabarties_ts)"
   ]
  },
  {
   "cell_type": "code",
   "execution_count": 81,
   "metadata": {},
   "outputs": [
    {
     "name": "stdout",
     "output_type": "stream",
     "text": [
      "2024-01-16 08:55:52\n"
     ]
    }
   ],
   "source": [
    "dto = datetime.fromtimestamp(dabarties_ts)\n",
    "print(dto)"
   ]
  }
 ],
 "metadata": {
  "kernelspec": {
   "display_name": "Python 3",
   "language": "python",
   "name": "python3"
  },
  "language_info": {
   "codemirror_mode": {
    "name": "ipython",
    "version": 3
   },
   "file_extension": ".py",
   "mimetype": "text/x-python",
   "name": "python",
   "nbconvert_exporter": "python",
   "pygments_lexer": "ipython3",
   "version": "3.11.7"
  }
 },
 "nbformat": 4,
 "nbformat_minor": 2
}
