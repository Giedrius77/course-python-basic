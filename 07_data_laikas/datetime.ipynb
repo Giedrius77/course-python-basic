{
 "cells": [
  {
   "cell_type": "code",
   "execution_count": null,
   "metadata": {},
   "outputs": [],
   "source": [
    "from datetime import datetime"
   ]
  },
  {
   "cell_type": "code",
   "execution_count": null,
   "metadata": {},
   "outputs": [],
   "source": [
    "gimtalaikis = datetime(1983, 3, 19, 17, 30, 42)\n",
    "print(gimtalaikis)"
   ]
  },
  {
   "cell_type": "code",
   "execution_count": null,
   "metadata": {},
   "outputs": [],
   "source": [
    "dabar = datetime.now()\n",
    "print(dabar)"
   ]
  },
  {
   "cell_type": "code",
   "execution_count": null,
   "metadata": {},
   "outputs": [],
   "source": [
    "from datetime import date"
   ]
  },
  {
   "cell_type": "code",
   "execution_count": null,
   "metadata": {},
   "outputs": [],
   "source": [
    "gimtadienis = date(1983, 3, 19)\n",
    "print(gimtadienis)"
   ]
  },
  {
   "cell_type": "code",
   "execution_count": null,
   "metadata": {},
   "outputs": [],
   "source": [
    "siandien = date.today()\n",
    "print(siandien)"
   ]
  },
  {
   "cell_type": "code",
   "execution_count": null,
   "metadata": {},
   "outputs": [],
   "source": [
    "from datetime import timedelta"
   ]
  },
  {
   "cell_type": "code",
   "execution_count": null,
   "metadata": {},
   "outputs": [],
   "source": [
    "print(siandien + timedelta(days=7))"
   ]
  },
  {
   "cell_type": "code",
   "execution_count": null,
   "metadata": {},
   "outputs": [],
   "source": [
    "print(dabar - timedelta(hours=10))"
   ]
  },
  {
   "cell_type": "code",
   "execution_count": null,
   "metadata": {},
   "outputs": [],
   "source": [
    "print(datetime.now() - timedelta(hours=11))"
   ]
  },
  {
   "cell_type": "code",
   "execution_count": null,
   "metadata": {},
   "outputs": [],
   "source": [
    "print(siandien - gimtadienis)"
   ]
  },
  {
   "cell_type": "code",
   "execution_count": null,
   "metadata": {},
   "outputs": [],
   "source": [
    "amzius = siandien - gimtadienis\n",
    "print(amzius.days)"
   ]
  },
  {
   "cell_type": "code",
   "execution_count": null,
   "metadata": {},
   "outputs": [],
   "source": [
    "print(amzius.days // 365)"
   ]
  },
  {
   "cell_type": "code",
   "execution_count": null,
   "metadata": {},
   "outputs": [],
   "source": [
    "datos_laiko_formatas = \"%Y-%m-%d %H val. %M min. %S sekundės\""
   ]
  },
  {
   "cell_type": "code",
   "execution_count": null,
   "metadata": {},
   "outputs": [],
   "source": [
    "dabar.strftime(datos_laiko_formatas)"
   ]
  },
  {
   "cell_type": "code",
   "execution_count": null,
   "metadata": {},
   "outputs": [],
   "source": [
    "datos_formatas = \"%A, %B %d, %Y, day %j, week %U\"\n",
    "print(dabar.strftime(datos_formatas))\n",
    "print(gimtadienis.strftime(datos_formatas))"
   ]
  },
  {
   "cell_type": "code",
   "execution_count": null,
   "metadata": {},
   "outputs": [],
   "source": [
    "ateities_tekstas = \"2025-11-11 11 val. 11 min. 11 sekundės\"\n",
    "ateitis = datetime.strptime(ateities_tekstas, datos_laiko_formatas)\n",
    "print(ateitis, type(ateitis))"
   ]
  },
  {
   "cell_type": "code",
   "execution_count": null,
   "metadata": {},
   "outputs": [],
   "source": [
    "print(ateitis - datetime.now())"
   ]
  },
  {
   "cell_type": "code",
   "execution_count": null,
   "metadata": {},
   "outputs": [],
   "source": [
    "import time"
   ]
  },
  {
   "cell_type": "code",
   "execution_count": null,
   "metadata": {},
   "outputs": [],
   "source": [
    "gimtalaikio_ts = time.mktime(gimtalaikis.timetuple())\n",
    "print(gimtalaikio_ts)"
   ]
  },
  {
   "cell_type": "code",
   "execution_count": null,
   "metadata": {},
   "outputs": [],
   "source": [
    "dabarties_ts = time.mktime(datetime.now().timetuple())\n",
    "print(dabarties_ts)"
   ]
  },
  {
   "cell_type": "code",
   "execution_count": null,
   "metadata": {},
   "outputs": [],
   "source": [
    "dto = datetime.fromtimestamp(dabarties_ts)\n",
    "print(dto)"
   ]
  },
  {
   "cell_type": "code",
   "execution_count": null,
   "metadata": {},
   "outputs": [],
   "source": [
    "# Mano uzduotys: Pirma uzduotis\n",
    "\n",
    "dabar = datetime.now()\n",
    "print(dabar)\n",
    "\n",
    "valandos_minutes = '%M %s' \n",
    "print(dabar.strftime(valandos_minutes))"
   ]
  },
  {
   "cell_type": "code",
   "execution_count": 5,
   "metadata": {},
   "outputs": [
    {
     "name": "stdout",
     "output_type": "stream",
     "text": [
      "2024-01-16 11:25:02.457343\n"
     ]
    },
    {
     "ename": "NameError",
     "evalue": "name 'date' is not defined",
     "output_type": "error",
     "traceback": [
      "\u001b[0;31m---------------------------------------------------------------------------\u001b[0m",
      "\u001b[0;31mNameError\u001b[0m                                 Traceback (most recent call last)",
      "Cell \u001b[0;32mIn[5], line 5\u001b[0m\n\u001b[1;32m      3\u001b[0m dabar \u001b[38;5;241m=\u001b[39m datetime\u001b[38;5;241m.\u001b[39mnow() \u001b[38;5;66;03m# pilna data\u001b[39;00m\n\u001b[1;32m      4\u001b[0m \u001b[38;5;28mprint\u001b[39m(dabar)\n\u001b[0;32m----> 5\u001b[0m siandien \u001b[38;5;241m=\u001b[39m \u001b[43mdate\u001b[49m\u001b[38;5;241m.\u001b[39mtoday() \u001b[38;5;66;03m# tik data\u001b[39;00m\n\u001b[1;32m      6\u001b[0m \u001b[38;5;28mprint\u001b[39m(siandien)\n\u001b[1;32m      7\u001b[0m \u001b[38;5;28mprint\u001b[39m()\n",
      "\u001b[0;31mNameError\u001b[0m: name 'date' is not defined"
     ]
    }
   ],
   "source": [
    "# Antra uzduotis - \n",
    "\n",
    "dabar = datetime.now() # pilna data\n",
    "print(dabar)\n",
    "siandien = date.today() # tik data\n",
    "print(siandien)\n",
    "print()\n",
    "gimtadienis = date(1977, 1, 28) # mano gimtadienis\n",
    "print(gimtadienis)\n",
    "\n",
    "gimtadienis_str = '1977-01-28'\n",
    "\n",
    "mano_amzius = siandien - gimtadienis # mano amzius - 46\n",
    "print(mano_amzius.days // 365)\n",
    "\n",
    "gimtadienio_formatas = datetime.strptime(gimtadienis_str, '%Y-%m-%d')\n",
    "print(gimtadienio_formatas) # tiksli data su laiku, bet laikas nenurodytas - tad bus visi 0000\n",
    "#gimtadieno metus reikia sutapatinti su siais metais, kad gautume skirtuma\n",
    "gimtadienio_data = gimtadienio_formatas.replace(year=dabar.year)\n",
    "\n",
    "skirtumas = gimtadienio_data - dabar\n",
    "print(skirtumas)\n",
    "\n",
    " # medziagos pvz bet dar nepabaigtas !!!!!!!, reikia pataisyti\n",
    "\n",
    "from datetime import datetime, timedelta\n",
    "\n",
    "def dienos_iki_gimtadienio(gimimo_data):\n",
    "    gimimo_data_format = datetime.strptime(gimimo_data, \"%Y-%m-%d\")\n",
    "    siandiena = datetime.now()\n",
    "    gimtadienio_data = gimimo_data_format.replace(year=siandiena.year)\n",
    "\n",
    "    if gimtadienio_data < siandiena:\n",
    "        gimtadienio_data = gimtadienio_data.replace(year=siandiena.year + 1)\n",
    "\n",
    "    skirtumas = gimtadienio_data - siandiena\n",
    "    return skirtumas.days\n",
    "\n",
    "gimimo_data = \"2000-05-15\"\n",
    "print(f\"Liko {dienos_iki_gimtadienio(gimimo_data)} dienos (-ų) iki gimtadienio.\")\n"
   ]
  },
  {
   "cell_type": "code",
   "execution_count": 4,
   "metadata": {},
   "outputs": [
    {
     "name": "stdout",
     "output_type": "stream",
     "text": [
      "2024-01-16 10:11:00\n",
      "2024-01-18 10:11:00\n",
      "\n",
      "\n",
      "Pridėjus 48 valandas bus: 2024-01-18 10:11\n"
     ]
    }
   ],
   "source": [
    "# Trecia uzduotis - prideda valandas prie nurodytos datos\n",
    "from datetime import datetime, timedelta\n",
    "\n",
    "siandien_data = '2024-01-16 10:11'\n",
    "siandien_str = '%Y-%m-%d %H:%M'\n",
    "\n",
    "siandien_formatas = datetime.strptime(siandien_data, siandien_str)\n",
    "print(siandien_formatas)\n",
    "\n",
    "siandien_data_add48h = siandien_formatas + timedelta(hours=48) # prides 48ha\n",
    "print(siandien_data_add48h)\n",
    "print()\n",
    "print()\n",
    "# medziagos suformuotas su def, kaip ir turi buti\n",
    "\n",
    "def prideti_48_valandas(siandien_data):\n",
    "    siandien_str = \"%Y-%m-%d %H:%M\"\n",
    "    date_object = datetime.strptime(siandien_data, siandien_str)\n",
    "    siandien_data_add48h = date_object + timedelta(hours=48)\n",
    "    naujas_data_laikas = siandien_data_add48h.strftime(siandien_str)\n",
    "    return naujas_data_laikas\n",
    "\n",
    "siandien_data = '2024-01-16 10:11'\n",
    "print(f\"Pridėjus 48 valandas bus: {prideti_48_valandas(siandien_data)}\")\n"
   ]
  },
  {
   "cell_type": "code",
   "execution_count": 2,
   "metadata": {},
   "outputs": [
    {
     "name": "stdout",
     "output_type": "stream",
     "text": [
      "Skirtumas tarp datu bus: 1537 dienos!\n"
     ]
    }
   ],
   "source": [
    "# Ketvirta uzduotis - skirtumas tarp timestampu\n",
    "from datetime import datetime\n",
    "\n",
    "def skirtumas(timestamp1, timestamp2):\n",
    "    data1 = datetime.fromtimestamp(timestamp1)\n",
    "    data2 = datetime.fromtimestamp(timestamp2)\n",
    "    skirtumas = abs(data2 - data1)\n",
    "    return skirtumas.days\n",
    "\n",
    "timestamp1 = 2526142387\n",
    "timestamp2 = 2658985632\n",
    "\n",
    "print(f\"Skirtumas tarp datu bus: {skirtumas(timestamp1, timestamp2)} dienos!\")"
   ]
  },
  {
   "cell_type": "code",
   "execution_count": 3,
   "metadata": {},
   "outputs": [
    {
     "name": "stdout",
     "output_type": "stream",
     "text": [
      "Si data yra - Antradienis!\n"
     ]
    }
   ],
   "source": [
    "# Penkta uzduotis - dienos suradimas pagal metus\n",
    "from datetime import datetime\n",
    "\n",
    "def savaites_diena(data):\n",
    "    formatas = '%Y-%m-%d'\n",
    "    nauja_data = datetime.strptime(data, formatas)\n",
    "    dienos = [\"Pirmadienis\", \"Antradienis\", \"Trečiadienis\", \"Ketvirtadienis\", \"Penktadienis\", \"Šeštadienis\", \"Sekmadienis\"]\n",
    "    return dienos[nauja_data.weekday()]\n",
    "\n",
    "data = '2024-01-16'\n",
    "print(f\"Si data yra - {savaites_diena(data)}!\")"
   ]
  }
 ],
 "metadata": {
  "kernelspec": {
   "display_name": "Python 3",
   "language": "python",
   "name": "python3"
  },
  "language_info": {
   "codemirror_mode": {
    "name": "ipython",
    "version": 3
   },
   "file_extension": ".py",
   "mimetype": "text/x-python",
   "name": "python",
   "nbconvert_exporter": "python",
   "pygments_lexer": "ipython3",
   "version": "3.11.7"
  }
 },
 "nbformat": 4,
 "nbformat_minor": 2
}
