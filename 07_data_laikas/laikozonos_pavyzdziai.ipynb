{
 "cells": [
  {
   "cell_type": "code",
   "execution_count": null,
   "metadata": {},
   "outputs": [],
   "source": [
    "from datetime import datetime"
   ]
  },
  {
   "cell_type": "markdown",
   "metadata": {},
   "source": [
    "## Laiko zonos"
   ]
  },
  {
   "cell_type": "code",
   "execution_count": null,
   "metadata": {},
   "outputs": [],
   "source": [
    "print(datetime.utcnow())"
   ]
  },
  {
   "cell_type": "markdown",
   "metadata": {},
   "source": [
    "kad veiktų `zoneinfo` reikia python'o package'o `tzdata` virtualioje aplinkoje\n",
    "\n",
    "```\n",
    "pip install tzdata\n",
    "```"
   ]
  },
  {
   "cell_type": "code",
   "execution_count": null,
   "metadata": {},
   "outputs": [],
   "source": [
    "from zoneinfo import available_timezones\n",
    "for zone in available_timezones():\n",
    "    print(zone)"
   ]
  },
  {
   "cell_type": "code",
   "execution_count": null,
   "metadata": {},
   "outputs": [],
   "source": [
    "from zoneinfo import ZoneInfo\n",
    "paskaita_baigsis = datetime(2024, 1, 16, 16, \n",
    "                            tzinfo=ZoneInfo(\"Europe/Vilnius\"))\n",
    "print(paskaita_baigsis)"
   ]
  },
  {
   "cell_type": "code",
   "execution_count": null,
   "metadata": {},
   "outputs": [],
   "source": [
    "print(paskaita_baigsis.tzinfo)"
   ]
  },
  {
   "cell_type": "code",
   "execution_count": null,
   "metadata": {},
   "outputs": [],
   "source": [
    "dabar_utc = datetime.utcnow().replace(tzinfo=ZoneInfo(\"UTC\"))\n",
    "dabar_lietuvoje = dabar_utc.astimezone(ZoneInfo(\"Europe/Vilnius\"))\n",
    "print(dabar_lietuvoje)"
   ]
  },
  {
   "cell_type": "code",
   "execution_count": null,
   "metadata": {},
   "outputs": [],
   "source": [
    "iki_galo_liko = paskaita_baigsis - dabar_lietuvoje\n",
    "print(iki_galo_liko)"
   ]
  },
  {
   "cell_type": "code",
   "execution_count": null,
   "metadata": {},
   "outputs": [],
   "source": [
    "print(paskaita_baigsis - datetime.utcnow().replace(tzinfo=ZoneInfo(\"UTC\")))"
   ]
  },
  {
   "cell_type": "code",
   "execution_count": null,
   "metadata": {},
   "outputs": [],
   "source": [
    "kitaip_dabar_lt = datetime.now().replace(tzinfo=ZoneInfo(\"Europe/Vilnius\"))\n",
    "print(kitaip_dabar_lt)"
   ]
  },
  {
   "cell_type": "markdown",
   "metadata": {},
   "source": [
    "# Užduotys"
   ]
  },
  {
   "cell_type": "code",
   "execution_count": null,
   "metadata": {},
   "outputs": [],
   "source": [
    "# Pirma uzduotis - atspausdins America visas laiko zonas\n",
    "from zoneinfo import available_timezones\n",
    "\n",
    "america_zones = []\n",
    "\n",
    "def america():\n",
    "    for tz in available_timezones():\n",
    "        if \"America\" in tz:\n",
    "            america_zones.append(tz)\n",
    "\n",
    "    for time_zone in america_zones:\n",
    "        print(time_zone)\n",
    "\n",
    "america()"
   ]
  },
  {
   "cell_type": "code",
   "execution_count": null,
   "metadata": {},
   "outputs": [],
   "source": [
    "# Pirma uzduotis - atspausdins America visas laiko zonas, sutrumpinta versija\n",
    "\n",
    "from zoneinfo import available_timezones\n",
    "\n",
    "def america():\n",
    "    for tz in available_timezones(): # tz atspindi tikslu kintamojo pasirinkima\n",
    "        if \"America\" in tz:\n",
    "            print(tz)\n",
    "\n",
    "america()"
   ]
  },
  {
   "cell_type": "code",
   "execution_count": null,
   "metadata": {},
   "outputs": [],
   "source": [
    "from zoneinfo import available_timezones\n",
    "\n",
    "def europe():\n",
    "    for time_zone in available_timezones():\n",
    "        if \"Europe\" in time_zone:\n",
    "            print(time_zone)\n",
    "\n",
    "europe()"
   ]
  },
  {
   "cell_type": "code",
   "execution_count": 4,
   "metadata": {},
   "outputs": [
    {
     "name": "stdout",
     "output_type": "stream",
     "text": [
      "Jusu laikas: 11:25:00, europe/vilnius\n",
      "Sydnejaus laikas: 20:01:00, Australia/Sydney\n",
      "Dubajaus laikas: 13:42:12, Asia/Dubai\n",
      "Vilniaus laikas: 11:25:00, Europe/Vilnius\n",
      "Londono laikas: 10:01:00, Europe/London\n",
      "New Yorko laikas: 05:01:00, America/New York\n",
      "Los Angeles laikas: 02:01:00, America/ Los Angeles\n"
     ]
    }
   ],
   "source": [
    "# Antra uzduotis\n",
    "\n",
    "from datetime import datetime\n",
    "from zoneinfo import ZoneInfo\n",
    "\n",
    "ivestas_laikas = input(\"Iveskite laika formatu HH:MM(:SS), sekundes nera butinos\")\n",
    "formatas = \"%H:%M\"\n",
    "vartotojo_laiko_zona = input(\"iveskite laiko zona pvz.:\\\"America/Barbados\\\"\")\n",
    "\n",
    "if len(ivestas_laikas) > 5: # sis if reikalingas jei vartotojas iveda daugiau negu 5 simbolius, tai formatuos ir pasirinktas sekundes.\n",
    "    formatas = \"%H:%M:%S\"\n",
    "laikas = datetime.strptime(ivestas_laikas, formatas)\n",
    "\n",
    "sydney = laikas.replace(tzinfo=ZoneInfo(vartotojo_laiko_zona)).astimezone(ZoneInfo(\"Australia/Sydney\"))\n",
    "dubai = laikas.replace(tzinfo=ZoneInfo(vartotojo_laiko_zona)).astimezone(ZoneInfo(\"Asia/Dubai\"))\n",
    "vilnius = laikas.replace(tzinfo=ZoneInfo(vartotojo_laiko_zona)).astimezone(ZoneInfo(\"Europe/Vilnius\"))\n",
    "london = laikas.replace(tzinfo=ZoneInfo(vartotojo_laiko_zona)).astimezone(ZoneInfo(\"Europe/London\"))\n",
    "new_york = laikas.replace(tzinfo=ZoneInfo(vartotojo_laiko_zona)).astimezone(ZoneInfo(\"America/New_York\"))\n",
    "los_angeles = laikas.replace(tzinfo=ZoneInfo(vartotojo_laiko_zona)).astimezone(ZoneInfo(\"America/Los_Angeles\"))\n",
    "\n",
    "print(f\"\"\"Jusu laikas: {laikas.time()}, {vartotojo_laiko_zona}\n",
    "Sydnejaus laikas: {sydney.time()}, Australia/Sydney\n",
    "Dubajaus laikas: {dubai.time()}, Asia/Dubai\n",
    "Vilniaus laikas: {vilnius.time()}, Europe/Vilnius\n",
    "Londono laikas: {london.time()}, Europe/London\n",
    "New Yorko laikas: {new_york.time()}, America/New York\n",
    "Los Angeles laikas: {los_angeles.time()}, America/ Los Angeles\"\"\")"
   ]
  }
 ],
 "metadata": {
  "kernelspec": {
   "display_name": "Python 3",
   "language": "python",
   "name": "python3"
  },
  "language_info": {
   "codemirror_mode": {
    "name": "ipython",
    "version": 3
   },
   "file_extension": ".py",
   "mimetype": "text/x-python",
   "name": "python",
   "nbconvert_exporter": "python",
   "pygments_lexer": "ipython3",
   "version": "3.11.7"
  }
 },
 "nbformat": 4,
 "nbformat_minor": 2
}
