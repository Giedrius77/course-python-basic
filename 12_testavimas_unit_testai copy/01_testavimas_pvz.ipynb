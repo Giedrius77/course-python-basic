{
 "cells": [
  {
   "cell_type": "code",
   "execution_count": null,
   "metadata": {},
   "outputs": [],
   "source": [
    "import unittest\n",
    "\n",
    "class TestAssertMethods(unittest.TestCase):\n",
    "    def test_assertEqual(self):\n",
    "        self.assertEqual(3 + 2, 5)\n",
    "\n",
    "    def test_assertTrue(self):\n",
    "        self.assertTrue(3 < 5)\n",
    "\n",
    "    def test_assertFalse(self):\n",
    "        self.assertFalse(5 < 3)\n",
    "\n",
    "    def test_assertIs(self):\n",
    "        a = [1, 2, 3]\n",
    "        b = a\n",
    "        self.assertIs(a, b)\n",
    "\n",
    "    def test_assertIsNone(self):\n",
    "        self.assertIsNone(None)\n",
    "\n",
    "if __name__ == '__main__':\n",
    "    unittest.main()"
   ]
  },
  {
   "cell_type": "code",
   "execution_count": null,
   "metadata": {},
   "outputs": [],
   "source": [
    "# butina gale testavimo nurodyti, kad veiktu testas\n",
    "\n",
    "if __name__ == '__main__':\n",
    "    unittest.main()"
   ]
  },
  {
   "cell_type": "code",
   "execution_count": null,
   "metadata": {},
   "outputs": [],
   "source": [
    "import unittest\n",
    "\n",
    "def divide(x, y):\n",
    "    return x / y\n",
    "\n",
    "class TestDivideFunction(unittest.TestCase):\n",
    "    def test_integer_division(self):\n",
    "        self.assertEqual(divide(10, 2), 10 // 2)  # False positive: 5.0 == 5\n",
    "\n",
    "if __name__ == '__main__':\n",
    "    unittest.main()"
   ]
  },
  {
   "cell_type": "code",
   "execution_count": null,
   "metadata": {},
   "outputs": [],
   "source": [
    "import unittest\n",
    "\n",
    "def is_prime(n):\n",
    "    if n <= 1: \n",
    "        return False\n",
    "    for i in range(2, n):\n",
    "        if n % i == 0:\n",
    "            return False\n",
    "    return True # Klaidinga logika bes range(2, 2) negražina nieko. Tada kodas tiesiog praleidžia 2 kaip pirminį.\n",
    "\n",
    "class TestIsPrimeFunction(unittest.TestCase):\n",
    "    def test_prime(self):\n",
    "        self.assertTrue(is_prime(2))\n",
    "        self.assertTrue(is_prime(3))\n",
    "        self.assertTrue(is_prime(5))\n",
    "        self.assertTrue(is_prime(7))\n",
    "        self.assertTrue(is_prime(11))\n",
    "\n",
    "    def test_non_prime(self):\n",
    "        self.assertFalse(is_prime(4))\n",
    "        self.assertFalse(is_prime(6))\n",
    "        self.assertFalse(is_prime(8))\n",
    "        self.assertFalse(is_prime(9))\n",
    "        self.assertFalse(is_prime(10))\n",
    "        self.assertFalse(is_prime(12))\n",
    "\n",
    "if __name__ == '__main__':\n",
    "    unittest.main()"
   ]
  },
  {
   "cell_type": "code",
   "execution_count": null,
   "metadata": {},
   "outputs": [],
   "source": [
    "import unittest\n",
    "\n",
    "class MyClass:\n",
    "    def __init__(self, x):\n",
    "        self.x = x\n",
    "\n",
    "    def add(self, y):\n",
    "        return self.x + y\n",
    "\n",
    "class TestMyClass(unittest.TestCase):\n",
    "    def setUp(self): \n",
    "        self.obj = MyClass(5)\n",
    "\n",
    "    def test_add(self):\n",
    "        self.assertEqual(self.obj.add(3), 8)\n",
    "\n",
    "if __name__ == '__main__':\n",
    "    unittest.main()"
   ]
  },
  {
   "cell_type": "code",
   "execution_count": null,
   "metadata": {},
   "outputs": [],
   "source": [
    "# step 1\n",
    "class Calculator:\n",
    "    def add(self, x, y):\n",
    "        pass"
   ]
  },
  {
   "cell_type": "code",
   "execution_count": null,
   "metadata": {},
   "outputs": [],
   "source": [
    "# step 2\n",
    "class Calculator:\n",
    "    def add(self, x, y):\n",
    "        return x + y"
   ]
  },
  {
   "cell_type": "code",
   "execution_count": null,
   "metadata": {},
   "outputs": [],
   "source": [
    "# step 3\n",
    "class TestCalculator(unittest.TestCase):\n",
    "    def setUp(self):\n",
    "        self.calc = Calculator()\n",
    "\n",
    "    def test_add(self):\n",
    "        self.assertEqual(self.calc.add(3, 5), 8)"
   ]
  },
  {
   "cell_type": "markdown",
   "metadata": {},
   "source": [
    "## Quick Assignement 1\n",
    "\n",
    "\n",
    "Following the TDD principle, create a program called \"Loan Calculator.\"\n",
    "\n",
    "Create a test for the loan calculator program, where it's possible to set the loan amount, annual interest rate, and term for the loan object. The testing scenario should verify several correct loan interest, cost increase, and payment schedule scenarios.\n",
    "\n",
    "Develop a program that works with the implemented test above."
   ]
  },
  {
   "cell_type": "markdown",
   "metadata": {},
   "source": [
    "## Užduotys\n",
    "TDD principu parašykite programą \"paskolos kalkuliatorius\".\n",
    "\n",
    "sukurkite testą paskolos kalkuliatoriaus programai, kur paskolos objektui galima nustatyti paskolos dydį, metines palūkanas ir terminą. Testavimo scenarijus turi patikrinti kelis teisingus paskolos palūkanų, pabrangimo, mokėjimo grafiko scenarijus.\n",
    "\n",
    "sukurkite programą, kuri veikia su aukščiau įgyvendintu testu."
   ]
  },
  {
   "cell_type": "code",
   "execution_count": null,
   "metadata": {},
   "outputs": [],
   "source": []
  }
 ],
 "metadata": {
  "language_info": {
   "name": "python"
  }
 },
 "nbformat": 4,
 "nbformat_minor": 2
}
