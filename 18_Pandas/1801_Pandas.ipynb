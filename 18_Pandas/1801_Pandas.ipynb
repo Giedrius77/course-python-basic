{
 "cells": [
  {
   "cell_type": "markdown",
   "metadata": {},
   "source": [
    "# Pandas"
   ]
  },
  {
   "cell_type": "markdown",
   "metadata": {},
   "source": [
    "Pandas yra duomenų analizės biblioteka, sukurta NumPy pagrindu. Pandas yra pagrindinis įrankis Python aplinkoje, skirtas duomenų analizei, išvalymui ir paruošimui. Pandas pasižymi sparta ir produktyvumu. Galima dirbti su duomenimis iš įvairių šaltinių. "
   ]
  },
  {
   "cell_type": "markdown",
   "metadata": {},
   "source": [
    "Pandas diegiasi *conda install pandas* arba *pip install pandas*"
   ]
  },
  {
   "cell_type": "code",
   "execution_count": 3,
   "metadata": {},
   "outputs": [],
   "source": [
    "import numpy as np\n",
    "import pandas as pd"
   ]
  },
  {
   "cell_type": "markdown",
   "metadata": {},
   "source": [
    "# Serijos\n"
   ]
  },
  {
   "cell_type": "markdown",
   "metadata": {},
   "source": [
    "Serijos (*Series*) yra smulkus pandas duomenų darinys, sukurtas ant NumPy array pagrindo. "
   ]
  },
  {
   "cell_type": "code",
   "execution_count": 4,
   "metadata": {},
   "outputs": [
    {
     "data": {
      "text/plain": [
       "0    20\n",
       "1    30\n",
       "2    40\n",
       "dtype: int64"
      ]
     },
     "execution_count": 4,
     "metadata": {},
     "output_type": "execute_result"
    }
   ],
   "source": [
    "labels = ['x', 'y', 'z']\n",
    "data = [20, 30, 40]\n",
    "pd.Series(data=data)"
   ]
  },
  {
   "cell_type": "markdown",
   "metadata": {},
   "source": [
    "Matyti, kad nuo įprastų masyvų, pandas serija skiriasi tuo, kad turi indeksaciją. Vienas iš parametrų, kuriuos galime perduoti kurdami seriją yra index."
   ]
  },
  {
   "cell_type": "code",
   "execution_count": 5,
   "metadata": {},
   "outputs": [
    {
     "data": {
      "text/plain": [
       "x    20\n",
       "y    30\n",
       "z    40\n",
       "dtype: int64"
      ]
     },
     "execution_count": 5,
     "metadata": {},
     "output_type": "execute_result"
    }
   ],
   "source": [
    "pd.Series(data=data, index=labels)"
   ]
  },
  {
   "cell_type": "markdown",
   "metadata": {},
   "source": [
    "Pandas series galima kurti ir su python žodynais:"
   ]
  },
  {
   "cell_type": "code",
   "execution_count": 6,
   "metadata": {},
   "outputs": [
    {
     "data": {
      "text/plain": [
       "x    20\n",
       "y    30\n",
       "z    40\n",
       "dtype: int64"
      ]
     },
     "execution_count": 6,
     "metadata": {},
     "output_type": "execute_result"
    }
   ],
   "source": [
    "zodynas = {'x':20, 'y':30, 'z':40}\n",
    "pd.Series(zodynas)"
   ]
  },
  {
   "cell_type": "markdown",
   "metadata": {},
   "source": [
    "**Reikšmės traukimas iš serijos**"
   ]
  },
  {
   "cell_type": "code",
   "execution_count": 9,
   "metadata": {},
   "outputs": [],
   "source": [
    "serija = pd.Series([1,2,3,4,5], ['Vilnius', 'Kaunas', 'Klaipėda', 'Panevėžys', 'Šiauliai'])\n",
    "# atkreipkite dėmesį, kad duomenis galima sudėti nebūtinai nurodant parametro pavadinimą."
   ]
  },
  {
   "cell_type": "code",
   "execution_count": 8,
   "metadata": {},
   "outputs": [
    {
     "data": {
      "text/plain": [
       "Vilnius      1\n",
       "Kaunas       2\n",
       "Klaipėda     3\n",
       "Panevėžys    4\n",
       "Šiauliai     5\n",
       "dtype: int64"
      ]
     },
     "execution_count": 8,
     "metadata": {},
     "output_type": "execute_result"
    }
   ],
   "source": [
    "serija\n"
   ]
  },
  {
   "cell_type": "code",
   "execution_count": 10,
   "metadata": {},
   "outputs": [
    {
     "data": {
      "text/plain": [
       "1"
      ]
     },
     "execution_count": 10,
     "metadata": {},
     "output_type": "execute_result"
    }
   ],
   "source": [
    "serija['Vilnius']"
   ]
  },
  {
   "cell_type": "markdown",
   "metadata": {},
   "source": [
    "**Operacijos su serijomis**"
   ]
  },
  {
   "cell_type": "code",
   "execution_count": 17,
   "metadata": {},
   "outputs": [],
   "source": [
    "serija2 = pd.Series([1,2,3,4,5], ['Vilnius', 'Kaunas', 'Lentvaris', 'Šiauliai', 'Klaipėda'])"
   ]
  },
  {
   "cell_type": "code",
   "execution_count": 18,
   "metadata": {},
   "outputs": [
    {
     "data": {
      "text/plain": [
       "Vilnius      1\n",
       "Kaunas       2\n",
       "Lentvaris    3\n",
       "Šiauliai     4\n",
       "Klaipėda     5\n",
       "dtype: int64"
      ]
     },
     "execution_count": 18,
     "metadata": {},
     "output_type": "execute_result"
    }
   ],
   "source": [
    "serija2"
   ]
  },
  {
   "cell_type": "markdown",
   "metadata": {},
   "source": [
    "naudojant sudėtį, pandas pagal galimybes bandys sumuoti reikšmes:"
   ]
  },
  {
   "cell_type": "code",
   "execution_count": 19,
   "metadata": {},
   "outputs": [
    {
     "data": {
      "text/plain": [
       "Kaunas       4.0\n",
       "Klaipėda     8.0\n",
       "Lentvaris    NaN\n",
       "Panevėžys    NaN\n",
       "Vilnius      2.0\n",
       "Šiauliai     9.0\n",
       "dtype: float64"
      ]
     },
     "execution_count": 19,
     "metadata": {},
     "output_type": "execute_result"
    }
   ],
   "source": [
    "serija + serija2"
   ]
  },
  {
   "cell_type": "markdown",
   "metadata": {},
   "source": [
    "Ten, kur pandos negalėjo atlikti sudėties veiksmo, sugeneravo NaN - *not a number*. Tiek Pandas, tiek NumPy mėgsta integer reikšmes versti į float, kad išlaikytų kiek įmanoma tikslesnę informaciją."
   ]
  },
  {
   "cell_type": "markdown",
   "metadata": {},
   "source": [
    "# DataFrames"
   ]
  },
  {
   "cell_type": "markdown",
   "metadata": {},
   "source": [
    "DataFrames yra pagrindinis pandas operacijų objektas. Jeigu norime susikurti naują DF, reikia į parametrus perduoti *data*, *index*, *columns*: "
   ]
  },
  {
   "cell_type": "code",
   "execution_count": 11,
   "metadata": {},
   "outputs": [],
   "source": [
    "df = pd.DataFrame(np.random.rand(5,6), \n",
    "                  ['a', 'b', 'c', 'd', 'e'], \n",
    "                  ['U', 'V', 'W', 'X', 'Y', 'Z'])"
   ]
  },
  {
   "cell_type": "code",
   "execution_count": 12,
   "metadata": {},
   "outputs": [
    {
     "data": {
      "text/html": [
       "<div>\n",
       "<style scoped>\n",
       "    .dataframe tbody tr th:only-of-type {\n",
       "        vertical-align: middle;\n",
       "    }\n",
       "\n",
       "    .dataframe tbody tr th {\n",
       "        vertical-align: top;\n",
       "    }\n",
       "\n",
       "    .dataframe thead th {\n",
       "        text-align: right;\n",
       "    }\n",
       "</style>\n",
       "<table border=\"1\" class=\"dataframe\">\n",
       "  <thead>\n",
       "    <tr style=\"text-align: right;\">\n",
       "      <th></th>\n",
       "      <th>U</th>\n",
       "      <th>V</th>\n",
       "      <th>W</th>\n",
       "      <th>X</th>\n",
       "      <th>Y</th>\n",
       "      <th>Z</th>\n",
       "    </tr>\n",
       "  </thead>\n",
       "  <tbody>\n",
       "    <tr>\n",
       "      <th>a</th>\n",
       "      <td>0.152870</td>\n",
       "      <td>0.969675</td>\n",
       "      <td>0.480424</td>\n",
       "      <td>0.241586</td>\n",
       "      <td>0.986391</td>\n",
       "      <td>0.301342</td>\n",
       "    </tr>\n",
       "    <tr>\n",
       "      <th>b</th>\n",
       "      <td>0.457910</td>\n",
       "      <td>0.233163</td>\n",
       "      <td>0.129411</td>\n",
       "      <td>0.143683</td>\n",
       "      <td>0.774033</td>\n",
       "      <td>0.274547</td>\n",
       "    </tr>\n",
       "    <tr>\n",
       "      <th>c</th>\n",
       "      <td>0.495006</td>\n",
       "      <td>0.660995</td>\n",
       "      <td>0.373867</td>\n",
       "      <td>0.699804</td>\n",
       "      <td>0.963157</td>\n",
       "      <td>0.253637</td>\n",
       "    </tr>\n",
       "    <tr>\n",
       "      <th>d</th>\n",
       "      <td>0.000743</td>\n",
       "      <td>0.203814</td>\n",
       "      <td>0.257354</td>\n",
       "      <td>0.883320</td>\n",
       "      <td>0.883029</td>\n",
       "      <td>0.857333</td>\n",
       "    </tr>\n",
       "    <tr>\n",
       "      <th>e</th>\n",
       "      <td>0.146380</td>\n",
       "      <td>0.968331</td>\n",
       "      <td>0.009328</td>\n",
       "      <td>0.046277</td>\n",
       "      <td>0.386115</td>\n",
       "      <td>0.076787</td>\n",
       "    </tr>\n",
       "  </tbody>\n",
       "</table>\n",
       "</div>"
      ],
      "text/plain": [
       "          U         V         W         X         Y         Z\n",
       "a  0.152870  0.969675  0.480424  0.241586  0.986391  0.301342\n",
       "b  0.457910  0.233163  0.129411  0.143683  0.774033  0.274547\n",
       "c  0.495006  0.660995  0.373867  0.699804  0.963157  0.253637\n",
       "d  0.000743  0.203814  0.257354  0.883320  0.883029  0.857333\n",
       "e  0.146380  0.968331  0.009328  0.046277  0.386115  0.076787"
      ]
     },
     "execution_count": 12,
     "metadata": {},
     "output_type": "execute_result"
    }
   ],
   "source": [
    "df      "
   ]
  },
  {
   "cell_type": "markdown",
   "metadata": {},
   "source": [
    "Kiekvienas stulpelis yra pandas serija, jos tarpusavyje dalijasi indeksais (a, b, c, d, e), pvz.:"
   ]
  },
  {
   "cell_type": "code",
   "execution_count": 5,
   "metadata": {},
   "outputs": [
    {
     "data": {
      "text/plain": [
       "a    0.361370\n",
       "b    0.174726\n",
       "c    0.605317\n",
       "d    0.931402\n",
       "e    0.113378\n",
       "Name: U, dtype: float64"
      ]
     },
     "execution_count": 5,
     "metadata": {},
     "output_type": "execute_result"
    }
   ],
   "source": [
    "df['U']"
   ]
  },
  {
   "cell_type": "code",
   "execution_count": 6,
   "metadata": {},
   "outputs": [
    {
     "data": {
      "text/plain": [
       "pandas.core.series.Series"
      ]
     },
     "execution_count": 6,
     "metadata": {},
     "output_type": "execute_result"
    }
   ],
   "source": [
    "type(df['U'])"
   ]
  },
  {
   "cell_type": "markdown",
   "metadata": {},
   "source": [
    "**Jei norime daugiau stulpelių:**"
   ]
  },
  {
   "cell_type": "code",
   "execution_count": 9,
   "metadata": {},
   "outputs": [
    {
     "data": {
      "text/html": [
       "<div>\n",
       "<style scoped>\n",
       "    .dataframe tbody tr th:only-of-type {\n",
       "        vertical-align: middle;\n",
       "    }\n",
       "\n",
       "    .dataframe tbody tr th {\n",
       "        vertical-align: top;\n",
       "    }\n",
       "\n",
       "    .dataframe thead th {\n",
       "        text-align: right;\n",
       "    }\n",
       "</style>\n",
       "<table border=\"1\" class=\"dataframe\">\n",
       "  <thead>\n",
       "    <tr style=\"text-align: right;\">\n",
       "      <th></th>\n",
       "      <th>U</th>\n",
       "      <th>Y</th>\n",
       "      <th>Z</th>\n",
       "    </tr>\n",
       "  </thead>\n",
       "  <tbody>\n",
       "    <tr>\n",
       "      <th>a</th>\n",
       "      <td>0.361370</td>\n",
       "      <td>0.462288</td>\n",
       "      <td>0.504773</td>\n",
       "    </tr>\n",
       "    <tr>\n",
       "      <th>b</th>\n",
       "      <td>0.174726</td>\n",
       "      <td>0.128283</td>\n",
       "      <td>0.042082</td>\n",
       "    </tr>\n",
       "    <tr>\n",
       "      <th>c</th>\n",
       "      <td>0.605317</td>\n",
       "      <td>0.351447</td>\n",
       "      <td>0.072083</td>\n",
       "    </tr>\n",
       "    <tr>\n",
       "      <th>d</th>\n",
       "      <td>0.931402</td>\n",
       "      <td>0.232773</td>\n",
       "      <td>0.296398</td>\n",
       "    </tr>\n",
       "    <tr>\n",
       "      <th>e</th>\n",
       "      <td>0.113378</td>\n",
       "      <td>0.124420</td>\n",
       "      <td>0.666479</td>\n",
       "    </tr>\n",
       "  </tbody>\n",
       "</table>\n",
       "</div>"
      ],
      "text/plain": [
       "          U         Y         Z\n",
       "a  0.361370  0.462288  0.504773\n",
       "b  0.174726  0.128283  0.042082\n",
       "c  0.605317  0.351447  0.072083\n",
       "d  0.931402  0.232773  0.296398\n",
       "e  0.113378  0.124420  0.666479"
      ]
     },
     "execution_count": 9,
     "metadata": {},
     "output_type": "execute_result"
    }
   ],
   "source": [
    "df[['U', 'Y', 'Z']]"
   ]
  },
  {
   "cell_type": "markdown",
   "metadata": {},
   "source": [
    "**Naujo stulpelio sukūrimas**"
   ]
  },
  {
   "cell_type": "code",
   "execution_count": 17,
   "metadata": {},
   "outputs": [],
   "source": [
    "df['naujas'] = [1, 2, 3, 4, 5]"
   ]
  },
  {
   "cell_type": "code",
   "execution_count": 23,
   "metadata": {},
   "outputs": [
    {
     "data": {
      "text/html": [
       "<div>\n",
       "<style scoped>\n",
       "    .dataframe tbody tr th:only-of-type {\n",
       "        vertical-align: middle;\n",
       "    }\n",
       "\n",
       "    .dataframe tbody tr th {\n",
       "        vertical-align: top;\n",
       "    }\n",
       "\n",
       "    .dataframe thead th {\n",
       "        text-align: right;\n",
       "    }\n",
       "</style>\n",
       "<table border=\"1\" class=\"dataframe\">\n",
       "  <thead>\n",
       "    <tr style=\"text-align: right;\">\n",
       "      <th></th>\n",
       "      <th>U</th>\n",
       "      <th>V</th>\n",
       "      <th>W</th>\n",
       "      <th>X</th>\n",
       "      <th>Y</th>\n",
       "      <th>Z</th>\n",
       "      <th>naujas</th>\n",
       "    </tr>\n",
       "  </thead>\n",
       "  <tbody>\n",
       "    <tr>\n",
       "      <th>a</th>\n",
       "      <td>0.152870</td>\n",
       "      <td>0.969675</td>\n",
       "      <td>0.480424</td>\n",
       "      <td>0.241586</td>\n",
       "      <td>0.986391</td>\n",
       "      <td>0.301342</td>\n",
       "      <td>1</td>\n",
       "    </tr>\n",
       "    <tr>\n",
       "      <th>b</th>\n",
       "      <td>0.457910</td>\n",
       "      <td>0.233163</td>\n",
       "      <td>0.129411</td>\n",
       "      <td>0.143683</td>\n",
       "      <td>0.774033</td>\n",
       "      <td>0.274547</td>\n",
       "      <td>2</td>\n",
       "    </tr>\n",
       "    <tr>\n",
       "      <th>c</th>\n",
       "      <td>0.495006</td>\n",
       "      <td>0.660995</td>\n",
       "      <td>0.373867</td>\n",
       "      <td>0.699804</td>\n",
       "      <td>0.963157</td>\n",
       "      <td>0.253637</td>\n",
       "      <td>3</td>\n",
       "    </tr>\n",
       "    <tr>\n",
       "      <th>d</th>\n",
       "      <td>0.000743</td>\n",
       "      <td>0.203814</td>\n",
       "      <td>0.257354</td>\n",
       "      <td>0.883320</td>\n",
       "      <td>0.883029</td>\n",
       "      <td>0.857333</td>\n",
       "      <td>4</td>\n",
       "    </tr>\n",
       "    <tr>\n",
       "      <th>e</th>\n",
       "      <td>0.146380</td>\n",
       "      <td>0.968331</td>\n",
       "      <td>0.009328</td>\n",
       "      <td>0.046277</td>\n",
       "      <td>0.386115</td>\n",
       "      <td>0.076787</td>\n",
       "      <td>5</td>\n",
       "    </tr>\n",
       "  </tbody>\n",
       "</table>\n",
       "</div>"
      ],
      "text/plain": [
       "          U         V         W         X         Y         Z  naujas\n",
       "a  0.152870  0.969675  0.480424  0.241586  0.986391  0.301342       1\n",
       "b  0.457910  0.233163  0.129411  0.143683  0.774033  0.274547       2\n",
       "c  0.495006  0.660995  0.373867  0.699804  0.963157  0.253637       3\n",
       "d  0.000743  0.203814  0.257354  0.883320  0.883029  0.857333       4\n",
       "e  0.146380  0.968331  0.009328  0.046277  0.386115  0.076787       5"
      ]
     },
     "execution_count": 23,
     "metadata": {},
     "output_type": "execute_result"
    }
   ],
   "source": [
    "df"
   ]
  },
  {
   "cell_type": "markdown",
   "metadata": {},
   "source": [
    "**Stulpelio ištrynimas**"
   ]
  },
  {
   "cell_type": "code",
   "execution_count": 25,
   "metadata": {},
   "outputs": [
    {
     "data": {
      "text/html": [
       "<div>\n",
       "<style scoped>\n",
       "    .dataframe tbody tr th:only-of-type {\n",
       "        vertical-align: middle;\n",
       "    }\n",
       "\n",
       "    .dataframe tbody tr th {\n",
       "        vertical-align: top;\n",
       "    }\n",
       "\n",
       "    .dataframe thead th {\n",
       "        text-align: right;\n",
       "    }\n",
       "</style>\n",
       "<table border=\"1\" class=\"dataframe\">\n",
       "  <thead>\n",
       "    <tr style=\"text-align: right;\">\n",
       "      <th></th>\n",
       "      <th>U</th>\n",
       "      <th>V</th>\n",
       "      <th>W</th>\n",
       "      <th>X</th>\n",
       "      <th>Y</th>\n",
       "      <th>Z</th>\n",
       "    </tr>\n",
       "  </thead>\n",
       "  <tbody>\n",
       "    <tr>\n",
       "      <th>a</th>\n",
       "      <td>0.152870</td>\n",
       "      <td>0.969675</td>\n",
       "      <td>0.480424</td>\n",
       "      <td>0.241586</td>\n",
       "      <td>0.986391</td>\n",
       "      <td>0.301342</td>\n",
       "    </tr>\n",
       "    <tr>\n",
       "      <th>b</th>\n",
       "      <td>0.457910</td>\n",
       "      <td>0.233163</td>\n",
       "      <td>0.129411</td>\n",
       "      <td>0.143683</td>\n",
       "      <td>0.774033</td>\n",
       "      <td>0.274547</td>\n",
       "    </tr>\n",
       "    <tr>\n",
       "      <th>c</th>\n",
       "      <td>0.495006</td>\n",
       "      <td>0.660995</td>\n",
       "      <td>0.373867</td>\n",
       "      <td>0.699804</td>\n",
       "      <td>0.963157</td>\n",
       "      <td>0.253637</td>\n",
       "    </tr>\n",
       "    <tr>\n",
       "      <th>d</th>\n",
       "      <td>0.000743</td>\n",
       "      <td>0.203814</td>\n",
       "      <td>0.257354</td>\n",
       "      <td>0.883320</td>\n",
       "      <td>0.883029</td>\n",
       "      <td>0.857333</td>\n",
       "    </tr>\n",
       "    <tr>\n",
       "      <th>e</th>\n",
       "      <td>0.146380</td>\n",
       "      <td>0.968331</td>\n",
       "      <td>0.009328</td>\n",
       "      <td>0.046277</td>\n",
       "      <td>0.386115</td>\n",
       "      <td>0.076787</td>\n",
       "    </tr>\n",
       "  </tbody>\n",
       "</table>\n",
       "</div>"
      ],
      "text/plain": [
       "          U         V         W         X         Y         Z\n",
       "a  0.152870  0.969675  0.480424  0.241586  0.986391  0.301342\n",
       "b  0.457910  0.233163  0.129411  0.143683  0.774033  0.274547\n",
       "c  0.495006  0.660995  0.373867  0.699804  0.963157  0.253637\n",
       "d  0.000743  0.203814  0.257354  0.883320  0.883029  0.857333\n",
       "e  0.146380  0.968331  0.009328  0.046277  0.386115  0.076787"
      ]
     },
     "execution_count": 25,
     "metadata": {},
     "output_type": "execute_result"
    }
   ],
   "source": [
    "df.drop('naujas', axis=1)"
   ]
  },
  {
   "cell_type": "markdown",
   "metadata": {},
   "source": [
    "axis=0 reikštų, kad atliekame veiksmą su eilute. 1 tuo tarpu reiškia stulpelį."
   ]
  },
  {
   "cell_type": "code",
   "execution_count": 26,
   "metadata": {},
   "outputs": [
    {
     "data": {
      "text/html": [
       "<div>\n",
       "<style scoped>\n",
       "    .dataframe tbody tr th:only-of-type {\n",
       "        vertical-align: middle;\n",
       "    }\n",
       "\n",
       "    .dataframe tbody tr th {\n",
       "        vertical-align: top;\n",
       "    }\n",
       "\n",
       "    .dataframe thead th {\n",
       "        text-align: right;\n",
       "    }\n",
       "</style>\n",
       "<table border=\"1\" class=\"dataframe\">\n",
       "  <thead>\n",
       "    <tr style=\"text-align: right;\">\n",
       "      <th></th>\n",
       "      <th>U</th>\n",
       "      <th>V</th>\n",
       "      <th>W</th>\n",
       "      <th>X</th>\n",
       "      <th>Y</th>\n",
       "      <th>Z</th>\n",
       "      <th>naujas</th>\n",
       "    </tr>\n",
       "  </thead>\n",
       "  <tbody>\n",
       "    <tr>\n",
       "      <th>b</th>\n",
       "      <td>0.457910</td>\n",
       "      <td>0.233163</td>\n",
       "      <td>0.129411</td>\n",
       "      <td>0.143683</td>\n",
       "      <td>0.774033</td>\n",
       "      <td>0.274547</td>\n",
       "      <td>2</td>\n",
       "    </tr>\n",
       "    <tr>\n",
       "      <th>c</th>\n",
       "      <td>0.495006</td>\n",
       "      <td>0.660995</td>\n",
       "      <td>0.373867</td>\n",
       "      <td>0.699804</td>\n",
       "      <td>0.963157</td>\n",
       "      <td>0.253637</td>\n",
       "      <td>3</td>\n",
       "    </tr>\n",
       "    <tr>\n",
       "      <th>d</th>\n",
       "      <td>0.000743</td>\n",
       "      <td>0.203814</td>\n",
       "      <td>0.257354</td>\n",
       "      <td>0.883320</td>\n",
       "      <td>0.883029</td>\n",
       "      <td>0.857333</td>\n",
       "      <td>4</td>\n",
       "    </tr>\n",
       "    <tr>\n",
       "      <th>e</th>\n",
       "      <td>0.146380</td>\n",
       "      <td>0.968331</td>\n",
       "      <td>0.009328</td>\n",
       "      <td>0.046277</td>\n",
       "      <td>0.386115</td>\n",
       "      <td>0.076787</td>\n",
       "      <td>5</td>\n",
       "    </tr>\n",
       "  </tbody>\n",
       "</table>\n",
       "</div>"
      ],
      "text/plain": [
       "          U         V         W         X         Y         Z  naujas\n",
       "b  0.457910  0.233163  0.129411  0.143683  0.774033  0.274547       2\n",
       "c  0.495006  0.660995  0.373867  0.699804  0.963157  0.253637       3\n",
       "d  0.000743  0.203814  0.257354  0.883320  0.883029  0.857333       4\n",
       "e  0.146380  0.968331  0.009328  0.046277  0.386115  0.076787       5"
      ]
     },
     "execution_count": 26,
     "metadata": {},
     "output_type": "execute_result"
    }
   ],
   "source": [
    "df.drop('a', axis=0)"
   ]
  },
  {
   "cell_type": "code",
   "execution_count": 27,
   "metadata": {},
   "outputs": [
    {
     "data": {
      "text/html": [
       "<div>\n",
       "<style scoped>\n",
       "    .dataframe tbody tr th:only-of-type {\n",
       "        vertical-align: middle;\n",
       "    }\n",
       "\n",
       "    .dataframe tbody tr th {\n",
       "        vertical-align: top;\n",
       "    }\n",
       "\n",
       "    .dataframe thead th {\n",
       "        text-align: right;\n",
       "    }\n",
       "</style>\n",
       "<table border=\"1\" class=\"dataframe\">\n",
       "  <thead>\n",
       "    <tr style=\"text-align: right;\">\n",
       "      <th></th>\n",
       "      <th>U</th>\n",
       "      <th>V</th>\n",
       "      <th>W</th>\n",
       "      <th>X</th>\n",
       "      <th>Y</th>\n",
       "      <th>Z</th>\n",
       "      <th>naujas</th>\n",
       "    </tr>\n",
       "  </thead>\n",
       "  <tbody>\n",
       "    <tr>\n",
       "      <th>a</th>\n",
       "      <td>0.152870</td>\n",
       "      <td>0.969675</td>\n",
       "      <td>0.480424</td>\n",
       "      <td>0.241586</td>\n",
       "      <td>0.986391</td>\n",
       "      <td>0.301342</td>\n",
       "      <td>1</td>\n",
       "    </tr>\n",
       "    <tr>\n",
       "      <th>b</th>\n",
       "      <td>0.457910</td>\n",
       "      <td>0.233163</td>\n",
       "      <td>0.129411</td>\n",
       "      <td>0.143683</td>\n",
       "      <td>0.774033</td>\n",
       "      <td>0.274547</td>\n",
       "      <td>2</td>\n",
       "    </tr>\n",
       "    <tr>\n",
       "      <th>c</th>\n",
       "      <td>0.495006</td>\n",
       "      <td>0.660995</td>\n",
       "      <td>0.373867</td>\n",
       "      <td>0.699804</td>\n",
       "      <td>0.963157</td>\n",
       "      <td>0.253637</td>\n",
       "      <td>3</td>\n",
       "    </tr>\n",
       "    <tr>\n",
       "      <th>d</th>\n",
       "      <td>0.000743</td>\n",
       "      <td>0.203814</td>\n",
       "      <td>0.257354</td>\n",
       "      <td>0.883320</td>\n",
       "      <td>0.883029</td>\n",
       "      <td>0.857333</td>\n",
       "      <td>4</td>\n",
       "    </tr>\n",
       "    <tr>\n",
       "      <th>e</th>\n",
       "      <td>0.146380</td>\n",
       "      <td>0.968331</td>\n",
       "      <td>0.009328</td>\n",
       "      <td>0.046277</td>\n",
       "      <td>0.386115</td>\n",
       "      <td>0.076787</td>\n",
       "      <td>5</td>\n",
       "    </tr>\n",
       "  </tbody>\n",
       "</table>\n",
       "</div>"
      ],
      "text/plain": [
       "          U         V         W         X         Y         Z  naujas\n",
       "a  0.152870  0.969675  0.480424  0.241586  0.986391  0.301342       1\n",
       "b  0.457910  0.233163  0.129411  0.143683  0.774033  0.274547       2\n",
       "c  0.495006  0.660995  0.373867  0.699804  0.963157  0.253637       3\n",
       "d  0.000743  0.203814  0.257354  0.883320  0.883029  0.857333       4\n",
       "e  0.146380  0.968331  0.009328  0.046277  0.386115  0.076787       5"
      ]
     },
     "execution_count": 27,
     "metadata": {},
     "output_type": "execute_result"
    }
   ],
   "source": [
    "df"
   ]
  },
  {
   "cell_type": "markdown",
   "metadata": {},
   "source": [
    "**Inplace parametras**"
   ]
  },
  {
   "cell_type": "markdown",
   "metadata": {},
   "source": [
    "paskutinis mūsų veiksmas originalaus šaltinio nepakeitė, jeigu dabar išsikviesime df, matysime, kad jis koks buvo, toks ir liko: "
   ]
  },
  {
   "cell_type": "code",
   "execution_count": 22,
   "metadata": {},
   "outputs": [
    {
     "data": {
      "text/html": [
       "<div>\n",
       "<style scoped>\n",
       "    .dataframe tbody tr th:only-of-type {\n",
       "        vertical-align: middle;\n",
       "    }\n",
       "\n",
       "    .dataframe tbody tr th {\n",
       "        vertical-align: top;\n",
       "    }\n",
       "\n",
       "    .dataframe thead th {\n",
       "        text-align: right;\n",
       "    }\n",
       "</style>\n",
       "<table border=\"1\" class=\"dataframe\">\n",
       "  <thead>\n",
       "    <tr style=\"text-align: right;\">\n",
       "      <th></th>\n",
       "      <th>U</th>\n",
       "      <th>V</th>\n",
       "      <th>W</th>\n",
       "      <th>X</th>\n",
       "      <th>Y</th>\n",
       "      <th>Z</th>\n",
       "      <th>naujas</th>\n",
       "    </tr>\n",
       "  </thead>\n",
       "  <tbody>\n",
       "    <tr>\n",
       "      <th>a</th>\n",
       "      <td>0.361370</td>\n",
       "      <td>0.902063</td>\n",
       "      <td>0.702827</td>\n",
       "      <td>0.986880</td>\n",
       "      <td>0.462288</td>\n",
       "      <td>0.504773</td>\n",
       "      <td>1</td>\n",
       "    </tr>\n",
       "    <tr>\n",
       "      <th>b</th>\n",
       "      <td>0.174726</td>\n",
       "      <td>0.518000</td>\n",
       "      <td>0.119260</td>\n",
       "      <td>0.839525</td>\n",
       "      <td>0.128283</td>\n",
       "      <td>0.042082</td>\n",
       "      <td>2</td>\n",
       "    </tr>\n",
       "    <tr>\n",
       "      <th>c</th>\n",
       "      <td>0.605317</td>\n",
       "      <td>0.887836</td>\n",
       "      <td>0.094214</td>\n",
       "      <td>0.327027</td>\n",
       "      <td>0.351447</td>\n",
       "      <td>0.072083</td>\n",
       "      <td>3</td>\n",
       "    </tr>\n",
       "    <tr>\n",
       "      <th>d</th>\n",
       "      <td>0.931402</td>\n",
       "      <td>0.905410</td>\n",
       "      <td>0.531652</td>\n",
       "      <td>0.587163</td>\n",
       "      <td>0.232773</td>\n",
       "      <td>0.296398</td>\n",
       "      <td>4</td>\n",
       "    </tr>\n",
       "    <tr>\n",
       "      <th>e</th>\n",
       "      <td>0.113378</td>\n",
       "      <td>0.060269</td>\n",
       "      <td>0.325921</td>\n",
       "      <td>0.646713</td>\n",
       "      <td>0.124420</td>\n",
       "      <td>0.666479</td>\n",
       "      <td>5</td>\n",
       "    </tr>\n",
       "  </tbody>\n",
       "</table>\n",
       "</div>"
      ],
      "text/plain": [
       "          U         V         W         X         Y         Z  naujas\n",
       "a  0.361370  0.902063  0.702827  0.986880  0.462288  0.504773       1\n",
       "b  0.174726  0.518000  0.119260  0.839525  0.128283  0.042082       2\n",
       "c  0.605317  0.887836  0.094214  0.327027  0.351447  0.072083       3\n",
       "d  0.931402  0.905410  0.531652  0.587163  0.232773  0.296398       4\n",
       "e  0.113378  0.060269  0.325921  0.646713  0.124420  0.666479       5"
      ]
     },
     "execution_count": 22,
     "metadata": {},
     "output_type": "execute_result"
    }
   ],
   "source": [
    "df"
   ]
  },
  {
   "cell_type": "markdown",
   "metadata": {},
   "source": [
    "norėdami pakeisti originalą, turime nurodyti parametrą inplace=True:"
   ]
  },
  {
   "cell_type": "code",
   "execution_count": 28,
   "metadata": {},
   "outputs": [],
   "source": [
    "df.drop('naujas', axis=1, inplace=True)"
   ]
  },
  {
   "cell_type": "code",
   "execution_count": 29,
   "metadata": {},
   "outputs": [
    {
     "data": {
      "text/html": [
       "<div>\n",
       "<style scoped>\n",
       "    .dataframe tbody tr th:only-of-type {\n",
       "        vertical-align: middle;\n",
       "    }\n",
       "\n",
       "    .dataframe tbody tr th {\n",
       "        vertical-align: top;\n",
       "    }\n",
       "\n",
       "    .dataframe thead th {\n",
       "        text-align: right;\n",
       "    }\n",
       "</style>\n",
       "<table border=\"1\" class=\"dataframe\">\n",
       "  <thead>\n",
       "    <tr style=\"text-align: right;\">\n",
       "      <th></th>\n",
       "      <th>U</th>\n",
       "      <th>V</th>\n",
       "      <th>W</th>\n",
       "      <th>X</th>\n",
       "      <th>Y</th>\n",
       "      <th>Z</th>\n",
       "    </tr>\n",
       "  </thead>\n",
       "  <tbody>\n",
       "    <tr>\n",
       "      <th>a</th>\n",
       "      <td>0.152870</td>\n",
       "      <td>0.969675</td>\n",
       "      <td>0.480424</td>\n",
       "      <td>0.241586</td>\n",
       "      <td>0.986391</td>\n",
       "      <td>0.301342</td>\n",
       "    </tr>\n",
       "    <tr>\n",
       "      <th>b</th>\n",
       "      <td>0.457910</td>\n",
       "      <td>0.233163</td>\n",
       "      <td>0.129411</td>\n",
       "      <td>0.143683</td>\n",
       "      <td>0.774033</td>\n",
       "      <td>0.274547</td>\n",
       "    </tr>\n",
       "    <tr>\n",
       "      <th>c</th>\n",
       "      <td>0.495006</td>\n",
       "      <td>0.660995</td>\n",
       "      <td>0.373867</td>\n",
       "      <td>0.699804</td>\n",
       "      <td>0.963157</td>\n",
       "      <td>0.253637</td>\n",
       "    </tr>\n",
       "    <tr>\n",
       "      <th>d</th>\n",
       "      <td>0.000743</td>\n",
       "      <td>0.203814</td>\n",
       "      <td>0.257354</td>\n",
       "      <td>0.883320</td>\n",
       "      <td>0.883029</td>\n",
       "      <td>0.857333</td>\n",
       "    </tr>\n",
       "    <tr>\n",
       "      <th>e</th>\n",
       "      <td>0.146380</td>\n",
       "      <td>0.968331</td>\n",
       "      <td>0.009328</td>\n",
       "      <td>0.046277</td>\n",
       "      <td>0.386115</td>\n",
       "      <td>0.076787</td>\n",
       "    </tr>\n",
       "  </tbody>\n",
       "</table>\n",
       "</div>"
      ],
      "text/plain": [
       "          U         V         W         X         Y         Z\n",
       "a  0.152870  0.969675  0.480424  0.241586  0.986391  0.301342\n",
       "b  0.457910  0.233163  0.129411  0.143683  0.774033  0.274547\n",
       "c  0.495006  0.660995  0.373867  0.699804  0.963157  0.253637\n",
       "d  0.000743  0.203814  0.257354  0.883320  0.883029  0.857333\n",
       "e  0.146380  0.968331  0.009328  0.046277  0.386115  0.076787"
      ]
     },
     "execution_count": 29,
     "metadata": {},
     "output_type": "execute_result"
    }
   ],
   "source": [
    "df"
   ]
  },
  {
   "cell_type": "markdown",
   "metadata": {},
   "source": [
    "*inplace* parametras apsaugo mus nuo netyčinio duomenų sugadinimo"
   ]
  },
  {
   "cell_type": "markdown",
   "metadata": {},
   "source": [
    "**Pabandykime ištrinti eilutę:**"
   ]
  },
  {
   "cell_type": "code",
   "execution_count": 31,
   "metadata": {},
   "outputs": [
    {
     "data": {
      "text/html": [
       "<div>\n",
       "<style scoped>\n",
       "    .dataframe tbody tr th:only-of-type {\n",
       "        vertical-align: middle;\n",
       "    }\n",
       "\n",
       "    .dataframe tbody tr th {\n",
       "        vertical-align: top;\n",
       "    }\n",
       "\n",
       "    .dataframe thead th {\n",
       "        text-align: right;\n",
       "    }\n",
       "</style>\n",
       "<table border=\"1\" class=\"dataframe\">\n",
       "  <thead>\n",
       "    <tr style=\"text-align: right;\">\n",
       "      <th></th>\n",
       "      <th>U</th>\n",
       "      <th>V</th>\n",
       "      <th>W</th>\n",
       "      <th>X</th>\n",
       "      <th>Y</th>\n",
       "      <th>Z</th>\n",
       "    </tr>\n",
       "  </thead>\n",
       "  <tbody>\n",
       "    <tr>\n",
       "      <th>a</th>\n",
       "      <td>0.152870</td>\n",
       "      <td>0.969675</td>\n",
       "      <td>0.480424</td>\n",
       "      <td>0.241586</td>\n",
       "      <td>0.986391</td>\n",
       "      <td>0.301342</td>\n",
       "    </tr>\n",
       "    <tr>\n",
       "      <th>b</th>\n",
       "      <td>0.457910</td>\n",
       "      <td>0.233163</td>\n",
       "      <td>0.129411</td>\n",
       "      <td>0.143683</td>\n",
       "      <td>0.774033</td>\n",
       "      <td>0.274547</td>\n",
       "    </tr>\n",
       "    <tr>\n",
       "      <th>c</th>\n",
       "      <td>0.495006</td>\n",
       "      <td>0.660995</td>\n",
       "      <td>0.373867</td>\n",
       "      <td>0.699804</td>\n",
       "      <td>0.963157</td>\n",
       "      <td>0.253637</td>\n",
       "    </tr>\n",
       "    <tr>\n",
       "      <th>d</th>\n",
       "      <td>0.000743</td>\n",
       "      <td>0.203814</td>\n",
       "      <td>0.257354</td>\n",
       "      <td>0.883320</td>\n",
       "      <td>0.883029</td>\n",
       "      <td>0.857333</td>\n",
       "    </tr>\n",
       "  </tbody>\n",
       "</table>\n",
       "</div>"
      ],
      "text/plain": [
       "          U         V         W         X         Y         Z\n",
       "a  0.152870  0.969675  0.480424  0.241586  0.986391  0.301342\n",
       "b  0.457910  0.233163  0.129411  0.143683  0.774033  0.274547\n",
       "c  0.495006  0.660995  0.373867  0.699804  0.963157  0.253637\n",
       "d  0.000743  0.203814  0.257354  0.883320  0.883029  0.857333"
      ]
     },
     "execution_count": 31,
     "metadata": {},
     "output_type": "execute_result"
    }
   ],
   "source": [
    "df.drop('e')"
   ]
  },
  {
   "cell_type": "code",
   "execution_count": 32,
   "metadata": {},
   "outputs": [
    {
     "data": {
      "text/html": [
       "<div>\n",
       "<style scoped>\n",
       "    .dataframe tbody tr th:only-of-type {\n",
       "        vertical-align: middle;\n",
       "    }\n",
       "\n",
       "    .dataframe tbody tr th {\n",
       "        vertical-align: top;\n",
       "    }\n",
       "\n",
       "    .dataframe thead th {\n",
       "        text-align: right;\n",
       "    }\n",
       "</style>\n",
       "<table border=\"1\" class=\"dataframe\">\n",
       "  <thead>\n",
       "    <tr style=\"text-align: right;\">\n",
       "      <th></th>\n",
       "      <th>U</th>\n",
       "      <th>V</th>\n",
       "      <th>W</th>\n",
       "      <th>X</th>\n",
       "      <th>Y</th>\n",
       "      <th>Z</th>\n",
       "    </tr>\n",
       "  </thead>\n",
       "  <tbody>\n",
       "    <tr>\n",
       "      <th>a</th>\n",
       "      <td>0.152870</td>\n",
       "      <td>0.969675</td>\n",
       "      <td>0.480424</td>\n",
       "      <td>0.241586</td>\n",
       "      <td>0.986391</td>\n",
       "      <td>0.301342</td>\n",
       "    </tr>\n",
       "    <tr>\n",
       "      <th>b</th>\n",
       "      <td>0.457910</td>\n",
       "      <td>0.233163</td>\n",
       "      <td>0.129411</td>\n",
       "      <td>0.143683</td>\n",
       "      <td>0.774033</td>\n",
       "      <td>0.274547</td>\n",
       "    </tr>\n",
       "    <tr>\n",
       "      <th>c</th>\n",
       "      <td>0.495006</td>\n",
       "      <td>0.660995</td>\n",
       "      <td>0.373867</td>\n",
       "      <td>0.699804</td>\n",
       "      <td>0.963157</td>\n",
       "      <td>0.253637</td>\n",
       "    </tr>\n",
       "    <tr>\n",
       "      <th>d</th>\n",
       "      <td>0.000743</td>\n",
       "      <td>0.203814</td>\n",
       "      <td>0.257354</td>\n",
       "      <td>0.883320</td>\n",
       "      <td>0.883029</td>\n",
       "      <td>0.857333</td>\n",
       "    </tr>\n",
       "    <tr>\n",
       "      <th>e</th>\n",
       "      <td>0.146380</td>\n",
       "      <td>0.968331</td>\n",
       "      <td>0.009328</td>\n",
       "      <td>0.046277</td>\n",
       "      <td>0.386115</td>\n",
       "      <td>0.076787</td>\n",
       "    </tr>\n",
       "  </tbody>\n",
       "</table>\n",
       "</div>"
      ],
      "text/plain": [
       "          U         V         W         X         Y         Z\n",
       "a  0.152870  0.969675  0.480424  0.241586  0.986391  0.301342\n",
       "b  0.457910  0.233163  0.129411  0.143683  0.774033  0.274547\n",
       "c  0.495006  0.660995  0.373867  0.699804  0.963157  0.253637\n",
       "d  0.000743  0.203814  0.257354  0.883320  0.883029  0.857333\n",
       "e  0.146380  0.968331  0.009328  0.046277  0.386115  0.076787"
      ]
     },
     "execution_count": 32,
     "metadata": {},
     "output_type": "execute_result"
    }
   ],
   "source": [
    "df"
   ]
  },
  {
   "cell_type": "markdown",
   "metadata": {},
   "source": [
    "trinant eilutę parametro axis=0 nurodyti nebūtina, tai yra *default* reikšmė"
   ]
  },
  {
   "cell_type": "markdown",
   "metadata": {},
   "source": [
    "**Eilučių traukimas**"
   ]
  },
  {
   "cell_type": "code",
   "execution_count": 28,
   "metadata": {},
   "outputs": [
    {
     "data": {
      "text/plain": [
       "U    0.113378\n",
       "V    0.060269\n",
       "W    0.325921\n",
       "X    0.646713\n",
       "Y    0.124420\n",
       "Z    0.666479\n",
       "Name: e, dtype: float64"
      ]
     },
     "execution_count": 28,
     "metadata": {},
     "output_type": "execute_result"
    }
   ],
   "source": [
    "df.loc['e']"
   ]
  },
  {
   "cell_type": "markdown",
   "metadata": {},
   "source": [
    "eilutes galime traukti ir pagal indeksą:"
   ]
  },
  {
   "cell_type": "code",
   "execution_count": 31,
   "metadata": {},
   "outputs": [
    {
     "data": {
      "text/plain": [
       "U    0.113378\n",
       "V    0.060269\n",
       "W    0.325921\n",
       "X    0.646713\n",
       "Y    0.124420\n",
       "Z    0.666479\n",
       "Name: e, dtype: float64"
      ]
     },
     "execution_count": 31,
     "metadata": {},
     "output_type": "execute_result"
    }
   ],
   "source": [
    "df.iloc[4]"
   ]
  },
  {
   "cell_type": "markdown",
   "metadata": {},
   "source": [
    "**Subsets**"
   ]
  },
  {
   "cell_type": "markdown",
   "metadata": {},
   "source": [
    "jeigu norime pavienės reikšmės iš lentelės:"
   ]
  },
  {
   "cell_type": "code",
   "execution_count": 33,
   "metadata": {},
   "outputs": [
    {
     "data": {
      "text/plain": [
       "0.25363704647790075"
      ]
     },
     "execution_count": 33,
     "metadata": {},
     "output_type": "execute_result"
    }
   ],
   "source": [
    "df.loc['c', 'Z']"
   ]
  },
  {
   "cell_type": "markdown",
   "metadata": {},
   "source": [
    "jeigu norime fragmento iš eilučių ir stulpelių (*subset*):"
   ]
  },
  {
   "cell_type": "code",
   "execution_count": 35,
   "metadata": {},
   "outputs": [
    {
     "data": {
      "text/html": [
       "<div>\n",
       "<style scoped>\n",
       "    .dataframe tbody tr th:only-of-type {\n",
       "        vertical-align: middle;\n",
       "    }\n",
       "\n",
       "    .dataframe tbody tr th {\n",
       "        vertical-align: top;\n",
       "    }\n",
       "\n",
       "    .dataframe thead th {\n",
       "        text-align: right;\n",
       "    }\n",
       "</style>\n",
       "<table border=\"1\" class=\"dataframe\">\n",
       "  <thead>\n",
       "    <tr style=\"text-align: right;\">\n",
       "      <th></th>\n",
       "      <th>U</th>\n",
       "      <th>V</th>\n",
       "      <th>Z</th>\n",
       "    </tr>\n",
       "  </thead>\n",
       "  <tbody>\n",
       "    <tr>\n",
       "      <th>a</th>\n",
       "      <td>0.152870</td>\n",
       "      <td>0.969675</td>\n",
       "      <td>0.301342</td>\n",
       "    </tr>\n",
       "    <tr>\n",
       "      <th>c</th>\n",
       "      <td>0.495006</td>\n",
       "      <td>0.660995</td>\n",
       "      <td>0.253637</td>\n",
       "    </tr>\n",
       "  </tbody>\n",
       "</table>\n",
       "</div>"
      ],
      "text/plain": [
       "          U         V         Z\n",
       "a  0.152870  0.969675  0.301342\n",
       "c  0.495006  0.660995  0.253637"
      ]
     },
     "execution_count": 35,
     "metadata": {},
     "output_type": "execute_result"
    }
   ],
   "source": [
    "df.loc[['a', 'c'], ['U', 'V', 'Z']]"
   ]
  },
  {
   "cell_type": "markdown",
   "metadata": {},
   "source": [
    "**Duomenų traukimas pagal sąlygą:**"
   ]
  },
  {
   "cell_type": "markdown",
   "metadata": {},
   "source": [
    "duomenų traukimas pagal sąlygą yra labai panašus, kaip ir numPy:"
   ]
  },
  {
   "cell_type": "code",
   "execution_count": 37,
   "metadata": {},
   "outputs": [
    {
     "data": {
      "text/html": [
       "<div>\n",
       "<style scoped>\n",
       "    .dataframe tbody tr th:only-of-type {\n",
       "        vertical-align: middle;\n",
       "    }\n",
       "\n",
       "    .dataframe tbody tr th {\n",
       "        vertical-align: top;\n",
       "    }\n",
       "\n",
       "    .dataframe thead th {\n",
       "        text-align: right;\n",
       "    }\n",
       "</style>\n",
       "<table border=\"1\" class=\"dataframe\">\n",
       "  <thead>\n",
       "    <tr style=\"text-align: right;\">\n",
       "      <th></th>\n",
       "      <th>U</th>\n",
       "      <th>V</th>\n",
       "      <th>W</th>\n",
       "      <th>X</th>\n",
       "      <th>Y</th>\n",
       "      <th>Z</th>\n",
       "    </tr>\n",
       "  </thead>\n",
       "  <tbody>\n",
       "    <tr>\n",
       "      <th>a</th>\n",
       "      <td>0.152870</td>\n",
       "      <td>0.969675</td>\n",
       "      <td>0.480424</td>\n",
       "      <td>0.241586</td>\n",
       "      <td>0.986391</td>\n",
       "      <td>0.301342</td>\n",
       "    </tr>\n",
       "    <tr>\n",
       "      <th>b</th>\n",
       "      <td>0.457910</td>\n",
       "      <td>0.233163</td>\n",
       "      <td>0.129411</td>\n",
       "      <td>0.143683</td>\n",
       "      <td>0.774033</td>\n",
       "      <td>0.274547</td>\n",
       "    </tr>\n",
       "    <tr>\n",
       "      <th>c</th>\n",
       "      <td>0.495006</td>\n",
       "      <td>0.660995</td>\n",
       "      <td>0.373867</td>\n",
       "      <td>0.699804</td>\n",
       "      <td>0.963157</td>\n",
       "      <td>0.253637</td>\n",
       "    </tr>\n",
       "    <tr>\n",
       "      <th>d</th>\n",
       "      <td>0.000743</td>\n",
       "      <td>0.203814</td>\n",
       "      <td>0.257354</td>\n",
       "      <td>0.883320</td>\n",
       "      <td>0.883029</td>\n",
       "      <td>0.857333</td>\n",
       "    </tr>\n",
       "    <tr>\n",
       "      <th>e</th>\n",
       "      <td>0.146380</td>\n",
       "      <td>0.968331</td>\n",
       "      <td>0.009328</td>\n",
       "      <td>0.046277</td>\n",
       "      <td>0.386115</td>\n",
       "      <td>0.076787</td>\n",
       "    </tr>\n",
       "  </tbody>\n",
       "</table>\n",
       "</div>"
      ],
      "text/plain": [
       "          U         V         W         X         Y         Z\n",
       "a  0.152870  0.969675  0.480424  0.241586  0.986391  0.301342\n",
       "b  0.457910  0.233163  0.129411  0.143683  0.774033  0.274547\n",
       "c  0.495006  0.660995  0.373867  0.699804  0.963157  0.253637\n",
       "d  0.000743  0.203814  0.257354  0.883320  0.883029  0.857333\n",
       "e  0.146380  0.968331  0.009328  0.046277  0.386115  0.076787"
      ]
     },
     "execution_count": 37,
     "metadata": {},
     "output_type": "execute_result"
    }
   ],
   "source": [
    "df"
   ]
  },
  {
   "cell_type": "code",
   "execution_count": 44,
   "metadata": {},
   "outputs": [
    {
     "data": {
      "text/html": [
       "<div>\n",
       "<style scoped>\n",
       "    .dataframe tbody tr th:only-of-type {\n",
       "        vertical-align: middle;\n",
       "    }\n",
       "\n",
       "    .dataframe tbody tr th {\n",
       "        vertical-align: top;\n",
       "    }\n",
       "\n",
       "    .dataframe thead th {\n",
       "        text-align: right;\n",
       "    }\n",
       "</style>\n",
       "<table border=\"1\" class=\"dataframe\">\n",
       "  <thead>\n",
       "    <tr style=\"text-align: right;\">\n",
       "      <th></th>\n",
       "      <th>U</th>\n",
       "      <th>V</th>\n",
       "      <th>W</th>\n",
       "      <th>X</th>\n",
       "      <th>Y</th>\n",
       "      <th>Z</th>\n",
       "    </tr>\n",
       "  </thead>\n",
       "  <tbody>\n",
       "    <tr>\n",
       "      <th>a</th>\n",
       "      <td>NaN</td>\n",
       "      <td>0.969675</td>\n",
       "      <td>0.480424</td>\n",
       "      <td>NaN</td>\n",
       "      <td>0.986391</td>\n",
       "      <td>NaN</td>\n",
       "    </tr>\n",
       "    <tr>\n",
       "      <th>b</th>\n",
       "      <td>0.457910</td>\n",
       "      <td>NaN</td>\n",
       "      <td>NaN</td>\n",
       "      <td>NaN</td>\n",
       "      <td>0.774033</td>\n",
       "      <td>NaN</td>\n",
       "    </tr>\n",
       "    <tr>\n",
       "      <th>c</th>\n",
       "      <td>0.495006</td>\n",
       "      <td>0.660995</td>\n",
       "      <td>NaN</td>\n",
       "      <td>0.699804</td>\n",
       "      <td>0.963157</td>\n",
       "      <td>NaN</td>\n",
       "    </tr>\n",
       "    <tr>\n",
       "      <th>d</th>\n",
       "      <td>NaN</td>\n",
       "      <td>NaN</td>\n",
       "      <td>NaN</td>\n",
       "      <td>0.883320</td>\n",
       "      <td>0.883029</td>\n",
       "      <td>0.857333</td>\n",
       "    </tr>\n",
       "    <tr>\n",
       "      <th>e</th>\n",
       "      <td>NaN</td>\n",
       "      <td>0.968331</td>\n",
       "      <td>NaN</td>\n",
       "      <td>NaN</td>\n",
       "      <td>NaN</td>\n",
       "      <td>NaN</td>\n",
       "    </tr>\n",
       "  </tbody>\n",
       "</table>\n",
       "</div>"
      ],
      "text/plain": [
       "          U         V         W         X         Y         Z\n",
       "a       NaN  0.969675  0.480424       NaN  0.986391       NaN\n",
       "b  0.457910       NaN       NaN       NaN  0.774033       NaN\n",
       "c  0.495006  0.660995       NaN  0.699804  0.963157       NaN\n",
       "d       NaN       NaN       NaN  0.883320  0.883029  0.857333\n",
       "e       NaN  0.968331       NaN       NaN       NaN       NaN"
      ]
     },
     "execution_count": 44,
     "metadata": {},
     "output_type": "execute_result"
    }
   ],
   "source": [
    "df[df>0.4] "
   ]
  },
  {
   "cell_type": "markdown",
   "metadata": {},
   "source": [
    "kur reikšmės atitinką sąlygą, turime reikšmes, kur neatitinka - NaN."
   ]
  },
  {
   "cell_type": "markdown",
   "metadata": {},
   "source": [
    "jeigu prireiktų subset'o, kur stulpelio 'W' reikšmės yra > 0.5:"
   ]
  },
  {
   "cell_type": "code",
   "execution_count": 42,
   "metadata": {},
   "outputs": [
    {
     "data": {
      "text/html": [
       "<div>\n",
       "<style scoped>\n",
       "    .dataframe tbody tr th:only-of-type {\n",
       "        vertical-align: middle;\n",
       "    }\n",
       "\n",
       "    .dataframe tbody tr th {\n",
       "        vertical-align: top;\n",
       "    }\n",
       "\n",
       "    .dataframe thead th {\n",
       "        text-align: right;\n",
       "    }\n",
       "</style>\n",
       "<table border=\"1\" class=\"dataframe\">\n",
       "  <thead>\n",
       "    <tr style=\"text-align: right;\">\n",
       "      <th></th>\n",
       "      <th>U</th>\n",
       "      <th>V</th>\n",
       "      <th>W</th>\n",
       "      <th>X</th>\n",
       "      <th>Y</th>\n",
       "      <th>Z</th>\n",
       "    </tr>\n",
       "  </thead>\n",
       "  <tbody>\n",
       "    <tr>\n",
       "      <th>a</th>\n",
       "      <td>0.15287</td>\n",
       "      <td>0.969675</td>\n",
       "      <td>0.480424</td>\n",
       "      <td>0.241586</td>\n",
       "      <td>0.986391</td>\n",
       "      <td>0.301342</td>\n",
       "    </tr>\n",
       "  </tbody>\n",
       "</table>\n",
       "</div>"
      ],
      "text/plain": [
       "         U         V         W         X         Y         Z\n",
       "a  0.15287  0.969675  0.480424  0.241586  0.986391  0.301342"
      ]
     },
     "execution_count": 42,
     "metadata": {},
     "output_type": "execute_result"
    }
   ],
   "source": [
    "df[df['W']>0.4]"
   ]
  },
  {
   "cell_type": "markdown",
   "metadata": {},
   "source": [
    "Skirtumas tarp šių operacijų toks, kad kai sąlygą taikome visam DataFrame'ui, gauname tą patį DataFrame su NaN reikšmėmis, tose vietose, kur originalios reikšmės neatitinka sąlygos. Kai sąlygą taikome stulpeliams, gauname tik tas eilutes, kurios atitinka sąlygą, t.y. vykdome filtravimą."
   ]
  },
  {
   "cell_type": "markdown",
   "metadata": {},
   "source": [
    "**Užklausų kombinavimas**"
   ]
  },
  {
   "cell_type": "code",
   "execution_count": 47,
   "metadata": {},
   "outputs": [
    {
     "data": {
      "text/html": [
       "<div>\n",
       "<style scoped>\n",
       "    .dataframe tbody tr th:only-of-type {\n",
       "        vertical-align: middle;\n",
       "    }\n",
       "\n",
       "    .dataframe tbody tr th {\n",
       "        vertical-align: top;\n",
       "    }\n",
       "\n",
       "    .dataframe thead th {\n",
       "        text-align: right;\n",
       "    }\n",
       "</style>\n",
       "<table border=\"1\" class=\"dataframe\">\n",
       "  <thead>\n",
       "    <tr style=\"text-align: right;\">\n",
       "      <th></th>\n",
       "      <th>U</th>\n",
       "      <th>W</th>\n",
       "      <th>Z</th>\n",
       "    </tr>\n",
       "  </thead>\n",
       "  <tbody>\n",
       "    <tr>\n",
       "      <th>a</th>\n",
       "      <td>0.15287</td>\n",
       "      <td>0.480424</td>\n",
       "      <td>0.301342</td>\n",
       "    </tr>\n",
       "  </tbody>\n",
       "</table>\n",
       "</div>"
      ],
      "text/plain": [
       "         U         W         Z\n",
       "a  0.15287  0.480424  0.301342"
      ]
     },
     "execution_count": 47,
     "metadata": {},
     "output_type": "execute_result"
    }
   ],
   "source": [
    "df[df['W']>0.4][['U', 'W', 'Z']]"
   ]
  },
  {
   "cell_type": "markdown",
   "metadata": {},
   "source": [
    "šiame pavyzdyje gauname rezultatą, kokį gautumėm paeiliui ivykdę dvi atskiras eilutes: *df1 = df[df['W']>0.5], df1[['U', 'W', 'Z']]*. Užklausų kombinavimas leidžia mums nekurti atmintyje papildomų kintamųjų (kaip šiuo atveju *df1*)."
   ]
  },
  {
   "cell_type": "markdown",
   "metadata": {},
   "source": [
    "**Sąlygų kombinavimas**"
   ]
  },
  {
   "cell_type": "code",
   "execution_count": 45,
   "metadata": {},
   "outputs": [
    {
     "data": {
      "text/html": [
       "<div>\n",
       "<style scoped>\n",
       "    .dataframe tbody tr th:only-of-type {\n",
       "        vertical-align: middle;\n",
       "    }\n",
       "\n",
       "    .dataframe tbody tr th {\n",
       "        vertical-align: top;\n",
       "    }\n",
       "\n",
       "    .dataframe thead th {\n",
       "        text-align: right;\n",
       "    }\n",
       "</style>\n",
       "<table border=\"1\" class=\"dataframe\">\n",
       "  <thead>\n",
       "    <tr style=\"text-align: right;\">\n",
       "      <th></th>\n",
       "      <th>U</th>\n",
       "      <th>V</th>\n",
       "      <th>W</th>\n",
       "      <th>X</th>\n",
       "      <th>Y</th>\n",
       "      <th>Z</th>\n",
       "    </tr>\n",
       "  </thead>\n",
       "  <tbody>\n",
       "    <tr>\n",
       "      <th>a</th>\n",
       "      <td>0.152870</td>\n",
       "      <td>0.969675</td>\n",
       "      <td>0.480424</td>\n",
       "      <td>0.241586</td>\n",
       "      <td>0.986391</td>\n",
       "      <td>0.301342</td>\n",
       "    </tr>\n",
       "    <tr>\n",
       "      <th>b</th>\n",
       "      <td>0.457910</td>\n",
       "      <td>0.233163</td>\n",
       "      <td>0.129411</td>\n",
       "      <td>0.143683</td>\n",
       "      <td>0.774033</td>\n",
       "      <td>0.274547</td>\n",
       "    </tr>\n",
       "    <tr>\n",
       "      <th>c</th>\n",
       "      <td>0.495006</td>\n",
       "      <td>0.660995</td>\n",
       "      <td>0.373867</td>\n",
       "      <td>0.699804</td>\n",
       "      <td>0.963157</td>\n",
       "      <td>0.253637</td>\n",
       "    </tr>\n",
       "    <tr>\n",
       "      <th>d</th>\n",
       "      <td>0.000743</td>\n",
       "      <td>0.203814</td>\n",
       "      <td>0.257354</td>\n",
       "      <td>0.883320</td>\n",
       "      <td>0.883029</td>\n",
       "      <td>0.857333</td>\n",
       "    </tr>\n",
       "    <tr>\n",
       "      <th>e</th>\n",
       "      <td>0.146380</td>\n",
       "      <td>0.968331</td>\n",
       "      <td>0.009328</td>\n",
       "      <td>0.046277</td>\n",
       "      <td>0.386115</td>\n",
       "      <td>0.076787</td>\n",
       "    </tr>\n",
       "  </tbody>\n",
       "</table>\n",
       "</div>"
      ],
      "text/plain": [
       "          U         V         W         X         Y         Z\n",
       "a  0.152870  0.969675  0.480424  0.241586  0.986391  0.301342\n",
       "b  0.457910  0.233163  0.129411  0.143683  0.774033  0.274547\n",
       "c  0.495006  0.660995  0.373867  0.699804  0.963157  0.253637\n",
       "d  0.000743  0.203814  0.257354  0.883320  0.883029  0.857333\n",
       "e  0.146380  0.968331  0.009328  0.046277  0.386115  0.076787"
      ]
     },
     "execution_count": 45,
     "metadata": {},
     "output_type": "execute_result"
    }
   ],
   "source": [
    "df"
   ]
  },
  {
   "cell_type": "code",
   "execution_count": 50,
   "metadata": {},
   "outputs": [
    {
     "data": {
      "text/html": [
       "<div>\n",
       "<style scoped>\n",
       "    .dataframe tbody tr th:only-of-type {\n",
       "        vertical-align: middle;\n",
       "    }\n",
       "\n",
       "    .dataframe tbody tr th {\n",
       "        vertical-align: top;\n",
       "    }\n",
       "\n",
       "    .dataframe thead th {\n",
       "        text-align: right;\n",
       "    }\n",
       "</style>\n",
       "<table border=\"1\" class=\"dataframe\">\n",
       "  <thead>\n",
       "    <tr style=\"text-align: right;\">\n",
       "      <th></th>\n",
       "      <th>U</th>\n",
       "      <th>V</th>\n",
       "      <th>W</th>\n",
       "      <th>X</th>\n",
       "      <th>Y</th>\n",
       "      <th>Z</th>\n",
       "    </tr>\n",
       "  </thead>\n",
       "  <tbody>\n",
       "    <tr>\n",
       "      <th>b</th>\n",
       "      <td>0.457910</td>\n",
       "      <td>0.233163</td>\n",
       "      <td>0.129411</td>\n",
       "      <td>0.143683</td>\n",
       "      <td>0.774033</td>\n",
       "      <td>0.274547</td>\n",
       "    </tr>\n",
       "    <tr>\n",
       "      <th>c</th>\n",
       "      <td>0.495006</td>\n",
       "      <td>0.660995</td>\n",
       "      <td>0.373867</td>\n",
       "      <td>0.699804</td>\n",
       "      <td>0.963157</td>\n",
       "      <td>0.253637</td>\n",
       "    </tr>\n",
       "  </tbody>\n",
       "</table>\n",
       "</div>"
      ],
      "text/plain": [
       "          U         V         W         X         Y         Z\n",
       "b  0.457910  0.233163  0.129411  0.143683  0.774033  0.274547\n",
       "c  0.495006  0.660995  0.373867  0.699804  0.963157  0.253637"
      ]
     },
     "execution_count": 50,
     "metadata": {},
     "output_type": "execute_result"
    }
   ],
   "source": [
    "df[(df['U']>0.4) & (df['Z']<0.4)]"
   ]
  },
  {
   "cell_type": "markdown",
   "metadata": {},
   "source": [
    "gavome tas eilutes, kuriose U stulpelyje reikšmės didesnės, o Z stulpelyje mažesnės už 0.4."
   ]
  },
  {
   "cell_type": "code",
   "execution_count": 52,
   "metadata": {},
   "outputs": [
    {
     "data": {
      "text/html": [
       "<div>\n",
       "<style scoped>\n",
       "    .dataframe tbody tr th:only-of-type {\n",
       "        vertical-align: middle;\n",
       "    }\n",
       "\n",
       "    .dataframe tbody tr th {\n",
       "        vertical-align: top;\n",
       "    }\n",
       "\n",
       "    .dataframe thead th {\n",
       "        text-align: right;\n",
       "    }\n",
       "</style>\n",
       "<table border=\"1\" class=\"dataframe\">\n",
       "  <thead>\n",
       "    <tr style=\"text-align: right;\">\n",
       "      <th></th>\n",
       "      <th>U</th>\n",
       "      <th>Z</th>\n",
       "    </tr>\n",
       "  </thead>\n",
       "  <tbody>\n",
       "    <tr>\n",
       "      <th>b</th>\n",
       "      <td>0.457910</td>\n",
       "      <td>0.274547</td>\n",
       "    </tr>\n",
       "    <tr>\n",
       "      <th>c</th>\n",
       "      <td>0.495006</td>\n",
       "      <td>0.253637</td>\n",
       "    </tr>\n",
       "  </tbody>\n",
       "</table>\n",
       "</div>"
      ],
      "text/plain": [
       "          U         Z\n",
       "b  0.457910  0.274547\n",
       "c  0.495006  0.253637"
      ]
     },
     "execution_count": 52,
     "metadata": {},
     "output_type": "execute_result"
    }
   ],
   "source": [
    "df[(df['U']>0.4) & (df['Z']<0.4)][['U', 'Z']]"
   ]
  },
  {
   "cell_type": "markdown",
   "metadata": {},
   "source": [
    "Čia sukombinavome dvi sąlygas ir iš rezultato paprašėme tik 2jų stulpelių"
   ]
  },
  {
   "cell_type": "markdown",
   "metadata": {},
   "source": [
    "**Operacijos su index stulpeliu**"
   ]
  },
  {
   "cell_type": "markdown",
   "metadata": {},
   "source": [
    "reset_index paverčia mūsų seną indeksą dar vienu stulpeliu, ir sukuria naują indeksą iš skaičių. Reikia naudoti *inplace=True*, jei norime pakeisti originalą."
   ]
  },
  {
   "cell_type": "code",
   "execution_count": 53,
   "metadata": {},
   "outputs": [
    {
     "data": {
      "text/html": [
       "<div>\n",
       "<style scoped>\n",
       "    .dataframe tbody tr th:only-of-type {\n",
       "        vertical-align: middle;\n",
       "    }\n",
       "\n",
       "    .dataframe tbody tr th {\n",
       "        vertical-align: top;\n",
       "    }\n",
       "\n",
       "    .dataframe thead th {\n",
       "        text-align: right;\n",
       "    }\n",
       "</style>\n",
       "<table border=\"1\" class=\"dataframe\">\n",
       "  <thead>\n",
       "    <tr style=\"text-align: right;\">\n",
       "      <th></th>\n",
       "      <th>index</th>\n",
       "      <th>U</th>\n",
       "      <th>V</th>\n",
       "      <th>W</th>\n",
       "      <th>X</th>\n",
       "      <th>Y</th>\n",
       "      <th>Z</th>\n",
       "    </tr>\n",
       "  </thead>\n",
       "  <tbody>\n",
       "    <tr>\n",
       "      <th>0</th>\n",
       "      <td>a</td>\n",
       "      <td>0.152870</td>\n",
       "      <td>0.969675</td>\n",
       "      <td>0.480424</td>\n",
       "      <td>0.241586</td>\n",
       "      <td>0.986391</td>\n",
       "      <td>0.301342</td>\n",
       "    </tr>\n",
       "    <tr>\n",
       "      <th>1</th>\n",
       "      <td>b</td>\n",
       "      <td>0.457910</td>\n",
       "      <td>0.233163</td>\n",
       "      <td>0.129411</td>\n",
       "      <td>0.143683</td>\n",
       "      <td>0.774033</td>\n",
       "      <td>0.274547</td>\n",
       "    </tr>\n",
       "    <tr>\n",
       "      <th>2</th>\n",
       "      <td>c</td>\n",
       "      <td>0.495006</td>\n",
       "      <td>0.660995</td>\n",
       "      <td>0.373867</td>\n",
       "      <td>0.699804</td>\n",
       "      <td>0.963157</td>\n",
       "      <td>0.253637</td>\n",
       "    </tr>\n",
       "    <tr>\n",
       "      <th>3</th>\n",
       "      <td>d</td>\n",
       "      <td>0.000743</td>\n",
       "      <td>0.203814</td>\n",
       "      <td>0.257354</td>\n",
       "      <td>0.883320</td>\n",
       "      <td>0.883029</td>\n",
       "      <td>0.857333</td>\n",
       "    </tr>\n",
       "    <tr>\n",
       "      <th>4</th>\n",
       "      <td>e</td>\n",
       "      <td>0.146380</td>\n",
       "      <td>0.968331</td>\n",
       "      <td>0.009328</td>\n",
       "      <td>0.046277</td>\n",
       "      <td>0.386115</td>\n",
       "      <td>0.076787</td>\n",
       "    </tr>\n",
       "  </tbody>\n",
       "</table>\n",
       "</div>"
      ],
      "text/plain": [
       "  index         U         V         W         X         Y         Z\n",
       "0     a  0.152870  0.969675  0.480424  0.241586  0.986391  0.301342\n",
       "1     b  0.457910  0.233163  0.129411  0.143683  0.774033  0.274547\n",
       "2     c  0.495006  0.660995  0.373867  0.699804  0.963157  0.253637\n",
       "3     d  0.000743  0.203814  0.257354  0.883320  0.883029  0.857333\n",
       "4     e  0.146380  0.968331  0.009328  0.046277  0.386115  0.076787"
      ]
     },
     "execution_count": 53,
     "metadata": {},
     "output_type": "execute_result"
    }
   ],
   "source": [
    "df.reset_index()"
   ]
  },
  {
   "cell_type": "markdown",
   "metadata": {},
   "source": [
    "Norint sukurti naują indeksą, reikia pridėti naują stulpelį:"
   ]
  },
  {
   "cell_type": "code",
   "execution_count": 54,
   "metadata": {},
   "outputs": [],
   "source": [
    "naujas_indeksas = 'Vilnius Kaunas Klaipėda Šiauliai Panevėžys'.split()"
   ]
  },
  {
   "cell_type": "code",
   "execution_count": 55,
   "metadata": {},
   "outputs": [
    {
     "data": {
      "text/plain": [
       "['Vilnius', 'Kaunas', 'Klaipėda', 'Šiauliai', 'Panevėžys']"
      ]
     },
     "execution_count": 55,
     "metadata": {},
     "output_type": "execute_result"
    }
   ],
   "source": [
    "naujas_indeksas"
   ]
  },
  {
   "cell_type": "code",
   "execution_count": 56,
   "metadata": {},
   "outputs": [],
   "source": [
    "df['Miestai'] = naujas_indeksas"
   ]
  },
  {
   "cell_type": "code",
   "execution_count": 57,
   "metadata": {},
   "outputs": [
    {
     "data": {
      "text/html": [
       "<div>\n",
       "<style scoped>\n",
       "    .dataframe tbody tr th:only-of-type {\n",
       "        vertical-align: middle;\n",
       "    }\n",
       "\n",
       "    .dataframe tbody tr th {\n",
       "        vertical-align: top;\n",
       "    }\n",
       "\n",
       "    .dataframe thead th {\n",
       "        text-align: right;\n",
       "    }\n",
       "</style>\n",
       "<table border=\"1\" class=\"dataframe\">\n",
       "  <thead>\n",
       "    <tr style=\"text-align: right;\">\n",
       "      <th></th>\n",
       "      <th>U</th>\n",
       "      <th>V</th>\n",
       "      <th>W</th>\n",
       "      <th>X</th>\n",
       "      <th>Y</th>\n",
       "      <th>Z</th>\n",
       "      <th>Miestai</th>\n",
       "    </tr>\n",
       "  </thead>\n",
       "  <tbody>\n",
       "    <tr>\n",
       "      <th>a</th>\n",
       "      <td>0.152870</td>\n",
       "      <td>0.969675</td>\n",
       "      <td>0.480424</td>\n",
       "      <td>0.241586</td>\n",
       "      <td>0.986391</td>\n",
       "      <td>0.301342</td>\n",
       "      <td>Vilnius</td>\n",
       "    </tr>\n",
       "    <tr>\n",
       "      <th>b</th>\n",
       "      <td>0.457910</td>\n",
       "      <td>0.233163</td>\n",
       "      <td>0.129411</td>\n",
       "      <td>0.143683</td>\n",
       "      <td>0.774033</td>\n",
       "      <td>0.274547</td>\n",
       "      <td>Kaunas</td>\n",
       "    </tr>\n",
       "    <tr>\n",
       "      <th>c</th>\n",
       "      <td>0.495006</td>\n",
       "      <td>0.660995</td>\n",
       "      <td>0.373867</td>\n",
       "      <td>0.699804</td>\n",
       "      <td>0.963157</td>\n",
       "      <td>0.253637</td>\n",
       "      <td>Klaipėda</td>\n",
       "    </tr>\n",
       "    <tr>\n",
       "      <th>d</th>\n",
       "      <td>0.000743</td>\n",
       "      <td>0.203814</td>\n",
       "      <td>0.257354</td>\n",
       "      <td>0.883320</td>\n",
       "      <td>0.883029</td>\n",
       "      <td>0.857333</td>\n",
       "      <td>Šiauliai</td>\n",
       "    </tr>\n",
       "    <tr>\n",
       "      <th>e</th>\n",
       "      <td>0.146380</td>\n",
       "      <td>0.968331</td>\n",
       "      <td>0.009328</td>\n",
       "      <td>0.046277</td>\n",
       "      <td>0.386115</td>\n",
       "      <td>0.076787</td>\n",
       "      <td>Panevėžys</td>\n",
       "    </tr>\n",
       "  </tbody>\n",
       "</table>\n",
       "</div>"
      ],
      "text/plain": [
       "          U         V         W         X         Y         Z    Miestai\n",
       "a  0.152870  0.969675  0.480424  0.241586  0.986391  0.301342    Vilnius\n",
       "b  0.457910  0.233163  0.129411  0.143683  0.774033  0.274547     Kaunas\n",
       "c  0.495006  0.660995  0.373867  0.699804  0.963157  0.253637   Klaipėda\n",
       "d  0.000743  0.203814  0.257354  0.883320  0.883029  0.857333   Šiauliai\n",
       "e  0.146380  0.968331  0.009328  0.046277  0.386115  0.076787  Panevėžys"
      ]
     },
     "execution_count": 57,
     "metadata": {},
     "output_type": "execute_result"
    }
   ],
   "source": [
    "df"
   ]
  },
  {
   "cell_type": "code",
   "execution_count": 59,
   "metadata": {
    "scrolled": true
   },
   "outputs": [
    {
     "data": {
      "text/html": [
       "<div>\n",
       "<style scoped>\n",
       "    .dataframe tbody tr th:only-of-type {\n",
       "        vertical-align: middle;\n",
       "    }\n",
       "\n",
       "    .dataframe tbody tr th {\n",
       "        vertical-align: top;\n",
       "    }\n",
       "\n",
       "    .dataframe thead th {\n",
       "        text-align: right;\n",
       "    }\n",
       "</style>\n",
       "<table border=\"1\" class=\"dataframe\">\n",
       "  <thead>\n",
       "    <tr style=\"text-align: right;\">\n",
       "      <th></th>\n",
       "      <th>U</th>\n",
       "      <th>V</th>\n",
       "      <th>W</th>\n",
       "      <th>X</th>\n",
       "      <th>Y</th>\n",
       "      <th>Z</th>\n",
       "    </tr>\n",
       "    <tr>\n",
       "      <th>Miestai</th>\n",
       "      <th></th>\n",
       "      <th></th>\n",
       "      <th></th>\n",
       "      <th></th>\n",
       "      <th></th>\n",
       "      <th></th>\n",
       "    </tr>\n",
       "  </thead>\n",
       "  <tbody>\n",
       "    <tr>\n",
       "      <th>Vilnius</th>\n",
       "      <td>0.152870</td>\n",
       "      <td>0.969675</td>\n",
       "      <td>0.480424</td>\n",
       "      <td>0.241586</td>\n",
       "      <td>0.986391</td>\n",
       "      <td>0.301342</td>\n",
       "    </tr>\n",
       "    <tr>\n",
       "      <th>Kaunas</th>\n",
       "      <td>0.457910</td>\n",
       "      <td>0.233163</td>\n",
       "      <td>0.129411</td>\n",
       "      <td>0.143683</td>\n",
       "      <td>0.774033</td>\n",
       "      <td>0.274547</td>\n",
       "    </tr>\n",
       "    <tr>\n",
       "      <th>Klaipėda</th>\n",
       "      <td>0.495006</td>\n",
       "      <td>0.660995</td>\n",
       "      <td>0.373867</td>\n",
       "      <td>0.699804</td>\n",
       "      <td>0.963157</td>\n",
       "      <td>0.253637</td>\n",
       "    </tr>\n",
       "    <tr>\n",
       "      <th>Šiauliai</th>\n",
       "      <td>0.000743</td>\n",
       "      <td>0.203814</td>\n",
       "      <td>0.257354</td>\n",
       "      <td>0.883320</td>\n",
       "      <td>0.883029</td>\n",
       "      <td>0.857333</td>\n",
       "    </tr>\n",
       "    <tr>\n",
       "      <th>Panevėžys</th>\n",
       "      <td>0.146380</td>\n",
       "      <td>0.968331</td>\n",
       "      <td>0.009328</td>\n",
       "      <td>0.046277</td>\n",
       "      <td>0.386115</td>\n",
       "      <td>0.076787</td>\n",
       "    </tr>\n",
       "  </tbody>\n",
       "</table>\n",
       "</div>"
      ],
      "text/plain": [
       "                  U         V         W         X         Y         Z\n",
       "Miestai                                                              \n",
       "Vilnius    0.152870  0.969675  0.480424  0.241586  0.986391  0.301342\n",
       "Kaunas     0.457910  0.233163  0.129411  0.143683  0.774033  0.274547\n",
       "Klaipėda   0.495006  0.660995  0.373867  0.699804  0.963157  0.253637\n",
       "Šiauliai   0.000743  0.203814  0.257354  0.883320  0.883029  0.857333\n",
       "Panevėžys  0.146380  0.968331  0.009328  0.046277  0.386115  0.076787"
      ]
     },
     "execution_count": 59,
     "metadata": {},
     "output_type": "execute_result"
    }
   ],
   "source": [
    "df.set_index('Miestai')"
   ]
  },
  {
   "cell_type": "code",
   "execution_count": null,
   "metadata": {},
   "outputs": [],
   "source": []
  }
 ],
 "metadata": {
  "kernelspec": {
   "display_name": "Python 3",
   "language": "python",
   "name": "python3"
  },
  "language_info": {
   "codemirror_mode": {
    "name": "ipython",
    "version": 3
   },
   "file_extension": ".py",
   "mimetype": "text/x-python",
   "name": "python",
   "nbconvert_exporter": "python",
   "pygments_lexer": "ipython3",
   "version": "3.11.7"
  }
 },
 "nbformat": 4,
 "nbformat_minor": 2
}
